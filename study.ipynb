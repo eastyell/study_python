{
 "cells": [
  {
   "cell_type": "markdown",
   "metadata": {},
   "source": [
    "### Python类动态调用函数"
   ]
  },
  {
   "cell_type": "code",
   "execution_count": null,
   "metadata": {
    "pycharm": {
     "is_executing": true
    }
   },
   "outputs": [],
   "source": [
    "from types import MethodType\n",
    "\n",
    "class Cat(object):\n",
    "    def __int__(self):\n",
    "        super().__init__()\n",
    "\n",
    "def run(self):\n",
    "    print('cat is running!')\n",
    "\n",
    "def main():\n",
    "    cat01 = Cat()\n",
    "    cat01.run = MethodType(run, cat01)\n",
    "    cat01.run()\n",
    "\n",
    "if __name__ == '__main__':\n",
    "    main()"
   ]
  },
  {
   "cell_type": "markdown",
   "metadata": {},
   "source": [
    "### Python多线程"
   ]
  },
  {
   "cell_type": "code",
   "execution_count": 9,
   "metadata": {},
   "outputs": [
    {
     "name": "stdout",
     "output_type": "stream",
     "text": [
      "2023-02-23 14:15:06.869261\n",
      "张三\n"
     ]
    }
   ],
   "source": [
    "import time\n",
    "import threading\n",
    "\n",
    "class Mythread01(threading.Thread):\n",
    "    def __init__(self):\n",
    "        super(Mythread01, self).__init__()\n",
    "    def run(self):\n",
    "        while True:\n",
    "            now_time = datetime.datetime.now()\n",
    "            print(now_time)\n",
    "            time.sleep(1)\n",
    "\n",
    "class Mythread02(threading.Thread):\n",
    "    def __init__(self):\n",
    "        super(Mythread02, self).__init__()\n",
    "    def run(self):\n",
    "        while True:\n",
    "            print(\"张三\")\n",
    "            time.sleep(0.5)\n",
    "def main():\n",
    "    mt01 = Mythread01()\n",
    "    mt01.start()\n",
    "    mt02 = Mythread02()\n",
    "    mt02.start()\n",
    "\n",
    "if __name__==\"__main__\":\n",
    "    main()"
   ]
  },
  {
   "cell_type": "markdown",
   "metadata": {},
   "source": [
    "### 线程定时器使用"
   ]
  },
  {
   "cell_type": "code",
   "execution_count": 20,
   "metadata": {},
   "outputs": [
    {
     "name": "stdout",
     "output_type": "stream",
     "text": [
      "2023-02-23 14:54:04.346092\n",
      "2023-02-23 14:54:04.352784\n",
      "2023-02-23 14:54:04.352784\n",
      "2023-02-23 14:54:04.445138\n",
      "2023-02-23 14:54:04.445765\n",
      "2023-02-23 14:54:04.488039\n"
     ]
    }
   ],
   "source": [
    "import threading\n",
    "\n",
    "def run():\n",
    "    print(datetime.datetime.now())\n",
    "    r_t01 = threading.Timer(1, run)\n",
    "    r_t01.start()\n",
    "\n",
    "if __name__ ==  '__main__':\n",
    "    t01 = threading.Thread(target=run)\n",
    "    t01.start()"
   ]
  },
  {
   "cell_type": "markdown",
   "metadata": {},
   "source": [
    "### 列表排序"
   ]
  },
  {
   "cell_type": "code",
   "execution_count": 18,
   "metadata": {},
   "outputs": [
    {
     "name": "stdout",
     "output_type": "stream",
     "text": [
      "默认升序：  ['audi', 'bmw', 'subaru', 'toyota']\n",
      "降序：  ['toyota', 'subaru', 'bmw', 'audi']\n",
      "排序后返回新列表 ['audi', 'bmw', 'subaru', 'toyota']\n",
      "old cars ['toyota', 'subaru', 'bmw', 'audi']\n"
     ]
    }
   ],
   "source": [
    "cars = ['bmw', 'audi', 'toyota', 'subaru']\n",
    "cars.sort()  # 升序\n",
    "print('默认升序： ', cars)\n",
    "cars.sort(reverse=True) # 降序\n",
    "print('降序： ', cars)\n",
    "\n",
    "temp_cars = sorted(cars)  # 临时升序\n",
    "print('排序后返回新列表', temp_cars)\n",
    "print('old cars', cars)"
   ]
  },
  {
   "cell_type": "code",
   "execution_count": null,
   "metadata": {
    "pycharm": {
     "is_executing": true
    }
   },
   "outputs": [],
   "source": [
    "num =  [i for i in range(1, 11)]\n",
    "print('构造列表：', num)\n",
    "num.reverse()\n",
    "print('反转列表：', num)\n",
    "new_num = list(reversed(num))\n",
    "print('生成新的反转列表：', new_num)"
   ]
  },
  {
   "cell_type": "markdown",
   "metadata": {},
   "source": [
    "### 切片"
   ]
  },
  {
   "cell_type": "code",
   "execution_count": 2,
   "metadata": {},
   "outputs": [
    {
     "name": "stdout",
     "output_type": "stream",
     "text": [
      "[2, 4, 6, 8, 10]\n",
      "[2, 4, 6]\n",
      "[6, 8, 10]\n",
      "[2, 4, 6]\n",
      "步长为-1切片：列表反转 [10, 8, 6, 4, 2]\n",
      "步长为-2切片： [10, 6, 2]\n",
      "步长为2切片： [2, 6, 10]\n"
     ]
    }
   ],
   "source": [
    "even_numbers = list(range(2,11,2))\n",
    "print(even_numbers)\n",
    "print(even_numbers[:3])\n",
    "print(even_numbers[-3:])\n",
    "print(even_numbers[0:-2])\n",
    "print('步长为-1切片：列表反转', even_numbers[::-1])\n",
    "print('步长为-2切片：', even_numbers[::-2])\n",
    "print('步长为2切片：', even_numbers[::2])"
   ]
  },
  {
   "cell_type": "markdown",
   "metadata": {},
   "source": [
    "### 内部函数"
   ]
  },
  {
   "cell_type": "code",
   "execution_count": 7,
   "metadata": {},
   "outputs": [
    {
     "data": {
      "text/plain": [
       "{0: 'foo', 1: 'bar', 2: 'baz'}"
      ]
     },
     "execution_count": 7,
     "metadata": {},
     "output_type": "execute_result"
    }
   ],
   "source": [
    "some_list = ['foo', 'bar', 'baz']\n",
    "mapping = {}\n",
    "for i,v in enumerate(some_list):\n",
    "    mapping[i] = v\n",
    "mapping"
   ]
  },
  {
   "cell_type": "code",
   "execution_count": 95,
   "metadata": {},
   "outputs": [
    {
     "name": "stdout",
     "output_type": "stream",
     "text": [
      "Alabab\n",
      "baidu\n",
      "tengxun\n"
     ]
    }
   ],
   "source": [
    "import re\n",
    "states = ['  Alabab ', 'baidu@#!', 'teng%$@!xun']\n",
    "def remove_punctutation(value):\n",
    "    return  re.sub('[!#?@%$\" \"]', '', value)\n",
    "for x in map(remove_punctutation, states):\n",
    "    print(x)\n"
   ]
  },
  {
   "cell_type": "code",
   "execution_count": 105,
   "metadata": {},
   "outputs": [
    {
     "name": "stdout",
     "output_type": "stream",
     "text": [
      "20\n",
      "['aaa', 'foo', 'bar', 'card']\n"
     ]
    }
   ],
   "source": [
    "# 匿名函数 没有__name__属性\n",
    "equiv_anon = lambda y: y * 2\n",
    "print(equiv_anon(10))\n",
    "\n",
    "strings = ['foo', 'card', 'bar', 'aaa']\n",
    "strings.sort(key=lambda k: len(set(list(k))))\n",
    "print(strings)"
   ]
  },
  {
   "cell_type": "code",
   "execution_count": 50,
   "metadata": {},
   "outputs": [
    {
     "name": "stdout",
     "output_type": "stream",
     "text": [
      "[0, 3, 4, 8, 9, 32, -2, -5, -6, -20]\n"
     ]
    }
   ],
   "source": [
    "foo = [-5, 8, 0, 4, 9, -20, -2, 3, -6, 32]\n",
    "a = sorted(foo, key=lambda x:(x<-1, abs(x)))\n",
    "print(a)"
   ]
  },
  {
   "cell_type": "code",
   "execution_count": 51,
   "metadata": {},
   "outputs": [
    {
     "name": "stdout",
     "output_type": "stream",
     "text": [
      "['a', 'asd', 'ssdf', 'dfgfrty']\n"
     ]
    }
   ],
   "source": [
    "s = ['a', 'dfgfrty', 'ssdf', 'asd']\n",
    "sort_s = sorted(s, key=lambda x: len(x))\n",
    "print(sort_s)"
   ]
  },
  {
   "cell_type": "code",
   "execution_count": null,
   "metadata": {},
   "outputs": [],
   "source": [
    "s = 'sgjqsafgxvyiomsadf'\n",
    "s = set(s)\n",
    "l = list(s)\n",
    "l.sort()\n",
    "res = ''.join(l)\n",
    "print(res)"
   ]
  },
  {
   "cell_type": "code",
   "execution_count": 109,
   "metadata": {},
   "outputs": [
    {
     "name": "stdout",
     "output_type": "stream",
     "text": [
      "285\n",
      "{0: 0, 1: 1, 2: 4, 3: 9, 4: 16}\n"
     ]
    }
   ],
   "source": [
    "# 生成器表达式\n",
    "sum_value = sum(x ** 2 for x in range(10))\n",
    "print(sum_value)\n",
    "\n",
    "dict_value = dict((i, i **2) for i in range(5))\n",
    "print(dict_value)"
   ]
  },
  {
   "cell_type": "code",
   "execution_count": 6,
   "metadata": {},
   "outputs": [
    {
     "name": "stdout",
     "output_type": "stream",
     "text": [
      "列表中最大值\n",
      " 4\n"
     ]
    }
   ],
   "source": [
    "test = [1, 2, 3, 4, 2, 2, 3, 1, 4, 4, 4]\n",
    "print('列表中最大值\\n', max(set(test), key = test.count))"
   ]
  },
  {
   "cell_type": "markdown",
   "metadata": {},
   "source": [
    "### 将列表、元组或其他序列元素配对，新建一个元组构成列表"
   ]
  },
  {
   "cell_type": "code",
   "execution_count": 3,
   "metadata": {},
   "outputs": [
    {
     "name": "stdout",
     "output_type": "stream",
     "text": [
      "[('one', 'foo'), ('two', 'bar'), ('three', 'baz')]\n"
     ]
    },
    {
     "data": {
      "text/plain": "(('one', 'two', 'three'), ('foo', 'bar', 'baz'))"
     },
     "execution_count": 3,
     "metadata": {},
     "output_type": "execute_result"
    }
   ],
   "source": [
    "seq1 = ['one', 'two', 'three']\n",
    "seq2 = ['foo', 'bar', 'baz']\n",
    "zipped = zip(seq1, seq2)\n",
    "zipped_list = list(zipped)\n",
    "print(zipped_list)\n",
    "nums, names = zip(*zipped_list)\n",
    "nums, names\n"
   ]
  },
  {
   "cell_type": "markdown",
   "metadata": {},
   "source": [
    "### 字典"
   ]
  },
  {
   "cell_type": "code",
   "execution_count": 29,
   "metadata": {},
   "outputs": [
    {
     "data": {
      "text/plain": [
       "{'one': 'foo', 'two': 'bar', 'three': 'baz'}"
      ]
     },
     "execution_count": 29,
     "metadata": {},
     "output_type": "execute_result"
    }
   ],
   "source": [
    "mapping = {}\n",
    "seq1 = ['one', 'two', 'three']\n",
    "seq2 = ['foo', 'bar', 'baz']\n",
    "for key, value in zip(seq1, seq2):\n",
    "    mapping[key] = value\n",
    "mapping"
   ]
  },
  {
   "cell_type": "code",
   "execution_count": 38,
   "metadata": {},
   "outputs": [
    {
     "data": {
      "text/plain": [
       "{0: 5, 1: 4, 2: 3, 3: 2, 4: 1}"
      ]
     },
     "execution_count": 38,
     "metadata": {},
     "output_type": "execute_result"
    }
   ],
   "source": [
    "mapping = dict(zip(range(5), reversed(range(1, 6))))\n",
    "mapping"
   ]
  },
  {
   "cell_type": "code",
   "execution_count": 110,
   "metadata": {},
   "outputs": [
    {
     "data": {
      "text/plain": [
       "{'a': ['appale'], 'b': ['bat', 'bar'], 'c': ['cook']}"
      ]
     },
     "execution_count": 110,
     "metadata": {},
     "output_type": "execute_result"
    }
   ],
   "source": [
    "# value = some_dict.get(key, default_value)\n",
    "\n",
    "by_letter = {}\n",
    "words = ['appale', 'bat', 'bar', 'cook']\n",
    "for word in words:\n",
    "    letter = word[0]\n",
    "    by_letter.setdefault(letter,[]).append(word)\n",
    "by_letter"
   ]
  },
  {
   "cell_type": "code",
   "execution_count": 54,
   "metadata": {},
   "outputs": [
    {
     "name": "stdout",
     "output_type": "stream",
     "text": [
      "sorted根据字典建排序： [('age', 18), ('city', '深圳'), ('name', 'ZS'), ('tel', '13748727649')]\n"
     ]
    }
   ],
   "source": [
    "# 字典根据键从小到大排序\n",
    "dict = {'name': 'ZS', 'age': 18, 'city': '深圳', 'tel': '13748727649'}\n",
    "# e表示dict.items()中的一个元素，e[1],则表示按值排序,如果把e[1]改成e[0],那么则是按键排序\n",
    "lists = sorted(dict.items(), key=lambda e:e[0], reverse=False)\n",
    "print('sorted根据字典建排序：', lists)"
   ]
  },
  {
   "cell_type": "markdown",
   "metadata": {},
   "source": [
    "### 列表推导式"
   ]
  },
  {
   "cell_type": "code",
   "execution_count": 53,
   "metadata": {},
   "outputs": [
    {
     "name": "stdout",
     "output_type": "stream",
     "text": [
      "['BOOK']\n",
      "{0: 'a', 1: 'book', 2: 'car', 3: 'bat'}\n"
     ]
    }
   ],
   "source": [
    "strings = ['a', 'book', 'car', 'bat']\n",
    "mapping =  [x.upper() for x in strings if len(x) > 3]\n",
    "print(mapping)\n",
    "loc_mapping = {index: val for index, val in enumerate(strings)}\n",
    "print(loc_mapping)"
   ]
  },
  {
   "cell_type": "code",
   "execution_count": 62,
   "metadata": {},
   "outputs": [
    {
     "data": {
      "text/plain": [
       "['a', 'car', 'bat']"
      ]
     },
     "execution_count": 62,
     "metadata": {},
     "output_type": "execute_result"
    }
   ],
   "source": [
    "# 嵌套列表推导式\n",
    "strings = [['a', 'book'], ['car', 'bat']]\n",
    "result = [name for names in strings for name in names if name.count('a') >= 1]\n",
    "result"
   ]
  },
  {
   "cell_type": "code",
   "execution_count": 13,
   "metadata": {},
   "outputs": [
    {
     "data": {
      "text/plain": "[16, 25]"
     },
     "execution_count": 13,
     "metadata": {},
     "output_type": "execute_result"
    }
   ],
   "source": [
    "lists = [i for i in range(1,6)]\n",
    "# result = map(lambda x: x**2, lists)\n",
    "result = map(lambda x: x**2, range(1, 6))\n",
    "result = [i for i in result if i > 10]\n",
    "result"
   ]
  },
  {
   "cell_type": "code",
   "execution_count": 4,
   "metadata": {},
   "outputs": [
    {
     "name": "stdout",
     "output_type": "stream",
     "text": [
      "['苏州', '中国', '哈哈', '无数据', '日本', '无数据', '英国']\n"
     ]
    }
   ],
   "source": [
    "a = ['苏州', '中国', '哈哈', '','日本', '','英国']\n",
    "res = list(map(lambda x:'无数据' if x=='' else x,a))\n",
    "print(res)"
   ]
  },
  {
   "cell_type": "code",
   "execution_count": 36,
   "metadata": {},
   "outputs": [
    {
     "name": "stdout",
     "output_type": "stream",
     "text": [
      "[1, 3, 5, 7, 9]\n",
      "[1, 3, 5, 7, 9]\n"
     ]
    }
   ],
   "source": [
    "a = [i for i in range(1,11)]\n",
    "res = [i for i in a if i%2==1]\n",
    "print(res)\n",
    "\n",
    "a = [i for i in range(1,11)]\n",
    "newlist = filter(lambda x: x%2==1, a)\n",
    "newlist = [i for i in newlist]\n",
    "print(newlist)"
   ]
  },
  {
   "cell_type": "markdown",
   "metadata": {},
   "source": [
    "### 全局变量"
   ]
  },
  {
   "cell_type": "code",
   "execution_count": 78,
   "metadata": {},
   "outputs": [
    {
     "name": "stdout",
     "output_type": "stream",
     "text": [
      "[1, 2]\n"
     ]
    }
   ],
   "source": [
    "a = []\n",
    "def test():\n",
    "    global a\n",
    "    a = [1,2]\n",
    "test()\n",
    "print(a)"
   ]
  },
  {
   "cell_type": "code",
   "execution_count": 42,
   "metadata": {},
   "outputs": [
    {
     "name": "stdout",
     "output_type": "stream",
     "text": [
      "2023-02-28 14:33:06 星期2\n"
     ]
    }
   ],
   "source": [
    "import datetime\n",
    "print(str(datetime.datetime.now().strftime('%Y-%m-%d %H:%M:%S')) + ' 星期' + str(datetime.datetime.now().isoweekday()))"
   ]
  },
  {
   "cell_type": "markdown",
   "metadata": {},
   "source": [
    "### 正则表达式"
   ]
  },
  {
   "cell_type": "code",
   "execution_count": 44,
   "metadata": {},
   "outputs": [
    {
     "name": "stdout",
     "output_type": "stream",
     "text": [
      "贪婪匹配 ['哈哈</a><a>嘿嘿']\n",
      "非贪婪匹配 ['哈哈', '嘿嘿']\n"
     ]
    }
   ],
   "source": [
    "# (.*) 贪婪匹配，会把满足正则的尽可能多的往后匹配\n",
    "# （。*？）非贪婪匹配，会把满足正则的尽可能少匹配\n",
    "import re\n",
    "s = '<a>哈哈</a><a>嘿嘿</a>'\n",
    "res1 = re.findall('<a>(.*)</a>', s)\n",
    "print('贪婪匹配', res1)\n",
    "res2 = re.findall('<a>(.*?)</a>', s)\n",
    "print('非贪婪匹配', res2)"
   ]
  },
  {
   "cell_type": "code",
   "execution_count": 46,
   "metadata": {},
   "outputs": [
    {
     "name": "stdout",
     "output_type": "stream",
     "text": [
      "李俊100分\n",
      "*95*\n"
     ]
    }
   ],
   "source": [
    "import re\n",
    "a = '李俊95分'\n",
    "ret = re.sub(r'\\d+', '100', a)  # \\d数字   \\D非数字字符\n",
    "print(ret)\n",
    "ret = re.sub(r'\\D+', '*', a)\n",
    "print(ret)"
   ]
  },
  {
   "cell_type": "code",
   "execution_count": 52,
   "metadata": {},
   "outputs": [
    {
     "name": "stdout",
     "output_type": "stream",
     "text": [
      "['info', 'xiaoZhang', '23', 'shanghai']\n"
     ]
    }
   ],
   "source": [
    "s = 'info:xiaoZhang 23 shanghai'\n",
    "res = re.split(r':| ', s)\n",
    "print(res)"
   ]
  },
  {
   "cell_type": "markdown",
   "metadata": {},
   "source": [
    "### 装饰器"
   ]
  },
  {
   "cell_type": "code",
   "execution_count": 62,
   "metadata": {},
   "outputs": [
    {
     "name": "stdout",
     "output_type": "stream",
     "text": [
      "155\n"
     ]
    }
   ],
   "source": [
    "def net_weight(peel):\n",
    "    def outwrapper(f):\n",
    "        def wrapper(*args, **kwargs):\n",
    "            now_weight = f(*args, **kwargs)\n",
    "            return now_weight-peel\n",
    "        return wrapper\n",
    "    return outwrapper\n",
    "\n",
    "@net_weight(5)\n",
    "def weight(n):\n",
    "    return n\n",
    "print(weight(160))\n"
   ]
  },
  {
   "cell_type": "code",
   "execution_count": 66,
   "metadata": {},
   "outputs": [
    {
     "name": "stdout",
     "output_type": "stream",
     "text": [
      "Something is happening before the function is called.\n",
      "Whee!\n",
      "Something is happening after the function is called.\n"
     ]
    }
   ],
   "source": [
    "def my_decorator(func):\n",
    "    def wrapper():\n",
    "        print(\"Something is happening before the function is called.\")\n",
    "        func()\n",
    "        print(\"Something is happening after the function is called.\")\n",
    "    return wrapper\n",
    "\n",
    "@my_decorator\n",
    "def say_whee():\n",
    "    print(\"Whee!\")\n",
    "\n",
    "say_whee()"
   ]
  },
  {
   "cell_type": "code",
   "execution_count": 82,
   "metadata": {},
   "outputs": [
    {
     "name": "stdout",
     "output_type": "stream",
     "text": [
      "Hello world\n",
      "Hello world\n"
     ]
    }
   ],
   "source": [
    "def do_twice(func):\n",
    "    def wrapper_do_twice(*args, **kwargs):\n",
    "        func(*args, **kwargs)\n",
    "        func(*args, **kwargs)\n",
    "    return wrapper_do_twice\n",
    "\n",
    "@do_twice\n",
    "def greet(word):\n",
    "    print(\"Hello\", word)\n",
    "\n",
    "greet('world')"
   ]
  },
  {
   "cell_type": "code",
   "execution_count": 87,
   "metadata": {},
   "outputs": [
    {
     "name": "stdout",
     "output_type": "stream",
     "text": [
      "func three run time 1.0116841793060303\n",
      "func three run time 1.0080668926239014\n",
      "func three run time 1.0161490440368652\n"
     ]
    }
   ],
   "source": [
    "from time import sleep, time\n",
    "def run_time(func):\n",
    "    def wrapper():\n",
    "        start = time()\n",
    "        func()                  # 函数在这里运行\n",
    "        end = time()\n",
    "        cost_time = end - start\n",
    "        print(\"func three run time {}\".format(cost_time))\n",
    "    return wrapper\n",
    "\n",
    "@run_time\n",
    "def fun_one():\n",
    "    sleep(1)\n",
    "\n",
    "@run_time\n",
    "def fun_two():\n",
    "    sleep(1)\n",
    "\n",
    "@run_time\n",
    "def fun_three():\n",
    "    sleep(1)\n",
    "\n",
    "fun_one()\n",
    "fun_two()\n",
    "fun_three()\n"
   ]
  },
  {
   "cell_type": "code",
   "execution_count": 90,
   "metadata": {},
   "outputs": [
    {
     "name": "stdout",
     "output_type": "stream",
     "text": [
      "[One] func three run time 1.0048027038574219\n",
      "[Two] func three run time 1.0476858615875244\n",
      "[Three] func three run time 1.123077392578125\n"
     ]
    }
   ],
   "source": [
    "def logger(msg=None):\n",
    "    def run_time(func):\n",
    "        def wrapper(*args, **kwargs):\n",
    "            start = time()\n",
    "            func()                  # 函数在这里运行\n",
    "            end = time()\n",
    "            cost_time = end - start\n",
    "            print(\"[{}] func three run time {}\".format(msg, cost_time))\n",
    "        return wrapper\n",
    "    return run_time\n",
    "\n",
    "@logger(msg=\"One\")\n",
    "def fun_one():\n",
    "    sleep(1)\n",
    "\n",
    "@logger(msg=\"Two\")\n",
    "def fun_two():\n",
    "    sleep(1)\n",
    "\n",
    "@logger(msg=\"Three\")\n",
    "def fun_three():\n",
    "    sleep(1)\n",
    "\n",
    "fun_one()\n",
    "fun_two()\n",
    "fun_three()"
   ]
  },
  {
   "cell_type": "markdown",
   "metadata": {},
   "source": [
    "### Numpy"
   ]
  },
  {
   "cell_type": "code",
   "execution_count": 12,
   "metadata": {},
   "outputs": [
    {
     "name": "stdout",
     "output_type": "stream",
     "text": [
      "10以内数字 [0 1 2 3 4 5 6 7 8 9]\n",
      "转换为数组ndarray [ 6  8 11 56]\n",
      "生成2行3列（0，1）之间的随机浮点数 [[0.02587001 0.54467509 0.073984  ]\n",
      " [0.08708781 0.57657104 0.60002732]]\n",
      "生成2行3列（0，1）之间的随机浮点数 [[0.28652185 0.24804672 0.77937842]\n",
      " [0.62350855 0.19191479 0.50085895]]\n",
      "从标准正态分布中返回2行3列样本 [[-0.33980926 -0.61895177 -0.51235467]\n",
      " [-0.89042735  0.72145948 -0.43739264]]\n",
      "生成1和10之间5个随机整数 [4 3 5 2 7]\n"
     ]
    }
   ],
   "source": [
    "import numpy as np\n",
    "my_arr1 = np.arange(10)\n",
    "print('10以内数字', my_arr1)\n",
    "\n",
    "my_arr2 = np.array([6, 8, 11, 56])\n",
    "print('转换为数组ndarray', my_arr2)\n",
    "\n",
    "c = np.random.random([2,3])\n",
    "print('生成2行3列（0，1）之间的随机浮点数', c)\n",
    "\n",
    "c = np.random.rand(2,3)\n",
    "print('生成2行3列（0，1）之间的随机浮点数', c)\n",
    "\n",
    "c = np.random.randn(2,3)\n",
    "print('从标准正态分布中返回2行3列样本', c)\n",
    "\n",
    "c = np.random.randint(1,10, 5)\n",
    "print('生成1和10之间5个随机整数', c)"
   ]
  },
  {
   "cell_type": "code",
   "execution_count": 29,
   "metadata": {},
   "outputs": [
    {
     "name": "stdout",
     "output_type": "stream",
     "text": [
      "[ True False  True False]\n",
      "[[-1.33960847 -0.22666182  1.23156514 -1.24563695 -0.07125614 -0.30965735]\n",
      " [ 0.46874413  1.86304442  0.06595991 -1.52379726 -0.64644101 -2.01346949]\n",
      " [ 0.33250802 -1.56745504 -0.28305478  0.63313373  0.07933091 -0.37173916]\n",
      " [-1.14582136 -0.27625952  0.38248787  0.45093367  0.72408545 -1.00202403]]\n",
      "names == “Bob” [[-1.33960847 -0.22666182  1.23156514 -1.24563695 -0.07125614 -0.30965735]\n",
      " [ 0.33250802 -1.56745504 -0.28305478  0.63313373  0.07933091 -0.37173916]]\n",
      "负数修改为0 [[0.         0.         1.23156514 0.         0.         0.        ]\n",
      " [0.46874413 1.86304442 0.06595991 0.         0.         0.        ]\n",
      " [0.33250802 0.         0.         0.63313373 0.07933091 0.        ]\n",
      " [0.         0.         0.38248787 0.45093367 0.72408545 0.        ]]\n"
     ]
    }
   ],
   "source": [
    "names = np.array(['Bob', 'Will', 'Bob', 'Jason'])\n",
    "print(names == 'Bob')\n",
    "data = np.random.randn(4,6)\n",
    "print(data)\n",
    "print('names == “Bob”', data[names == 'Bob'])\n",
    "data[data<0] = 0\n",
    "print('负数修改为0', data)"
   ]
  },
  {
   "cell_type": "code",
   "execution_count": 39,
   "metadata": {},
   "outputs": [
    {
     "data": {
      "text/plain": [
       "array([[0., 0., 0., 0.],\n",
       "       [1., 1., 1., 1.],\n",
       "       [2., 2., 2., 2.],\n",
       "       [3., 3., 3., 3.],\n",
       "       [4., 4., 4., 4.],\n",
       "       [5., 5., 5., 5.],\n",
       "       [6., 6., 6., 6.],\n",
       "       [7., 7., 7., 7.]])"
      ]
     },
     "execution_count": 39,
     "metadata": {},
     "output_type": "execute_result"
    }
   ],
   "source": [
    "arr = np.empty((8,4))\n",
    "for i in range(8):\n",
    "    arr[i] = i\n",
    "arr"
   ]
  },
  {
   "cell_type": "code",
   "execution_count": 50,
   "metadata": {},
   "outputs": [
    {
     "name": "stdout",
     "output_type": "stream",
     "text": [
      "[[ 0  1  2  3]\n",
      " [ 4  5  6  7]\n",
      " [ 8  9 10 11]\n",
      " [12 13 14 15]\n",
      " [16 17 18 19]\n",
      " [20 21 22 23]\n",
      " [24 25 26 27]\n",
      " [28 29 30 31]]\n",
      "转置 [[ 0  4  8 12 16 20 24 28]\n",
      " [ 1  5  9 13 17 21 25 29]\n",
      " [ 2  6 10 14 18 22 26 30]\n",
      " [ 3  7 11 15 19 23 27 31]]\n"
     ]
    }
   ],
   "source": [
    "# 数组转置和换轴\n",
    "arr = np.arange(32).reshape((8,4))\n",
    "print(arr)\n",
    "print('转置', arr.T)"
   ]
  },
  {
   "cell_type": "code",
   "execution_count": 60,
   "metadata": {},
   "outputs": [
    {
     "name": "stdout",
     "output_type": "stream",
     "text": [
      "[1.1 2.2 2.3]\n",
      "[[-0.29115256  0.39941844  0.21191714  0.33768984]\n",
      " [ 0.43897453  0.83862097 -0.1854524   1.24083245]\n",
      " [ 0.22088595  0.86535784  0.49284012 -1.58555209]\n",
      " [-0.22969013 -0.5346827  -0.97926481 -1.36777828]]\n",
      "[[False  True  True  True]\n",
      " [ True  True False  True]\n",
      " [ True  True  True False]\n",
      " [False False False False]]\n",
      "小于0的置为0 [[0.         0.39941844 0.21191714 0.33768984]\n",
      " [0.43897453 0.83862097 0.         1.24083245]\n",
      " [0.22088595 0.86535784 0.49284012 0.        ]\n",
      " [0.         0.         0.         0.        ]]\n"
     ]
    }
   ],
   "source": [
    "# 数组操作\n",
    "xarr = np.array([1.1, 1.2, 1.3])\n",
    "yarr = np.array([2.1, 2.2, 2.3])\n",
    "cond = np.array([True, False, False])\n",
    "result = np.where(cond, xarr, yarr)\n",
    "print(result)\n",
    "\n",
    "arr = np.random.randn(4, 4)\n",
    "print(arr)\n",
    "print(arr>0)\n",
    "print('小于0的置为0', np.where(arr<0, 0, arr))"
   ]
  },
  {
   "cell_type": "markdown",
   "metadata": {},
   "source": [
    "### 随机漫步"
   ]
  },
  {
   "cell_type": "code",
   "execution_count": 7,
   "metadata": {},
   "outputs": [
    {
     "data": {
      "text/plain": "[<matplotlib.lines.Line2D at 0x19a61760>]"
     },
     "execution_count": 7,
     "metadata": {},
     "output_type": "execute_result"
    },
    {
     "data": {
      "text/plain": "<Figure size 640x480 with 1 Axes>",
      "image/png": "[encoded data removed]"
     },
     "metadata": {},
     "output_type": "display_data"
    }
   ],
   "source": [
    "import random\n",
    "import matplotlib.pyplot as plt\n",
    "position = 0\n",
    "walk = [position]\n",
    "steps = 1000\n",
    "for i in range(steps):\n",
    "    step = 1 if random.randint(0,1) else -1\n",
    "    position += step\n",
    "    walk.append(position)\n",
    "\n",
    "plt.plot(walk[:100])\n"
   ]
  },
  {
   "cell_type": "markdown",
   "metadata": {},
   "source": [
    "### pandas"
   ]
  },
  {
   "cell_type": "code",
   "execution_count": 11,
   "metadata": {},
   "outputs": [
    {
     "data": {
      "text/plain": [
       "语文    75\n",
       "数学    85\n",
       "dtype: int64"
      ]
     },
     "execution_count": 11,
     "metadata": {},
     "output_type": "execute_result"
    }
   ],
   "source": [
    "import pandas as pd\n",
    "# Series 具有索引的一维数组型对象\n",
    "obj = pd.Series([75,85,96], index=['语文', '数学', '外语'])\n",
    "obj[['语文','数学']]"
   ]
  },
  {
   "cell_type": "code",
   "execution_count": 63,
   "metadata": {},
   "outputs": [
    {
     "name": "stdout",
     "output_type": "stream",
     "text": [
      "    语文  数学  外语\n",
      "张三  87  85  93\n",
      "李四  67  95  82\n",
      "王五  86  75  81\n",
      "物理\n",
      " 张三    67\n",
      "李四    67\n",
      "王五    67\n",
      "小米    87\n",
      "Name: 物理, dtype: object\n",
      "平均分:\n",
      " 张三    88.333333\n",
      "李四    81.333333\n",
      "王五    80.666667\n",
      "小米    78.000000\n",
      "dtype: float64\n",
      "统计列的均值：\n",
      " 语文    79.500000\n",
      "数学    85.000000\n",
      "外语    85.333333\n",
      "dtype: float64\n"
     ]
    },
    {
     "name": "stderr",
     "output_type": "stream",
     "text": [
      "C:\\Users\\win\\AppData\\Local\\Temp\\ipykernel_7796\\603763523.py:13: FutureWarning: The frame.append method is deprecated and will be removed from pandas in a future version. Use pandas.concat instead.\n",
      "  frame.append({'语文': 88, '数学': 93, '物理': 87}, ignore_index=True)\n",
      "C:\\Users\\win\\AppData\\Local\\Temp\\ipykernel_7796\\603763523.py:15: FutureWarning: The frame.append method is deprecated and will be removed from pandas in a future version. Use pandas.concat instead.\n",
      "  df = frame.append(pd.DataFrame({'语文': 78, '物理': 87}, index=['小米',]), sort=False)\n",
      "C:\\Users\\win\\AppData\\Local\\Temp\\ipykernel_7796\\603763523.py:17: FutureWarning: Dropping of nuisance columns in DataFrame reductions (with 'numeric_only=None') is deprecated; in a future version this will raise TypeError.  Select only valid columns before calling the reduction.\n",
      "  print('平均分:\\n', df.mean(axis=1))\n",
      "D:\\python\\project\\study\\venv\\Lib\\site-packages\\numpy\\core\\fromnumeric.py:3462: FutureWarning: In a future version, DataFrame.mean(axis=None) will return a scalar mean over the entire DataFrame. To retain the old behavior, use 'frame.mean(axis=0)' or just 'frame.mean()'\n",
      "  return mean(axis=axis, dtype=dtype, out=out, **kwargs)\n",
      "D:\\python\\project\\study\\venv\\Lib\\site-packages\\numpy\\core\\fromnumeric.py:3462: FutureWarning: The default value of numeric_only in DataFrame.mean is deprecated. In a future version, it will default to False. In addition, specifying 'numeric_only=None' is deprecated. Select only valid columns or specify the value of numeric_only to silence this warning.\n",
      "  return mean(axis=axis, dtype=dtype, out=out, **kwargs)\n"
     ]
    },
    {
     "data": {
      "text/plain": "              语文    数学         外语\ncount   3.000000   3.0   3.000000\nmean   80.000000  85.0  85.333333\nstd    11.269428  10.0   6.658328\nmin    67.000000  75.0  81.000000\n25%    76.500000  80.0  81.500000\n50%    86.000000  85.0  82.000000\n75%    86.500000  90.0  87.500000\nmax    87.000000  95.0  93.000000",
      "text/html": "<div>\n<style scoped>\n    .dataframe tbody tr th:only-of-type {\n        vertical-align: middle;\n    }\n\n    .dataframe tbody tr th {\n        vertical-align: top;\n    }\n\n    .dataframe thead th {\n        text-align: right;\n    }\n</style>\n<table border=\"1\" class=\"dataframe\">\n  <thead>\n    <tr style=\"text-align: right;\">\n      <th></th>\n      <th>语文</th>\n      <th>数学</th>\n      <th>外语</th>\n    </tr>\n  </thead>\n  <tbody>\n    <tr>\n      <th>count</th>\n      <td>3.000000</td>\n      <td>3.0</td>\n      <td>3.000000</td>\n    </tr>\n    <tr>\n      <th>mean</th>\n      <td>80.000000</td>\n      <td>85.0</td>\n      <td>85.333333</td>\n    </tr>\n    <tr>\n      <th>std</th>\n      <td>11.269428</td>\n      <td>10.0</td>\n      <td>6.658328</td>\n    </tr>\n    <tr>\n      <th>min</th>\n      <td>67.000000</td>\n      <td>75.0</td>\n      <td>81.000000</td>\n    </tr>\n    <tr>\n      <th>25%</th>\n      <td>76.500000</td>\n      <td>80.0</td>\n      <td>81.500000</td>\n    </tr>\n    <tr>\n      <th>50%</th>\n      <td>86.000000</td>\n      <td>85.0</td>\n      <td>82.000000</td>\n    </tr>\n    <tr>\n      <th>75%</th>\n      <td>86.500000</td>\n      <td>90.0</td>\n      <td>87.500000</td>\n    </tr>\n    <tr>\n      <th>max</th>\n      <td>87.000000</td>\n      <td>95.0</td>\n      <td>93.000000</td>\n    </tr>\n  </tbody>\n</table>\n</div>"
     },
     "execution_count": 63,
     "metadata": {},
     "output_type": "execute_result"
    }
   ],
   "source": [
    "import pandas as df\n",
    "import numpy as np\n",
    "\n",
    "index = ['张三', '李四', '王五']\n",
    "\n",
    "data = {'语文': [87, 67, 86],\n",
    "        '数学': [85, 95, 75],\n",
    "        '外语': [93, 82, 81]\n",
    "    }\n",
    "frame = pd.DataFrame(data, index=index)\n",
    "print(frame)\n",
    "frame['物理'] = '67'\n",
    "frame.append({'语文': 88, '数学': 93, '物理': 87}, ignore_index=True)\n",
    "# print(frame)\n",
    "df = frame.append(pd.DataFrame({'语文': 78, '物理': 87}, index=['小米',]), sort=False)\n",
    "print('物理\\n',df.物理)\n",
    "print('平均分:\\n', df.mean(axis=1))\n",
    "print('统计列的均值：\\n', np.mean(df))\n",
    "\n",
    "frame.describe()"
   ]
  },
  {
   "cell_type": "code",
   "execution_count": 57,
   "metadata": {},
   "outputs": [
    {
     "name": "stdout",
     "output_type": "stream",
     "text": [
      "     班级  姓名  语文  数学  外语  物理\n",
      "0  九（6）  张三  78  88  90  88\n",
      "1   NaN  李四  88  78  89  67\n",
      "2  九（2）  王明  87  95  78  83\n",
      "3   NaN  赵凯  67  67  85  85\n",
      "     班级  姓名  语文  数学  外语  物理\n",
      "0  九（6）  张三  78  88  90  88\n",
      "1   NaN  李四  88  78  89  67\n",
      "2  九（2）  王明  87  95  78  83\n",
      "3   NaN  赵凯  67  67  85  85\n",
      "                    班级\n",
      "0    班级,姓名,语文,数学,外语,物理\n",
      "1  九（6）,张三,78,88,90,88\n",
      "2      ,李四,88,78,89,67\n",
      "3  九（2）,王明,87,95,78,83\n",
      "4      ,赵凯,67,67,85,85\n",
      "                     姓名\n",
      "班级                     \n",
      "班级,姓名,语文,数学,外语,物理   NaN\n",
      "九（6）,张三,78,88,90,88 NaN\n",
      ",李四,88,78,89,67     NaN\n",
      "九（2）,王明,87,95,78,83 NaN\n",
      ",赵凯,67,67,85,85     NaN\n"
     ]
    }
   ],
   "source": [
    "import pandas as pd\n",
    "df1 = pd.read_csv('ex1.csv', encoding='gbk')\n",
    "print(df1)\n",
    "df2 = pd.read_table('ex1.csv', sep=',', encoding='gbk')\n",
    "print(df2)\n",
    "df3 = pd.read_table('ex1.csv', names=['班级'], encoding='gbk')\n",
    "print(df3)\n",
    "names = ['班级','姓名']\n",
    "df4 = pd.read_table('ex1.csv', names = names ,index_col='班级', encoding='gbk')\n",
    "print(df4)"
   ]
  },
  {
   "cell_type": "code",
   "execution_count": 1,
   "outputs": [
    {
     "name": "stdout",
     "output_type": "stream",
     "text": [
      "json.loads {'name': ['jason', 'Jack'], 'places_lived': ['shanghai', 'beijing'], 'sibings': [{'name': 'Scott', 'age': 30}, {'name': 'Marry', 'age': 40}]}\n",
      "json.dumps {\"name\": [\"jason\", \"Jack\"], \"places_lived\": [\"shanghai\", \"beijing\"], \"sibings\": [{\"name\": \"Scott\", \"age\": 30}, {\"name\": \"Marry\", \"age\": 40}]}\n",
      "DataFrame from json \n",
      "     name places_lived                       sibings\n",
      "0  jason     shanghai  {'name': 'Scott', 'age': 30}\n",
      "1   Jack      beijing  {'name': 'Marry', 'age': 40}\n",
      "json export to pandas \n",
      " <bound method NDFrame.to_json of     name places_lived                       sibings\n",
      "0  jason     shanghai  {'name': 'Scott', 'age': 30}\n",
      "1   Jack      beijing  {'name': 'Marry', 'age': 40}>\n"
     ]
    }
   ],
   "source": [
    "import pandas as pd\n",
    "import json\n",
    "obj = \"\"\"\n",
    "       {\"name\": [\"jason\", \"Jack\"],\n",
    "       \"places_lived\": [\"shanghai\", \"beijing\"],\n",
    "       \"sibings\": [{\"name\": \"Scott\", \"age\": 30},\n",
    "                   {\"name\": \"Marry\", \"age\": 40}]\n",
    "}\"\"\"\n",
    "result = json.loads(obj)\n",
    "print('json.loads', result)\n",
    "asjson = json.dumps(result)\n",
    "print('json.dumps',asjson)\n",
    "myobj = pd.DataFrame(result)\n",
    "print(\"DataFrame from json\", \"\\n\", myobj)\n",
    "print('json export to pandas', \"\\n\", myobj.to_json)"
   ],
   "metadata": {
    "collapsed": false
   }
  },
  {
   "cell_type": "markdown",
   "metadata": {},
   "source": [
    "#### map映射数据转换"
   ]
  },
  {
   "cell_type": "code",
   "execution_count": 1,
   "metadata": {},
   "outputs": [
    {
     "name": "stdout",
     "output_type": "stream",
     "text": [
      "0          bacon\n",
      "1    pulled pork\n",
      "2          bacon\n",
      "Name: food, dtype: object\n",
      "          food  ounces animal\n",
      "0        bacon       4    pig\n",
      "1  pulled pork       3    dog\n",
      "2        bacon      12    pig\n"
     ]
    }
   ],
   "source": [
    "import pandas as pd\n",
    "data = pd.DataFrame({\n",
    "    'food': ['bacon', 'pulled pork', 'bacon'],\n",
    "    'ounces': [4, 3, 12]\n",
    "})\n",
    "\n",
    "meat_to_animal = {\n",
    "    'bacon': 'pig',\n",
    "    'pulled pork': 'dog',\n",
    "    'bacon': 'pig'\n",
    "}\n",
    "\n",
    "lowercased = data['food'].str.lower()\n",
    "print(lowercased)\n",
    "\n",
    "data['animal'] =  lowercased.map(meat_to_animal)\n",
    "\n",
    "print(data)"
   ]
  },
  {
   "cell_type": "markdown",
   "metadata": {},
   "source": [
    "#### 缺失值处理"
   ]
  },
  {
   "cell_type": "code",
   "execution_count": 47,
   "metadata": {},
   "outputs": [
    {
     "name": "stdout",
     "output_type": "stream",
     "text": [
      "      0     1    2    3\n",
      "0  23.0  67.0  NaN  NaN\n",
      "1   1.0   3.0  9.0  5.0\n",
      "2   NaN   NaN  NaN  NaN\n",
      "删除有空的行\n",
      "      0    1    2    3\n",
      "1  1.0  3.0  9.0  5.0\n",
      "删除全部空值的行\n",
      "       0     1    2    3\n",
      "0  23.0  67.0  NaN  NaN\n",
      "1   1.0   3.0  9.0  5.0\n",
      "缺失值填充0\n",
      "       0     1    2    3\n",
      "0  23.0  67.0  0.0  0.0\n",
      "1   1.0   3.0  9.0  5.0\n",
      "2   0.0   0.0  0.0  0.0\n",
      "对列填充缺失值\n",
      "       0     1    2    3\n",
      "0  23.0  67.0  0.0  NaN\n",
      "1   1.0   3.0  9.0  5.0\n",
      "2   NaN  -1.0  0.0  NaN\n",
      "缺失值默认-999        0      1      2      3\n",
      "0   23.0   67.0 -999.0 -999.0\n",
      "1    1.0    3.0    9.0    5.0\n",
      "2 -999.0 -999.0 -999.0 -999.0\n",
      "不同值替换不同值        0      1      2      3\n",
      "0   23.0   67.0 -999.0 -999.0\n",
      "1  999.0    3.0    9.0    5.0\n",
      "2 -999.0 -999.0 -999.0 -999.0\n"
     ]
    }
   ],
   "source": [
    "from numpy import nan as NA\n",
    "string_data = pd.DataFrame([[23, 67, NA ,None],[1, 3, 9, 5], [NA, NA, None, None]])\n",
    "print(string_data)\n",
    "fill_data = string_data.dropna()\n",
    "print('删除有空的行\\n', fill_data)\n",
    "fill_data = string_data.dropna(how='all')\n",
    "print('删除全部空值的行\\n', fill_data)\n",
    "\n",
    "fillna = string_data.fillna(0)  # string_data.fillna(0, inplace==True) 修改自己\n",
    "print('缺失值填充0\\n', fillna)\n",
    "\n",
    "fillna = string_data.fillna({1: -1, 2: 0})\n",
    "print('对列填充缺失值\\n', fillna)\n",
    "\n",
    "replace_data = string_data.replace([NA,-1], -999)  # NA或者-1\n",
    "print('缺失值默认-999', replace_data)\n",
    "\n",
    "replace_data = string_data.replace({NA: -999, 1: 999})  # NA或者-1\n",
    "print('不同值替换不同值', replace_data)\n"
   ]
  },
  {
   "cell_type": "markdown",
   "metadata": {},
   "source": [
    "#### 离散化和分箱"
   ]
  },
  {
   "cell_type": "code",
   "execution_count": 2,
   "metadata": {},
   "outputs": [
    {
     "name": "stdout",
     "output_type": "stream",
     "text": [
      "离散化后分割数据\n",
      " [(18, 25], (18, 25], (18, 25], (25, 35], (18, 25], ..., (25, 35], (60, 100], (35, 60], (35, 60], (25, 35]]\n",
      "Length: 12\n",
      "Categories (4, interval[int64, right]): [(18, 25] < (25, 35] < (35, 60] < (60, 100]]\n",
      "统计分割后箱体计数\n",
      " (18, 25]     5\n",
      "(25, 35]     3\n",
      "(35, 60]     3\n",
      "(60, 100]    1\n",
      "dtype: int64\n"
     ]
    }
   ],
   "source": [
    "import pandas as pd\n",
    "ages = [20, 22, 25, 27, 21, 23, 37, 31, 61, 45, 41, 32]\n",
    "bins = [18, 25, 35, 60, 100]\n",
    "cats = pd.cut(ages, bins)\n",
    "print(f'离散化后分割数据\\n {cats}')\n",
    "print('统计分割后箱体计数\\n', pd.value_counts(cats))"
   ]
  },
  {
   "cell_type": "markdown",
   "metadata": {},
   "source": [
    "#### 检测和过滤"
   ]
  },
  {
   "cell_type": "code",
   "execution_count": 9,
   "metadata": {},
   "outputs": [
    {
     "name": "stdout",
     "output_type": "stream",
     "text": [
      "统计描述                  0            1            2            3\n",
      "count  1000.000000  1000.000000  1000.000000  1000.000000\n",
      "mean      0.013978    -0.047530    -0.025232     0.002173\n",
      "std       1.028008     1.011870     0.990063     1.022198\n",
      "min      -3.730493    -3.218897    -3.134625    -2.931185\n",
      "25%      -0.673352    -0.749491    -0.715171    -0.746065\n",
      "50%       0.026139    -0.076317    -0.027958    -0.007597\n",
      "75%       0.727460     0.616081     0.632038     0.737373\n",
      "max       3.159449     3.778117     3.030977     2.957314\n",
      "第三列绝对值大于3\n",
      " 336   -3.134625\n",
      "406    3.030977\n",
      "Name: 2, dtype: float64\n"
     ]
    }
   ],
   "source": [
    "import pandas as pd\n",
    "import numpy as np\n",
    "data = pd.DataFrame(np.random.randn(1000, 4))\n",
    "print('统计描述', data.describe())\n",
    "col = data[2]\n",
    "cols = col[np.abs(col) > 3]\n",
    "print('第三列绝对值大于3\\n', cols)\n"
   ]
  },
  {
   "cell_type": "markdown",
   "metadata": {},
   "source": [
    "#### 计算直播/虚拟变量"
   ]
  },
  {
   "cell_type": "code",
   "execution_count": 15,
   "metadata": {},
   "outputs": [
    {
     "name": "stdout",
     "output_type": "stream",
     "text": [
      "  key  data1\n",
      "0   b      0\n",
      "1   b      1\n",
      "2   a      2\n",
      "3   c      3\n",
      "4   a      4\n",
      "5   b      5\n",
      "判断a或b或c在key列的是否存在\n",
      "    a  b  c\n",
      "0  0  1  0\n",
      "1  0  1  0\n",
      "2  1  0  0\n",
      "3  0  0  1\n",
      "4  1  0  0\n",
      "5  0  1  0\n"
     ]
    }
   ],
   "source": [
    "df =pd.DataFrame({'key': ['b', 'b', 'a', 'c', 'a', 'b'],\n",
    "                  'data1': range(6)})\n",
    "print(df)\n",
    "print('判断a或b或c在key列是否存在\\n', pd.get_dummies(df['key']))\n",
    "\n"
   ]
  },
  {
   "cell_type": "markdown",
   "metadata": {},
   "source": [
    "#### 字符串操作"
   ]
  },
  {
   "cell_type": "code",
   "execution_count": 17,
   "metadata": {},
   "outputs": [
    {
     "name": "stdout",
     "output_type": "stream",
     "text": [
      "['a', 'b', 'guido']\n",
      "a-b-guido\n"
     ]
    }
   ],
   "source": [
    "val = 'a,b,  guido'\n",
    "pieces = [x.strip() for x in val.split(',')]\n",
    "print(pieces)\n",
    "new_pieces = '-'.join(pieces)\n",
    "print(new_pieces)"
   ]
  },
  {
   "cell_type": "code",
   "execution_count": 26,
   "metadata": {},
   "outputs": [
    {
     "data": {
      "text/plain": [
       "['dave@gogole.com', 'steve@gmail.com', 'rob@gmail.com', 'ryan@yahoo.com']"
      ]
     },
     "execution_count": 26,
     "metadata": {},
     "output_type": "execute_result"
    }
   ],
   "source": [
    "import re\n",
    "text = \"\"\"Dave dave@gogole.com\n",
    "Steve steve@gmail.com\n",
    "Rob rob@gmail.com\n",
    "Ryan ryan@yahoo.com\n",
    "\"\"\"\n",
    "pattern = r'[A-Z0-9._%=-]+@[A-Z0-9.-]+\\.[A-Z]{2,4}'\n",
    "regex = re.compile(pattern, flags=re.IGNORECASE)\n",
    "regex.findall(text)"
   ]
  },
  {
   "cell_type": "code",
   "execution_count": 29,
   "metadata": {},
   "outputs": [
    {
     "name": "stdout",
     "output_type": "stream",
     "text": [
      "Dave     dave@gogole.com\n",
      "Steve    steve@gmail.com\n",
      "Rob        rob@gmail.com\n",
      "Ryan      ryan@yahoo.com\n",
      "dtype: object\n"
     ]
    },
    {
     "data": {
      "text/plain": [
       "Dave     False\n",
       "Steve     True\n",
       "Rob       True\n",
       "Ryan     False\n",
       "dtype: bool"
      ]
     },
     "execution_count": 29,
     "metadata": {},
     "output_type": "execute_result"
    }
   ],
   "source": [
    "data = {'Dave': 'dave@gogole.com', 'Steve': 'steve@gmail.com',\n",
    "        'Rob': 'rob@gmail.com', 'Ryan':'ryan@yahoo.com'}\n",
    "data = pd.Series(data)\n",
    "print(data)\n",
    "data.str.contains('gmail')"
   ]
  },
  {
   "cell_type": "markdown",
   "metadata": {},
   "source": [
    "### 数据规整"
   ]
  },
  {
   "cell_type": "code",
   "execution_count": 3,
   "metadata": {},
   "outputs": [
    {
     "name": "stdout",
     "output_type": "stream",
     "text": [
      "分层索引\n",
      " a  1   -0.842285\n",
      "   2    1.092646\n",
      "   3   -0.357192\n",
      "b  1   -0.774737\n",
      "   3    0.468445\n",
      "c  1   -0.367512\n",
      "   2    0.435731\n",
      "d  2   -1.795529\n",
      "   3    0.091191\n",
      "dtype: float64\n",
      "分层索引重新排列\n",
      "           1         2         3\n",
      "a -0.842285  1.092646 -0.357192\n",
      "b -0.774737       NaN  0.468445\n",
      "c -0.367512  0.435731       NaN\n",
      "d       NaN -1.795529  0.091191\n"
     ]
    }
   ],
   "source": [
    "# 分层索引\n",
    "import pandas as pd\n",
    "import numpy as np\n",
    "data = pd.Series(np.random.randn(9), index=[['a','a','a','b','b','c','c','d','d'],\n",
    "                                            [1, 2, 3, 1, 3, 1, 2, 2, 3]])\n",
    "print('分层索引\\n' ,data)\n",
    "\n",
    "data_new = data.unstack()\n",
    "print('分层索引重新排列\\n' ,data_new)"
   ]
  },
  {
   "cell_type": "code",
   "execution_count": 4,
   "metadata": {},
   "outputs": [
    {
     "name": "stdout",
     "output_type": "stream",
     "text": [
      "分层排序\n",
      " state      Ohio     Colorado\n",
      "color     Green Red    Green\n",
      "key1 key2                   \n",
      "a    1        0   1        2\n",
      "     2        3   4        5\n",
      "b    1        6   7        8\n",
      "     2        9  10       11\n",
      "列索引选取\n",
      " color      Green  Red\n",
      "key1 key2            \n",
      "a    1         0    1\n",
      "     2         3    4\n",
      "b    1         6    7\n",
      "     2         9   10\n",
      "按照key2排序\n",
      " state      Ohio     Colorado\n",
      "color     Green Red    Green\n",
      "key1 key2                   \n",
      "a    1        0   1        2\n",
      "b    1        6   7        8\n",
      "a    2        3   4        5\n",
      "b    2        9  10       11\n",
      "按照key2汇总\n",
      " state  Ohio     Colorado\n",
      "color Green Red    Green\n",
      "key2                    \n",
      "1         6   8       10\n",
      "2        12  14       16\n"
     ]
    },
    {
     "name": "stderr",
     "output_type": "stream",
     "text": [
      "C:\\Users\\win\\AppData\\Local\\Temp\\ipykernel_10136\\1828168285.py:14: FutureWarning: Using the level keyword in DataFrame and Series aggregations is deprecated and will be removed in a future version. Use groupby instead. df.sum(level=1) should use df.groupby(level=1).sum().\n",
      "  print('按照key2汇总\\n', frame.sum(level='key2'))\n"
     ]
    }
   ],
   "source": [
    "# 重排序\n",
    "frame = pd.DataFrame(np.arange(12).reshape((4, 3)),\n",
    "                     index=[['a', 'a', 'b', 'b'], [1, 2, 1, 2]],\n",
    "                     columns=[['Ohio', 'Ohio', 'Colorado'], ['Green', 'Red', 'Green']])\n",
    "\n",
    "frame.index.names = ['key1', 'key2']\n",
    "frame.columns.names = ['state', 'color']\n",
    "print('分层排序\\n', frame)\n",
    "\n",
    "print('列索引选取\\n' , frame['Ohio'])\n",
    "\n",
    "print('按照key2排序\\n', frame.sort_index(level=1))\n",
    "\n",
    "print('按照key2汇总\\n', frame.sum(level='key2'))"
   ]
  },
  {
   "cell_type": "code",
   "execution_count": 1,
   "metadata": {},
   "outputs": [
    {
     "name": "stdout",
     "output_type": "stream",
     "text": [
      "原始数据\n",
      "    a  b    c  d\n",
      "0  0  7  one  0\n",
      "1  1  6  one  1\n",
      "2  2  5  one  2\n",
      "3  3  4  two  0\n",
      "4  4  3  two  1\n",
      "5  5  2  two  2\n",
      "6  6  1  two  3\n",
      "新索引\n",
      "        a  b\n",
      "c   d      \n",
      "one 0  0  7\n",
      "    1  1  6\n",
      "    2  2  5\n",
      "two 0  3  4\n",
      "    1  4  3\n",
      "    2  5  2\n",
      "    3  6  1\n",
      "显示索引\n",
      "        a  b    c  d\n",
      "c   d              \n",
      "one 0  0  7  one  0\n",
      "    1  1  6  one  1\n",
      "    2  2  5  one  2\n",
      "two 0  3  4  two  0\n",
      "    1  4  3  two  1\n",
      "    2  5  2  two  2\n",
      "    3  6  1  two  3\n",
      "反操作，显示分层索引\n",
      "      c  d  a  b\n",
      "0  one  0  0  7\n",
      "1  one  1  1  6\n",
      "2  one  2  2  5\n",
      "3  two  0  3  4\n",
      "4  two  1  4  3\n",
      "5  two  2  5  2\n",
      "6  two  3  6  1\n"
     ]
    }
   ],
   "source": [
    "# 索引\n",
    "import pandas as pd\n",
    "frame = pd.DataFrame({'a': range(7), 'b': range(7, 0, -1),\n",
    "                      'c': ['one', 'one', 'one', 'two', 'two','two','two',],\n",
    "                      'd': [0, 1, 2, 0, 1, 2, 3]})\n",
    "print('原始数据\\n', frame)\n",
    "frame2 = frame.set_index(['c', 'd'])\n",
    "print('新索引\\n', frame2)\n",
    "print('显示索引\\n', frame.set_index(['c', 'd'], drop=False))\n",
    "print('反操作，显示分层索引\\n', frame2.reset_index())"
   ]
  },
  {
   "cell_type": "code",
   "execution_count": 7,
   "metadata": {},
   "outputs": [
    {
     "name": "stdout",
     "output_type": "stream",
     "text": [
      "原始数据\n",
      " number    one  two  three\n",
      "state                    \n",
      "Ohio        0    1      2\n",
      "Colorado    3    4      5\n",
      "透视到行\n",
      " state     number\n",
      "Ohio      one       0\n",
      "          two       1\n",
      "          three     2\n",
      "Colorado  one       3\n",
      "          two       4\n",
      "          three     5\n",
      "dtype: int32\n",
      "按照status拆分等级\n",
      " number  state   \n",
      "one     Ohio        0\n",
      "        Colorado    3\n",
      "two     Ohio        1\n",
      "        Colorado    4\n",
      "three   Ohio        2\n",
      "        Colorado    5\n",
      "dtype: int32\n"
     ]
    }
   ],
   "source": [
    "# 重塑和透视\n",
    "import pandas as pd, numpy as np\n",
    "\n",
    "data = pd.DataFrame(np.arange(6).reshape((2, 3)),\n",
    "                    index=pd.Index(['Ohio', 'Colorado'], name='state'),\n",
    "                    columns=pd.Index(['one', 'two', 'three'],\n",
    "                                     name='number'))\n",
    "print('原始数据\\n', data)\n",
    "result = data.stack()\n",
    "\n",
    "print('透视到行\\n', result)\n",
    "print('按照status拆分等级\\n', data.unstack('state'))"
   ]
  },
  {
   "cell_type": "markdown",
   "source": [
    "#### 绘图与可视化"
   ],
   "metadata": {
    "collapsed": false
   }
  },
  {
   "cell_type": "code",
   "execution_count": 40,
   "outputs": [
    {
     "name": "stdout",
     "output_type": "stream",
     "text": [
      "[0 1 2 3 4 5 6 7 8 9]\n"
     ]
    },
    {
     "data": {
      "text/plain": "<matplotlib.legend.Legend at 0x2a7c7833090>"
     },
     "execution_count": 40,
     "metadata": {},
     "output_type": "execute_result"
    },
    {
     "data": {
      "text/plain": "<Figure size 640x480 with 1 Axes>",
      "image/png": "[encoded data removed]"
     },
     "metadata": {},
     "output_type": "display_data"
    },
    {
     "data": {
      "text/plain": "<Figure size 640x480 with 3 Axes>",
      "image/png": "[encoded data removed]"
     },
     "metadata": {},
     "output_type": "display_data"
    }
   ],
   "source": [
    "import matplotlib.pyplot as plt\n",
    "import numpy as np\n",
    "\n",
    "data = np.arange(10)\n",
    "print(data)\n",
    "plt.plot(data, 'g--')\n",
    "\n",
    "fig = plt.figure()\n",
    "ax1 = fig.add_subplot(2, 2, 1)\n",
    "ax2 = fig.add_subplot(2, 2, 2)\n",
    "ax3 = fig.add_subplot(2, 2, 3)\n",
    "ax1.hist(np.random.randn(100), bins=20, color='r')\n",
    "ax2.scatter(np.arange(30), 3 * np.random.randn(30))\n",
    "ax3.plot(np.random.randn(50), label = 'one')\n",
    "ax3.plot(np.random.randn(50).cumsum(), 'r--', label= 'two')\n",
    "ax3.legend(loc='best')"
   ],
   "metadata": {
    "collapsed": false
   }
  },
  {
   "cell_type": "code",
   "execution_count": 45,
   "outputs": [
    {
     "data": {
      "text/plain": "[<matplotlib.lines.Line2D at 0x2a7c7bde350>]"
     },
     "execution_count": 45,
     "metadata": {},
     "output_type": "execute_result"
    },
    {
     "data": {
      "text/plain": "<Figure size 640x480 with 1 Axes>",
      "image/png": "[encoded data removed]"
     },
     "metadata": {},
     "output_type": "display_data"
    }
   ],
   "source": [
    "from numpy.random import randn\n",
    "plt.plot(randn(30).cumsum(), 'ko--')\n",
    "plt.plot(randn(30).cumsum(), color='r', linestyle='dashed', marker='o')"
   ],
   "metadata": {
    "collapsed": false
   }
  },
  {
   "cell_type": "code",
   "execution_count": 104,
   "outputs": [
    {
     "data": {
      "text/plain": "<Figure size 1000x500 with 1 Axes>",
      "image/png": "[encoded data removed]"
     },
     "metadata": {},
     "output_type": "display_data"
    }
   ],
   "source": [
    "# 设置标题、轴标签、刻度和刻度标签\n",
    "fig = plt.figure()\n",
    "ax = fig.add_subplot(1, 1, 1)\n",
    "ax.plot(np.random.randn(1000).cumsum(), 'g--', label='one')\n",
    "ax.plot(np.random.randn(1000).cumsum(), 'r--', label='two')\n",
    "ax.plot(np.random.randn(1000).cumsum(), 'b--', label='three')\n",
    "ax.ticks = ax.set_xticks([0, 250, 500, 750, 1000])\n",
    "ax.labels = ax.set_xticklabels(['one', 'two', 'three', 'four', 'five'],\n",
    "                               rotation=30, fontsize='small')\n",
    "ax.text(20, 20, 'Hello World!', family='monospace', fontsize=10)\n",
    "\n",
    "props = {\n",
    "    'title': 'My first matplotlib plot',\n",
    "    'xlabel': 'Stages'\n",
    "}\n",
    "ax.set(**props)\n",
    "ax.legend(loc='best')\n",
    "\n",
    "font_options = {'family': 'monospace',\n",
    "                'weight': 'bold',\n",
    "                'size': 10,\n",
    "    }\n",
    "plt.rc('font', **font_options)\n",
    "plt.rc('figure', figsize=(10, 5))\n"
   ],
   "metadata": {
    "collapsed": false
   }
  },
  {
   "cell_type": "code",
   "execution_count": 32,
   "outputs": [
    {
     "data": {
      "text/plain": "<Axes: >"
     },
     "execution_count": 32,
     "metadata": {},
     "output_type": "execute_result"
    },
    {
     "data": {
      "text/plain": "<Figure size 640x480 with 1 Axes>",
      "image/png": "[encoded data removed]"
     },
     "metadata": {},
     "output_type": "display_data"
    }
   ],
   "source": [
    "# 使用pandas和seaborn绘图\n",
    "import pandas as pd\n",
    "import numpy as np\n",
    "\n",
    "s = pd.Series(np.random.randn(10).cumsum(), index=np.arange(0, 100, 10))  # cumsum计算一个数组各行的累加值\n",
    "# s.plot(kind='line', rot=30, style='ro--')\n",
    "s.plot.line(rot=30, style='ro--')\n"
   ],
   "metadata": {
    "collapsed": false
   }
  },
  {
   "cell_type": "code",
   "execution_count": 42,
   "outputs": [
    {
     "data": {
      "text/plain": "<Axes: title={'center': 'example'}>"
     },
     "execution_count": 42,
     "metadata": {},
     "output_type": "execute_result"
    },
    {
     "data": {
      "text/plain": "<Figure size 640x480 with 1 Axes>",
      "image/png": "[encoded data removed]"
     },
     "metadata": {},
     "output_type": "display_data"
    }
   ],
   "source": [
    "df = pd.DataFrame(np.random.randn(10, 4).cumsum(0),\n",
    "                  columns=['A', 'B', 'C', 'D'],\n",
    "                  index=np.arange(0, 100, 10))\n",
    "df.plot(title = 'example', rot=30)"
   ],
   "metadata": {
    "collapsed": false
   }
  },
  {
   "cell_type": "code",
   "execution_count": 38,
   "outputs": [
    {
     "data": {
      "text/plain": "<Axes: >"
     },
     "execution_count": 38,
     "metadata": {},
     "output_type": "execute_result"
    },
    {
     "data": {
      "text/plain": "<Figure size 640x480 with 2 Axes>",
      "image/png": "[encoded data removed]"
     },
     "metadata": {},
     "output_type": "display_data"
    }
   ],
   "source": [
    "import matplotlib.pyplot as plt\n",
    "\n",
    "fig, axes = plt.subplots(2, 1)\n",
    "data = pd.Series(np.random.rand(16), index=list('abcdefghijklmnop'))\n",
    "data.plot.bar(ax=axes[0], color='r', alpha=0.7)\n",
    "data.plot.bar(ax=axes[1], color='k', alpha=0.7)"
   ],
   "metadata": {
    "collapsed": false
   }
  },
  {
   "cell_type": "code",
   "execution_count": 46,
   "outputs": [
    {
     "name": "stdout",
     "output_type": "stream",
     "text": [
      "Genus         A         B         C         D\n",
      "one    0.113133  0.511715  0.567576  0.603438\n",
      "two    0.742654  0.874731  0.496878  0.768962\n",
      "three  0.975038  0.045692  0.165060  0.253487\n",
      "four   0.862012  0.043637  0.124588  0.713345\n",
      "five   0.489118  0.426568  0.575587  0.295734\n",
      "six    0.392991  0.624721  0.876515  0.946948\n"
     ]
    },
    {
     "data": {
      "text/plain": "<Axes: title={'center': 'test'}>"
     },
     "execution_count": 46,
     "metadata": {},
     "output_type": "execute_result"
    },
    {
     "data": {
      "text/plain": "<Figure size 640x480 with 1 Axes>",
      "image/png": "[encoded data removed]"
     },
     "metadata": {},
     "output_type": "display_data"
    },
    {
     "data": {
      "text/plain": "<Figure size 640x480 with 1 Axes>",
      "image/png": "[encoded data removed]"
     },
     "metadata": {},
     "output_type": "display_data"
    }
   ],
   "source": [
    "df = pd.DataFrame(np.random.rand(6, 4),\n",
    "                  index=['one', 'two', 'three', 'four', 'five', 'six'],\n",
    "                  columns=pd.Index(['A', 'B', 'C', 'D'], name='Genus'))\n",
    "print(df)\n",
    "df.plot.bar(title='test', rot=30)\n",
    "df.plot.barh(title='test', rot=30)"
   ],
   "metadata": {
    "collapsed": false
   }
  },
  {
   "cell_type": "code",
   "execution_count": 55,
   "outputs": [
    {
     "data": {
      "text/plain": "<seaborn.axisgrid.FacetGrid at 0x20998c001d0>"
     },
     "execution_count": 55,
     "metadata": {},
     "output_type": "execute_result"
    },
    {
     "data": {
      "text/plain": "<Figure size 500x500 with 1 Axes>",
      "image/png": "[encoded data removed]"
     },
     "metadata": {},
     "output_type": "display_data"
    }
   ],
   "source": [
    "import seaborn as sns\n",
    "\n",
    "# 随机产生正态分布数值的函数\n",
    "# 参数1：正态分布的均值 参数2：正态分布的标准差，对应分布的宽度\n",
    "comp1 = np.random.normal(0, 1, size=20)\n",
    "comp2 = np.random.normal(10, 2, size=200)\n",
    "values = pd.Series(np.concatenate([comp1, comp2]))\n",
    "sns.displot(values, bins=100, color='b')"
   ],
   "metadata": {
    "collapsed": false
   }
  },
  {
   "cell_type": "markdown",
   "source": [
    "### GroupBy机制"
   ],
   "metadata": {
    "collapsed": false
   }
  },
  {
   "cell_type": "code",
   "execution_count": 13,
   "outputs": [
    {
     "name": "stdout",
     "output_type": "stream",
     "text": [
      "原始数据：\n",
      "   key1 key2     data1     data2\n",
      "0    a  one  0.689589  0.577622\n",
      "1    a  two  0.649430 -1.880835\n",
      "2    b  one  0.500561  0.378438\n",
      "3    b  two  1.464252  1.014550\n",
      "4    a  one -0.272122  0.598318\n",
      "key1分组均值：\n",
      " key1\n",
      "a    0.355632\n",
      "b    0.982407\n",
      "Name: data1, dtype: float64\n",
      "key1,key2分组均值：\n",
      " key1  key2\n",
      "a     one     0.208733\n",
      "      two     0.649430\n",
      "b     one     0.500561\n",
      "      two     1.464252\n",
      "Name: data1, dtype: float64\n",
      "都是分组键：\n",
      " key2       one       two\n",
      "key1                    \n",
      "a     0.208733  0.649430\n",
      "b     0.500561  1.464252\n"
     ]
    }
   ],
   "source": [
    "# GroupBy机制\n",
    "import pandas as pd\n",
    "import numpy as np\n",
    "\n",
    "df = pd.DataFrame({'key1': ['a', 'a', 'b', 'b', 'a'],\n",
    "                   'key2': ['one', 'two', 'one', 'two', 'one'],\n",
    "                   'data1': np.random.randn(5),\n",
    "                   'data2': np.random.randn(5)})\n",
    "print('原始数据：\\n', df)\n",
    "grouped = df['data1'].groupby(df['key1'])\n",
    "print('key1分组均值：\\n', grouped.mean())\n",
    "means = df['data1'].groupby([df['key1'], df['key2']]).mean()\n",
    "print('key1,key2分组均值：\\n', means)\n",
    "print('都是分组键：\\n' ,means.unstack())"
   ],
   "metadata": {
    "collapsed": false
   }
  },
  {
   "cell_type": "code",
   "execution_count": 18,
   "outputs": [
    {
     "data": {
      "text/plain": "Beijing   2005    0.208733\n          2006    1.464252\nShanghai  2005    0.500561\n          2006    0.649430\nName: data1, dtype: float64"
     },
     "execution_count": 18,
     "metadata": {},
     "output_type": "execute_result"
    }
   ],
   "source": [
    "states = np.array(['Beijing', 'Shanghai', 'Shanghai', 'Beijing', 'Beijing'])\n",
    "years = np.array([2005, 2006, 2005, 2006, 2005])\n",
    "df['data1'].groupby([states, years]).mean()\n"
   ],
   "metadata": {
    "collapsed": false
   }
  },
  {
   "cell_type": "code",
   "execution_count": 27,
   "outputs": [
    {
     "name": "stdout",
     "output_type": "stream",
     "text": [
      "a\n",
      "  key1 key2     data1     data2\n",
      "0    a  one  0.689589  0.577622\n",
      "1    a  two  0.649430 -1.880835\n",
      "4    a  one -0.272122  0.598318\n",
      "b\n",
      "  key1 key2     data1     data2\n",
      "2    b  one  0.500561  0.378438\n",
      "3    b  two  1.464252  1.014550\n",
      "切片b：\n",
      "   key1 key2     data1     data2\n",
      "2    b  one  0.500561  0.378438\n",
      "3    b  two  1.464252  1.014550\n"
     ]
    }
   ],
   "source": [
    "for name, group in df.groupby('key1'):\n",
    "    print(name)\n",
    "    print(group)\n",
    "\n",
    "pieces = dict(list(df.groupby('key1')))\n",
    "print('切片b：\\n', pieces['b'])"
   ],
   "metadata": {
    "collapsed": false
   }
  },
  {
   "cell_type": "markdown",
   "source": [
    "df.groupby('key1')['data1'].mean()\n",
    "df['data1'].groupby(df['key1']).mean()"
   ],
   "metadata": {
    "collapsed": false
   }
  },
  {
   "cell_type": "markdown",
   "source": [
    "### 时间序列"
   ],
   "metadata": {
    "collapsed": false
   }
  },
  {
   "cell_type": "code",
   "execution_count": 46,
   "outputs": [
    {
     "name": "stdout",
     "output_type": "stream",
     "text": [
      "datetime.now: 2023-03-28 10:53:19.847271\n",
      "2023 3 28 10:53:19.847271 星期 2\n",
      "三天后： 2023-03-31 10:53:19.847271\n",
      "格式化日期： 2023-03-31 5\n",
      "格式化日期： 2023-03-31\n",
      "格式化日期： 03/31/23\n",
      "日期型： 2023-03-29 00:00:00\n",
      "日期型： 2023-03-31 00:00:00\n"
     ]
    },
    {
     "data": {
      "text/plain": "[None, None]"
     },
     "execution_count": 46,
     "metadata": {},
     "output_type": "execute_result"
    }
   ],
   "source": [
    "from datetime import datetime\n",
    "from datetime import timedelta\n",
    "\n",
    "now = datetime.now()\n",
    "print('datetime.now:', now)\n",
    "print(now.year, now.month, now.day, now.time(), '星期', now.isoweekday())\n",
    "now_new = now + timedelta(3)\n",
    "print('三天后：', now_new)\n",
    "now_str = now_new.strftime('%Y-%m-%d %w')\n",
    "now_str1 = now_new.strftime('%F')\n",
    "now_str2 = now_new.strftime('%D')\n",
    "print('格式化日期：' , now_str)\n",
    "print('格式化日期：' , now_str1)\n",
    "print('格式化日期：' , now_str2)\n",
    "datestrs = ['2023/3/26', '2023/3/28']\n",
    "[print('日期型：', datetime.strptime(x, '%Y/%m/%d') + timedelta(3)) for x in datestrs]"
   ],
   "metadata": {
    "collapsed": false
   }
  },
  {
   "cell_type": "code",
   "execution_count": 63,
   "outputs": [
    {
     "name": "stdout",
     "output_type": "stream",
     "text": [
      "构造50个日期\n",
      " 2023-03-01   -0.878499\n",
      "2023-03-02   -0.521954\n",
      "2023-03-03    1.967216\n",
      "2023-03-04    0.294769\n",
      "2023-03-05   -0.578010\n",
      "2023-03-06    0.060643\n",
      "2023-03-07    0.394924\n",
      "2023-03-08    0.104040\n",
      "2023-03-09    0.817211\n",
      "2023-03-10    0.485787\n",
      "2023-03-11    0.062232\n",
      "2023-03-12    1.631921\n",
      "2023-03-13    1.229181\n",
      "2023-03-14    0.753204\n",
      "2023-03-15    0.772375\n",
      "2023-03-16    0.746559\n",
      "2023-03-17    2.202687\n",
      "2023-03-18    1.584438\n",
      "2023-03-19    0.147063\n",
      "2023-03-20    0.654296\n",
      "2023-03-21   -1.456470\n",
      "2023-03-22   -1.226721\n",
      "2023-03-23    1.116128\n",
      "2023-03-24    0.167735\n",
      "2023-03-25    1.005135\n",
      "2023-03-26    0.123550\n",
      "2023-03-27   -0.633568\n",
      "2023-03-28   -1.031823\n",
      "2023-03-29   -0.482095\n",
      "2023-03-30   -1.149847\n",
      "2023-03-31   -0.187841\n",
      "2023-04-01    1.295743\n",
      "2023-04-02    0.233871\n",
      "2023-04-03   -0.250252\n",
      "2023-04-04    0.019427\n",
      "2023-04-05    0.969795\n",
      "2023-04-06    1.113716\n",
      "2023-04-07   -0.762693\n",
      "2023-04-08    0.744451\n",
      "2023-04-09   -1.094426\n",
      "2023-04-10   -0.622747\n",
      "2023-04-11   -0.637749\n",
      "2023-04-12   -0.315377\n",
      "2023-04-13    0.350673\n",
      "2023-04-14   -0.661669\n",
      "2023-04-15   -0.291296\n",
      "2023-04-16    0.971159\n",
      "2023-04-17    0.811443\n",
      "2023-04-18    2.820782\n",
      "2023-04-19   -0.005837\n",
      "Freq: D, dtype: float64\n",
      "三月：\n",
      " 2023-03-01   -0.878499\n",
      "2023-03-02   -0.521954\n",
      "2023-03-03    1.967216\n",
      "2023-03-04    0.294769\n",
      "2023-03-05   -0.578010\n",
      "2023-03-06    0.060643\n",
      "2023-03-07    0.394924\n",
      "2023-03-08    0.104040\n",
      "2023-03-09    0.817211\n",
      "2023-03-10    0.485787\n",
      "2023-03-11    0.062232\n",
      "2023-03-12    1.631921\n",
      "2023-03-13    1.229181\n",
      "2023-03-14    0.753204\n",
      "2023-03-15    0.772375\n",
      "2023-03-16    0.746559\n",
      "2023-03-17    2.202687\n",
      "2023-03-18    1.584438\n",
      "2023-03-19    0.147063\n",
      "2023-03-20    0.654296\n",
      "2023-03-21   -1.456470\n",
      "2023-03-22   -1.226721\n",
      "2023-03-23    1.116128\n",
      "2023-03-24    0.167735\n",
      "2023-03-25    1.005135\n",
      "2023-03-26    0.123550\n",
      "2023-03-27   -0.633568\n",
      "2023-03-28   -1.031823\n",
      "2023-03-29   -0.482095\n",
      "2023-03-30   -1.149847\n",
      "2023-03-31   -0.187841\n",
      "Freq: D, dtype: float64\n",
      "时间切片：\n",
      " 2023-03-01   -0.878499\n",
      "2023-03-02   -0.521954\n",
      "2023-03-03    1.967216\n",
      "2023-03-04    0.294769\n",
      "2023-03-05   -0.578010\n",
      "2023-03-06    0.060643\n",
      "2023-03-07    0.394924\n",
      "2023-03-08    0.104040\n",
      "2023-03-09    0.817211\n",
      "2023-03-10    0.485787\n",
      "2023-03-11    0.062232\n",
      "2023-03-12    1.631921\n",
      "2023-03-13    1.229181\n",
      "2023-03-14    0.753204\n",
      "2023-03-15    0.772375\n",
      "Freq: D, dtype: float64\n",
      "2023-03-01   -0.878499\n",
      "2023-03-02   -0.521954\n",
      "2023-03-03    1.967216\n",
      "2023-03-04    0.294769\n",
      "2023-03-05   -0.578010\n",
      "2023-03-06    0.060643\n",
      "2023-03-07    0.394924\n",
      "2023-03-08    0.104040\n",
      "2023-03-09    0.817211\n",
      "2023-03-10    0.485787\n",
      "2023-03-11    0.062232\n",
      "2023-03-12    1.631921\n",
      "2023-03-13    1.229181\n",
      "2023-03-14    0.753204\n",
      "2023-03-15    0.772375\n",
      "2023-03-16    0.746559\n",
      "2023-03-17    2.202687\n",
      "2023-03-18    1.584438\n",
      "2023-03-19    0.147063\n",
      "2023-03-20    0.654296\n",
      "2023-03-21   -1.456470\n",
      "2023-03-22   -1.226721\n",
      "2023-03-23    1.116128\n",
      "2023-03-24    0.167735\n",
      "2023-03-25    1.005135\n",
      "2023-03-26    0.123550\n",
      "2023-03-27   -0.633568\n",
      "2023-03-28   -1.031823\n",
      "2023-03-29   -0.482095\n",
      "2023-03-30   -1.149847\n",
      "2023-03-31   -0.187841\n",
      "2023-04-01    1.295743\n",
      "2023-04-02    0.233871\n",
      "2023-04-03   -0.250252\n",
      "2023-04-04    0.019427\n",
      "2023-04-05    0.969795\n",
      "2023-04-06    1.113716\n",
      "2023-04-07   -0.762693\n",
      "2023-04-08    0.744451\n",
      "2023-04-09   -1.094426\n",
      "2023-04-10   -0.622747\n",
      "2023-04-11   -0.637749\n",
      "2023-04-12   -0.315377\n",
      "2023-04-13    0.350673\n",
      "2023-04-14   -0.661669\n",
      "2023-04-15   -0.291296\n",
      "2023-04-16    0.971159\n",
      "2023-04-17    0.811443\n",
      "2023-04-18    2.820782\n",
      "2023-04-19   -0.005837\n",
      "Freq: D, dtype: float64\n"
     ]
    }
   ],
   "source": [
    "# 时间序列基础\n",
    "import pandas as pd\n",
    "import numpy as np\n",
    "\n",
    "longer_ts = pd.Series(np.random.randn(50), index=pd.date_range('3/1/2023', periods=50))\n",
    "print('构造50个日期\\n' ,longer_ts)\n",
    "print('三月：\\n' , longer_ts['2023-03'])\n",
    "print('时间切片：\\n', longer_ts['3/1/2023':'3/15/2023'])"
   ],
   "metadata": {
    "collapsed": false
   }
  },
  {
   "cell_type": "code",
   "execution_count": 1,
   "outputs": [
    {
     "name": "stdout",
     "output_type": "stream",
     "text": [
      "填充空值\n",
      " 2023-03-01   -0.638013\n",
      "2023-03-02         NaN\n",
      "2023-03-03         NaN\n",
      "2023-03-04         NaN\n",
      "2023-03-05         NaN\n",
      "2023-03-06         NaN\n",
      "2023-03-07         NaN\n",
      "2023-03-08   -1.202957\n",
      "Freq: D, dtype: float64\n",
      "向后回填\n",
      " 2023-03-01   -0.638013\n",
      "2023-03-02   -0.638013\n",
      "2023-03-03   -0.638013\n",
      "2023-03-04   -0.638013\n",
      "2023-03-05   -0.638013\n",
      "2023-03-06   -0.638013\n",
      "2023-03-07   -0.638013\n",
      "2023-03-08   -1.202957\n",
      "Freq: D, dtype: float64\n",
      "先前回填\n",
      " 2023-03-01   -0.638013\n",
      "2023-03-02   -1.202957\n",
      "2023-03-03   -1.202957\n",
      "2023-03-04   -1.202957\n",
      "2023-03-05   -1.202957\n",
      "2023-03-06   -1.202957\n",
      "2023-03-07   -1.202957\n",
      "2023-03-08   -1.202957\n",
      "Freq: D, dtype: float64\n"
     ]
    }
   ],
   "source": [
    "from datetime import datetime\n",
    "import pandas as pd\n",
    "import numpy as np\n",
    "\n",
    "dates = [datetime(2023, 3, 1), datetime(2023, 3, 8)]\n",
    "ts = pd.Series(np.random.randn(2), index=dates)\n",
    "resampler = ts.resample('D').asfreq()\n",
    "print('填充空值\\n', resampler)\n",
    "resampler = ts.resample('D').ffill()\n",
    "print('向后回填\\n', resampler)\n",
    "resampler = ts.resample('D').bfill()\n",
    "print('先前回填\\n', resampler)"
   ],
   "metadata": {
    "collapsed": false
   }
  },
  {
   "cell_type": "code",
   "execution_count": 9,
   "outputs": [
    {
     "name": "stdout",
     "output_type": "stream",
     "text": [
      "日期范围： DatetimeIndex(['2023-03-01', '2023-03-02', '2023-03-03', '2023-03-04',\n",
      "               '2023-03-05', '2023-03-06', '2023-03-07', '2023-03-08',\n",
      "               '2023-03-09', '2023-03-10', '2023-03-11', '2023-03-12',\n",
      "               '2023-03-13', '2023-03-14', '2023-03-15', '2023-03-16',\n",
      "               '2023-03-17', '2023-03-18', '2023-03-19', '2023-03-20',\n",
      "               '2023-03-21', '2023-03-22', '2023-03-23', '2023-03-24',\n",
      "               '2023-03-25', '2023-03-26', '2023-03-27', '2023-03-28',\n",
      "               '2023-03-29', '2023-03-30'],\n",
      "              dtype='datetime64[ns]', freq='D')\n",
      "日期范围： DatetimeIndex(['2023-03-01', '2023-03-02', '2023-03-03', '2023-03-04',\n",
      "               '2023-03-05', '2023-03-06', '2023-03-07', '2023-03-08',\n",
      "               '2023-03-09', '2023-03-10', '2023-03-11', '2023-03-12',\n",
      "               '2023-03-13', '2023-03-14', '2023-03-15', '2023-03-16',\n",
      "               '2023-03-17', '2023-03-18', '2023-03-19', '2023-03-20',\n",
      "               '2023-03-21', '2023-03-22', '2023-03-23', '2023-03-24',\n",
      "               '2023-03-25', '2023-03-26', '2023-03-27', '2023-03-28',\n",
      "               '2023-03-29', '2023-03-30'],\n",
      "              dtype='datetime64[ns]', freq='D')\n",
      "日期范围月初： DatetimeIndex(['2023-01-01', '2023-02-01', '2023-03-01', '2023-04-01',\n",
      "               '2023-05-01', '2023-06-01'],\n",
      "              dtype='datetime64[ns]', freq='MS')\n",
      "日期范围1小时： DatetimeIndex(['2023-01-01 00:00:00', '2023-01-01 01:00:00',\n",
      "               '2023-01-01 02:00:00', '2023-01-01 03:00:00',\n",
      "               '2023-01-01 04:00:00', '2023-01-01 05:00:00',\n",
      "               '2023-01-01 06:00:00', '2023-01-01 07:00:00',\n",
      "               '2023-01-01 08:00:00', '2023-01-01 09:00:00',\n",
      "               '2023-01-01 10:00:00', '2023-01-01 11:00:00',\n",
      "               '2023-01-01 12:00:00', '2023-01-01 13:00:00',\n",
      "               '2023-01-01 14:00:00', '2023-01-01 15:00:00',\n",
      "               '2023-01-01 16:00:00', '2023-01-01 17:00:00',\n",
      "               '2023-01-01 18:00:00', '2023-01-01 19:00:00',\n",
      "               '2023-01-01 20:00:00', '2023-01-01 21:00:00',\n",
      "               '2023-01-01 22:00:00', '2023-01-01 23:00:00'],\n",
      "              dtype='datetime64[ns]', freq='H')\n",
      "每隔7天数据\n",
      " 2023-01-01    0.226829\n",
      "2023-01-08    0.869417\n",
      "2023-01-15   -0.286942\n",
      "2023-01-22    0.617774\n",
      "2023-01-29   -0.234660\n",
      "2023-02-05    1.578488\n",
      "2023-02-12   -0.365088\n",
      "2023-02-19   -0.137853\n",
      "2023-02-26   -0.245631\n",
      "2023-03-05   -0.735508\n",
      "2023-03-12    1.629419\n",
      "2023-03-19   -0.894998\n",
      "2023-03-26   -0.814064\n",
      "2023-04-02    1.579923\n",
      "2023-04-09    0.107094\n",
      "2023-04-16    0.283073\n",
      "2023-04-23    0.068694\n",
      "2023-04-30   -1.308063\n",
      "2023-05-07   -2.139269\n",
      "2023-05-14    0.366238\n",
      "2023-05-21   -0.477639\n",
      "2023-05-28   -0.103213\n",
      "2023-06-04   -1.536783\n",
      "2023-06-11   -1.309915\n",
      "2023-06-18   -0.434910\n",
      "2023-06-25    0.251083\n",
      "Freq: 7D, dtype: float64\n",
      "月汇总\n",
      " 2023-01-31    0.238484\n",
      "2023-02-28    0.207479\n",
      "2023-03-31   -0.203788\n",
      "2023-04-30    0.146144\n",
      "2023-05-31   -0.588471\n",
      "2023-06-30   -0.757631\n",
      "Freq: M, dtype: float64\n",
      "月汇总\n",
      " 2023-01    0.238484\n",
      "2023-02    0.207479\n",
      "2023-03   -0.203788\n",
      "2023-04    0.146144\n",
      "2023-05   -0.588471\n",
      "2023-06   -0.757631\n",
      "Freq: M, dtype: float64\n"
     ]
    }
   ],
   "source": [
    "### 日期范围\n",
    "import pandas as pd\n",
    "import numpy as np\n",
    "\n",
    "index = pd.date_range('2023-3-1', '2023-3-30')\n",
    "print('日期范围：', index)\n",
    "\n",
    "index = pd.date_range(end='2023-3-30', periods=30)\n",
    "print('日期范围：', index)\n",
    "\n",
    "index = pd.date_range('2023-1-1', '2023-6-1', freq='MS')\n",
    "print('日期范围月初：', index)\n",
    "\n",
    "index = pd.date_range('2023-1-1', '2023-1-1 23:59', freq='1h')\n",
    "print('日期范围1小时：', index)\n",
    "\n",
    "index = pd.date_range('2023-1-1', '2023-6-30', freq='7d')\n",
    "ts = pd.Series(np.random.randn(len(index)), index=index)\n",
    "print('每隔7天数据\\n', ts)\n",
    "print('月汇总\\n', ts.resample('M').mean())\n",
    "print('月汇总\\n', ts.resample('M', kind='period').mean())\n",
    "\n"
   ],
   "metadata": {
    "collapsed": false
   }
  },
  {
   "cell_type": "markdown",
   "source": [
    "### 分类数据"
   ],
   "metadata": {
    "collapsed": false
   }
  },
  {
   "cell_type": "code",
   "execution_count": 6,
   "outputs": [
    {
     "data": {
      "text/plain": "['foo', 'bar', 'baz', 'foo', 'foo', 'bar', 'baz']\nCategories (3, object): ['foo', 'bar', 'baz']"
     },
     "execution_count": 6,
     "metadata": {},
     "output_type": "execute_result"
    }
   ],
   "source": [
    "import pandas as pd\n",
    "\n",
    "categories = ['foo', 'bar', 'baz']\n",
    "codes = [0, 1, 2, 0, 0, 1, 2]\n",
    "my_cats_2 = pd.Categorical.from_codes(codes, categories)\n",
    "my_cats_2\n"
   ],
   "metadata": {
    "collapsed": false
   }
  },
  {
   "cell_type": "code",
   "execution_count": 32,
   "outputs": [
    {
     "name": "stdout",
     "output_type": "stream",
     "text": [
      "draws\n",
      " [1, 2, 3, 4, 5, 6, 7, 8, 9, 10]\n",
      "箱体切分数据： [(0.999, 3.25], (0.999, 3.25], (0.999, 3.25], (3.25, 5.5], (3.25, 5.5], (5.5, 7.75], (5.5, 7.75], (7.75, 10.0], (7.75, 10.0], (7.75, 10.0]]\n",
      "Categories (4, interval[float64, right]): [(0.999, 3.25] < (3.25, 5.5] < (5.5, 7.75] < (7.75, 10.0]]\n",
      "名称\n",
      " ['Q1', 'Q1', 'Q1', 'Q2', 'Q2', 'Q3', 'Q3', 'Q4', 'Q4', 'Q4']\n",
      "Categories (4, object): ['Q1' < 'Q2' < 'Q3' < 'Q4']\n",
      "汇总信息\n",
      "   quartile  count  min  max\n",
      "0       Q1      3    1    3\n",
      "1       Q2      2    4    5\n",
      "2       Q3      2    6    7\n",
      "3       Q4      3    8   10\n"
     ]
    }
   ],
   "source": [
    "import numpy as np\n",
    "import pandas as pd\n",
    "\n",
    "# draws = np.random.randint(0, 100, 12)\n",
    "draws = [i for i in range(1, 11)]\n",
    "print('draws\\n', draws)\n",
    "\n",
    "bins = pd.qcut(draws, 4)  # 分箱函数\n",
    "print('箱体切分数据：', bins)\n",
    "\n",
    "bins = pd.qcut(draws, 4, labels=['Q1', 'Q2', 'Q3', 'Q4'])\n",
    "print('名称\\n', bins)\n",
    "\n",
    "bins = pd.Series(bins, name='quartile')\n",
    "results = (pd.Series(draws).groupby(bins).agg(['count', 'min', 'max']).reset_index())\n",
    "print('汇总信息\\n', results)"
   ],
   "metadata": {
    "collapsed": false
   }
  },
  {
   "cell_type": "code",
   "execution_count": 11,
   "outputs": [
    {
     "name": "stdout",
     "output_type": "stream",
     "text": [
      "   key  value\n",
      "0    a    0.0\n",
      "1    b    1.0\n",
      "2    c    2.0\n",
      "3    a    3.0\n",
      "4    b    4.0\n",
      "5    c    5.0\n",
      "6    a    6.0\n",
      "7    b    7.0\n",
      "8    c    8.0\n",
      "9    a    9.0\n",
      "10   b   10.0\n",
      "11   c   11.0\n",
      "汇总平均值\n",
      " key\n",
      "a    4.5\n",
      "b    5.5\n",
      "c    6.5\n",
      "Name: value, dtype: float64\n"
     ]
    },
    {
     "data": {
      "text/plain": "0      0.0\n1      2.0\n2      4.0\n3      6.0\n4      8.0\n5     10.0\n6     12.0\n7     14.0\n8     16.0\n9     18.0\n10    20.0\n11    22.0\nName: value, dtype: float64"
     },
     "execution_count": 11,
     "metadata": {},
     "output_type": "execute_result"
    }
   ],
   "source": [
    "# group的使用\n",
    "import numpy as np\n",
    "import pandas as pd\n",
    "\n",
    "df = pd.DataFrame({'key': ['a', 'b', 'c'] * 4, 'value': np.arange(12.)})\n",
    "print(df)\n",
    "g = df.groupby('key').value\n",
    "print('汇总平均值\\n', g.mean())\n",
    "\n",
    "g.transform('mean')\n",
    "\n",
    "g.transform(lambda x: x * 2)"
   ],
   "metadata": {
    "collapsed": false
   }
  },
  {
   "cell_type": "code",
   "execution_count": 27,
   "outputs": [
    {
     "name": "stdout",
     "output_type": "stream",
     "text": [
      "15分钟数据：\n",
      "                   time  value\n",
      "0  2023-04-03 00:00:00      0\n",
      "1  2023-04-03 00:01:00      1\n",
      "2  2023-04-03 00:02:00      2\n",
      "3  2023-04-03 00:03:00      3\n",
      "4  2023-04-03 00:04:00      4\n",
      "5  2023-04-03 00:05:00      5\n",
      "6  2023-04-03 00:06:00      6\n",
      "7  2023-04-03 00:07:00      7\n",
      "8  2023-04-03 00:08:00      8\n",
      "9  2023-04-03 00:09:00      9\n",
      "10 2023-04-03 00:10:00     10\n",
      "11 2023-04-03 00:11:00     11\n",
      "12 2023-04-03 00:12:00     12\n",
      "13 2023-04-03 00:13:00     13\n",
      "14 2023-04-03 00:14:00     14\n",
      "5分钟采样\n",
      "                      value\n",
      "time                      \n",
      "2023-04-03 00:00:00      5\n",
      "2023-04-03 00:05:00      5\n",
      "2023-04-03 00:10:00      5\n"
     ]
    }
   ],
   "source": [
    "# 分组时间采用\n",
    "N = 15\n",
    "times = pd.date_range('2023-4-3 00:00', freq='1min', periods=N)\n",
    "df = pd.DataFrame({'time': times, 'value': np.arange(N)})\n",
    "print('15分钟数据：\\n', df)\n",
    "\n",
    "print('5分钟采样\\n', df.set_index('time').resample('5min').count())"
   ],
   "metadata": {
    "collapsed": false
   }
  },
  {
   "cell_type": "markdown",
   "source": [
    "#### 高阶NumPy"
   ],
   "metadata": {
    "collapsed": false
   }
  },
  {
   "cell_type": "markdown",
   "source": [
    "#### 数据平铺"
   ],
   "metadata": {
    "collapsed": false
   }
  },
  {
   "cell_type": "code",
   "execution_count": 8,
   "outputs": [
    {
     "name": "stdout",
     "output_type": "stream",
     "text": [
      "原始数据\n",
      " [[ 0  1  2  3]\n",
      " [ 4  5  6  7]\n",
      " [ 8  9 10 11]]\n",
      "转换扁平数据 按行\n",
      " [ 0  1  2  3  4  5  6  7  8  9 10 11]\n",
      "转换扁平数据 按列\n",
      " [ 0  4  8  1  5  9  2  6 10  3  7 11]\n"
     ]
    }
   ],
   "source": [
    "import numpy as np\n",
    "\n",
    "arr = np.arange(12).reshape((3, 4))\n",
    "print('原始数据\\n', arr)\n",
    "flatten = arr.ravel()\n",
    "print('转换扁平数据 按行\\n', flatten)\n",
    "arr.flatten() # 返回数据副本\n",
    "flatten = arr.ravel('F')\n",
    "print('转换扁平数据 按列\\n', flatten)"
   ],
   "metadata": {
    "collapsed": false
   }
  },
  {
   "cell_type": "markdown",
   "source": [
    "#### 数据连接和拆分"
   ],
   "metadata": {
    "collapsed": false
   }
  },
  {
   "cell_type": "code",
   "execution_count": 29,
   "outputs": [
    {
     "name": "stdout",
     "output_type": "stream",
     "text": [
      "横向拼接\n",
      " [[ 1  2  3]\n",
      " [ 4  5  6]\n",
      " [ 7  8  0]\n",
      " [10 11 12]]\n",
      "竖向拼接\n",
      " [[ 1  2  3  7  8  0]\n",
      " [ 4  5  6 10 11 12]]\n",
      "[[-1.17027482  0.9992448 ]\n",
      " [-3.1889961  -0.77909755]\n",
      " [-0.56045932 -0.15944022]\n",
      " [ 0.63636952 -0.23151331]\n",
      " [ 2.27396289 -1.96971868]\n",
      " [-1.87080852  1.06532059]]\n",
      "切割第一行 [[-1.17027482  0.9992448 ]]\n",
      "切割第二、三行 [[-3.1889961  -0.77909755]\n",
      " [-0.56045932 -0.15944022]]\n",
      "切割剩余行 [[ 0.63636952 -0.23151331]\n",
      " [ 2.27396289 -1.96971868]\n",
      " [-1.87080852  1.06532059]]\n"
     ]
    }
   ],
   "source": [
    "arr1 = np.array([[1, 2, 3], [4, 5, 6]])\n",
    "arr2 = np.array([[7, 8, 0], [10, 11, 12]])\n",
    "arr = np.vstack((arr1, arr2))\n",
    "print('横向拼接\\n', arr)\n",
    "arr = np.hstack((arr1, arr2))\n",
    "print('竖向拼接\\n', arr)\n",
    "\n",
    "arr = np.random.randn(6, 2)\n",
    "print(arr)\n",
    "first, second, third = np.split(arr, [1, 3])\n",
    "print('切割第一行', first)\n",
    "print('切割第二、三行', second)\n",
    "print('切割剩余行', third)"
   ],
   "metadata": {
    "collapsed": false
   }
  },
  {
   "cell_type": "markdown",
   "source": [
    "#### 重复元素"
   ],
   "metadata": {
    "collapsed": false
   }
  },
  {
   "cell_type": "code",
   "execution_count": 3,
   "outputs": [
    {
     "name": "stdout",
     "output_type": "stream",
     "text": [
      "[0 1 2]\n",
      "重复3次 [0 0 0 1 1 1 2 2 2]\n",
      "分别重复2,3,4次 [0 0 1 1 1 2 2 2 2]\n",
      "堆叠副本 [0 1 2 0 1 2]\n"
     ]
    }
   ],
   "source": [
    "import numpy as np\n",
    "arr = np.arange(3)\n",
    "print(arr)\n",
    "arr_rpt = arr.repeat(3)\n",
    "print('重复3次', arr_rpt)\n",
    "arr_rpt = arr.repeat([2, 3, 4])\n",
    "print('分别重复2,3,4次', arr_rpt)\n",
    "\n",
    "copy_title = np.tile(arr, 2)\n",
    "print('堆叠副本', copy_title)"
   ],
   "metadata": {
    "collapsed": false
   }
  },
  {
   "cell_type": "code",
   "execution_count": 14,
   "outputs": [
    {
     "name": "stdout",
     "output_type": "stream",
     "text": [
      "[  0 100 200 300 400 500 600 700 800 900]\n",
      "神奇索引 [400 600 700]\n",
      "神奇索引 [400 600 700]\n"
     ]
    }
   ],
   "source": [
    "arr = np.arange(10) * 100\n",
    "print(arr)\n",
    "inds = [4, 6, 7]\n",
    "print('神奇索引', arr[inds])\n",
    "print('神奇索引', arr.take(inds))\n",
    "\n"
   ],
   "metadata": {
    "collapsed": false
   }
  },
  {
   "cell_type": "code",
   "execution_count": null,
   "outputs": [],
   "source": [],
   "metadata": {
    "collapsed": false
   }
  }
 ],
 "metadata": {
  "kernelspec": {
   "display_name": "Python 3 (ipykernel)",
   "language": "python",
   "name": "python3"
  },
  "language_info": {
   "codemirror_mode": {
    "name": "ipython",
    "version": 3
   },
   "file_extension": ".py",
   "mimetype": "text/x-python",
   "name": "python",
   "nbconvert_exporter": "python",
   "pygments_lexer": "ipython3",
   "version": "3.11.2"
  }
 },
 "nbformat": 4,
 "nbformat_minor": 1
}

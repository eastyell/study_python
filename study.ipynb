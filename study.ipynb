{
 "cells": [
  {
   "cell_type": "markdown",
   "metadata": {},
   "source": [
    "### Python类动态调用函数"
   ]
  },
  {
   "cell_type": "code",
   "execution_count": null,
   "metadata": {
    "pycharm": {
     "is_executing": true
    }
   },
   "outputs": [],
   "source": [
    "import struct\n",
    "from types import MethodType\n",
    "\n",
    "class Cat(object):\n",
    "    def __int__(self):\n",
    "        super().__init__()\n",
    "\n",
    "def run(self):\n",
    "    print('cat is running!')\n",
    "\n",
    "def main():\n",
    "    cat01 = Cat()\n",
    "    cat01.run = MethodType(run, cat01)\n",
    "    cat01.run()\n",
    "\n",
    "if __name__ == '__main__':\n",
    "    main()"
   ]
  },
  {
   "cell_type": "markdown",
   "metadata": {},
   "source": [
    "### Python多线程"
   ]
  },
  {
   "cell_type": "code",
   "execution_count": 9,
   "metadata": {},
   "outputs": [
    {
     "name": "stdout",
     "output_type": "stream",
     "text": [
      "2023-02-23 14:15:06.869261\n",
      "张三\n"
     ]
    }
   ],
   "source": [
    "import datetime\n",
    "import time\n",
    "import threading\n",
    "\n",
    "class Mythread01(threading.Thread):\n",
    "    def __init__(self):\n",
    "        super(Mythread01, self).__init__()\n",
    "    def run(self):\n",
    "        while True:\n",
    "            now_time = datetime.datetime.now()\n",
    "            print(now_time)\n",
    "            time.sleep(1)\n",
    "\n",
    "class Mythread02(threading.Thread):\n",
    "    def __init__(self):\n",
    "        super(Mythread02, self).__init__()\n",
    "    def run(self):\n",
    "        while True:\n",
    "            print(\"张三\")\n",
    "            time.sleep(0.5)\n",
    "def main():\n",
    "    mt01 = Mythread01()\n",
    "    mt01.start()\n",
    "    mt02 = Mythread02()\n",
    "    mt02.start()\n",
    "\n",
    "if __name__==\"__main__\":\n",
    "    main()"
   ]
  },
  {
   "cell_type": "markdown",
   "metadata": {},
   "source": [
    "### 线程定时器使用"
   ]
  },
  {
   "cell_type": "code",
   "execution_count": 20,
   "metadata": {},
   "outputs": [
    {
     "name": "stdout",
     "output_type": "stream",
     "text": [
      "2023-02-23 14:54:04.346092\n",
      "2023-02-23 14:54:04.352784\n",
      "2023-02-23 14:54:04.352784\n",
      "2023-02-23 14:54:04.445138\n",
      "2023-02-23 14:54:04.445765\n",
      "2023-02-23 14:54:04.488039\n"
     ]
    }
   ],
   "source": [
    "import datetime\n",
    "import threading\n",
    "\n",
    "def run():\n",
    "    print(datetime.datetime.now())\n",
    "    r_t01 = threading.Timer(1, run)\n",
    "    r_t01.start()\n",
    "\n",
    "if __name__ ==  '__main__':\n",
    "    t01 = threading.Thread(target=run)\n",
    "    t01.start()"
   ]
  },
  {
   "cell_type": "markdown",
   "metadata": {},
   "source": [
    "### 列表排序"
   ]
  },
  {
   "cell_type": "code",
   "execution_count": 18,
   "metadata": {},
   "outputs": [
    {
     "name": "stdout",
     "output_type": "stream",
     "text": [
      "默认升序：  ['audi', 'bmw', 'subaru', 'toyota']\n",
      "降序：  ['toyota', 'subaru', 'bmw', 'audi']\n",
      "排序后返回新列表 ['audi', 'bmw', 'subaru', 'toyota']\n",
      "old cars ['toyota', 'subaru', 'bmw', 'audi']\n"
     ]
    }
   ],
   "source": [
    "cars = ['bmw', 'audi', 'toyota', 'subaru']\n",
    "cars.sort()  # 升序\n",
    "print('默认升序： ', cars)\n",
    "cars.sort(reverse=True) # 降序\n",
    "print('降序： ', cars)\n",
    "\n",
    "temp_cars = sorted(cars)  # 临时升序\n",
    "print('排序后返回新列表', temp_cars)\n",
    "print('old cars', cars)"
   ]
  },
  {
   "cell_type": "code",
   "execution_count": 60,
   "metadata": {},
   "outputs": [
    {
     "name": "stdout",
     "output_type": "stream",
     "text": [
      "构造列表： [1, 2, 3, 4, 5, 6, 7, 8, 9, 10]\n",
      "反转列表： [10, 9, 8, 7, 6, 5, 4, 3, 2, 1]\n"
     ]
    },
    {
     "ename": "TypeError",
     "evalue": "'list' object is not callable",
     "output_type": "error",
     "traceback": [
      "\u001B[1;31m---------------------------------------------------------------------------\u001B[0m",
      "\u001B[1;31mTypeError\u001B[0m                                 Traceback (most recent call last)",
      "Cell \u001B[1;32mIn[60], line 5\u001B[0m\n\u001B[0;32m      3\u001B[0m num\u001B[38;5;241m.\u001B[39mreverse()\n\u001B[0;32m      4\u001B[0m \u001B[38;5;28mprint\u001B[39m(\u001B[38;5;124m'\u001B[39m\u001B[38;5;124m反转列表：\u001B[39m\u001B[38;5;124m'\u001B[39m, num)\n\u001B[1;32m----> 5\u001B[0m new_num \u001B[38;5;241m=\u001B[39m \u001B[38;5;28;43mlist\u001B[39;49m\u001B[43m(\u001B[49m\u001B[38;5;28;43mreversed\u001B[39;49m\u001B[43m(\u001B[49m\u001B[43mnum\u001B[49m\u001B[43m)\u001B[49m\u001B[43m)\u001B[49m\n\u001B[0;32m      6\u001B[0m \u001B[38;5;28mprint\u001B[39m(\u001B[38;5;124m'\u001B[39m\u001B[38;5;124m生成新的反转列表：\u001B[39m\u001B[38;5;124m'\u001B[39m, new_num)\n",
      "\u001B[1;31mTypeError\u001B[0m: 'list' object is not callable"
     ]
    }
   ],
   "source": [
    "num =  [i for i in range(1, 11)]\n",
    "print('构造列表：', num)\n",
    "num.reverse()\n",
    "print('反转列表：', num)\n",
    "new_num = list(reversed(num))\n",
    "print('生成新的反转列表：', new_num)"
   ]
  },
  {
   "cell_type": "markdown",
   "source": [
    "### 切片"
   ],
   "metadata": {
    "collapsed": false
   }
  },
  {
   "cell_type": "code",
   "execution_count": 61,
   "metadata": {},
   "outputs": [
    {
     "ename": "TypeError",
     "evalue": "'list' object is not callable",
     "output_type": "error",
     "traceback": [
      "\u001B[1;31m---------------------------------------------------------------------------\u001B[0m",
      "\u001B[1;31mTypeError\u001B[0m                                 Traceback (most recent call last)",
      "Cell \u001B[1;32mIn[61], line 1\u001B[0m\n\u001B[1;32m----> 1\u001B[0m even_numbers \u001B[38;5;241m=\u001B[39m \u001B[38;5;28;43mlist\u001B[39;49m\u001B[43m(\u001B[49m\u001B[38;5;28;43mrange\u001B[39;49m\u001B[43m(\u001B[49m\u001B[38;5;241;43m2\u001B[39;49m\u001B[43m,\u001B[49m\u001B[38;5;241;43m11\u001B[39;49m\u001B[43m,\u001B[49m\u001B[38;5;241;43m2\u001B[39;49m\u001B[43m)\u001B[49m\u001B[43m)\u001B[49m\n\u001B[0;32m      2\u001B[0m \u001B[38;5;28mprint\u001B[39m(even_numbers)\n\u001B[0;32m      3\u001B[0m \u001B[38;5;28mprint\u001B[39m(even_numbers[:\u001B[38;5;241m3\u001B[39m])\n",
      "\u001B[1;31mTypeError\u001B[0m: 'list' object is not callable"
     ]
    }
   ],
   "source": [
    "even_numbers = list(range(2,11,2))\n",
    "print(even_numbers)\n",
    "print(even_numbers[:3])\n",
    "print(even_numbers[-3:])\n",
    "print(even_numbers[0:-2])\n",
    "print('步长为-1切片：列表反转', even_numbers[::-1])\n",
    "print('步长为-2切片：', even_numbers[::-2])\n",
    "print('步长为2切片：', even_numbers[::2])"
   ]
  },
  {
   "cell_type": "markdown",
   "source": [
    "### 内部函数"
   ],
   "metadata": {
    "collapsed": false
   }
  },
  {
   "cell_type": "code",
   "execution_count": 7,
   "metadata": {},
   "outputs": [
    {
     "data": {
      "text/plain": "{0: 'foo', 1: 'bar', 2: 'baz'}"
     },
     "execution_count": 7,
     "metadata": {},
     "output_type": "execute_result"
    }
   ],
   "source": [
    "some_list = ['foo', 'bar', 'baz']\n",
    "mapping = {}\n",
    "for i,v in enumerate(some_list):\n",
    "    mapping[i] = v\n",
    "mapping"
   ]
  },
  {
   "cell_type": "code",
   "execution_count": 95,
   "outputs": [
    {
     "name": "stdout",
     "output_type": "stream",
     "text": [
      "Alabab\n",
      "baidu\n",
      "tengxun\n"
     ]
    }
   ],
   "source": [
    "import re\n",
    "states = ['  Alabab ', 'baidu@#!', 'teng%$@!xun']\n",
    "def remove_punctutation(value):\n",
    "    return  re.sub('[!#?@%$\" \"]', '', value)\n",
    "for x in map(remove_punctutation, states):\n",
    "    print(x)\n"
   ],
   "metadata": {
    "collapsed": false
   }
  },
  {
   "cell_type": "code",
   "execution_count": 105,
   "outputs": [
    {
     "name": "stdout",
     "output_type": "stream",
     "text": [
      "20\n",
      "['aaa', 'foo', 'bar', 'card']\n"
     ]
    }
   ],
   "source": [
    "# 匿名函数 没有__name__属性\n",
    "equiv_anon = lambda y: y * 2\n",
    "print(equiv_anon(10))\n",
    "\n",
    "strings = ['foo', 'card', 'bar', 'aaa']\n",
    "strings.sort(key=lambda k: len(set(list(k))))\n",
    "print(strings)"
   ],
   "metadata": {
    "collapsed": false
   }
  },
  {
   "cell_type": "code",
   "execution_count": 50,
   "outputs": [
    {
     "name": "stdout",
     "output_type": "stream",
     "text": [
      "[0, 3, 4, 8, 9, 32, -2, -5, -6, -20]\n"
     ]
    }
   ],
   "source": [
    "foo = [-5, 8, 0, 4, 9, -20, -2, 3, -6, 32]\n",
    "a = sorted(foo, key=lambda x:(x<-1, abs(x)))\n",
    "print(a)"
   ],
   "metadata": {
    "collapsed": false
   }
  },
  {
   "cell_type": "code",
   "execution_count": 51,
   "outputs": [
    {
     "name": "stdout",
     "output_type": "stream",
     "text": [
      "['a', 'asd', 'ssdf', 'dfgfrty']\n"
     ]
    }
   ],
   "source": [
    "s = ['a', 'dfgfrty', 'ssdf', 'asd']\n",
    "sort_s = sorted(s, key=lambda x: len(x))\n",
    "print(sort_s)"
   ],
   "metadata": {
    "collapsed": false
   }
  },
  {
   "cell_type": "code",
   "execution_count": null,
   "outputs": [],
   "source": [
    "s = 'sgjqsafgxvyiomsadf'\n",
    "s = set(s)\n",
    "l = list(s)\n",
    "l.sort()\n",
    "res = ''.join(l)\n",
    "print(res)"
   ],
   "metadata": {
    "collapsed": false
   }
  },
  {
   "cell_type": "code",
   "execution_count": 109,
   "outputs": [
    {
     "name": "stdout",
     "output_type": "stream",
     "text": [
      "285\n",
      "{0: 0, 1: 1, 2: 4, 3: 9, 4: 16}\n"
     ]
    }
   ],
   "source": [
    "# 生成器表达式\n",
    "sum_value = sum(x ** 2 for x in range(10))\n",
    "print(sum_value)\n",
    "\n",
    "dict_value = dict((i, i **2) for i in range(5))\n",
    "print(dict_value)"
   ],
   "metadata": {
    "collapsed": false
   }
  },
  {
   "cell_type": "markdown",
   "source": [
    "### 将列表、元组或其他序列元素配对，新建一个元组构成列表"
   ],
   "metadata": {
    "collapsed": false
   }
  },
  {
   "cell_type": "code",
   "execution_count": 55,
   "outputs": [
    {
     "ename": "TypeError",
     "evalue": "'list' object is not callable",
     "output_type": "error",
     "traceback": [
      "\u001B[1;31m---------------------------------------------------------------------------\u001B[0m",
      "\u001B[1;31mTypeError\u001B[0m                                 Traceback (most recent call last)",
      "Cell \u001B[1;32mIn[55], line 4\u001B[0m\n\u001B[0;32m      2\u001B[0m seq2 \u001B[38;5;241m=\u001B[39m [\u001B[38;5;124m'\u001B[39m\u001B[38;5;124mfoo\u001B[39m\u001B[38;5;124m'\u001B[39m, \u001B[38;5;124m'\u001B[39m\u001B[38;5;124mbar\u001B[39m\u001B[38;5;124m'\u001B[39m, \u001B[38;5;124m'\u001B[39m\u001B[38;5;124mbaz\u001B[39m\u001B[38;5;124m'\u001B[39m]\n\u001B[0;32m      3\u001B[0m zipped \u001B[38;5;241m=\u001B[39m \u001B[38;5;28mzip\u001B[39m(seq1, seq2)\n\u001B[1;32m----> 4\u001B[0m zipped_list \u001B[38;5;241m=\u001B[39m \u001B[38;5;28;43mlist\u001B[39;49m\u001B[43m(\u001B[49m\u001B[43mzipped\u001B[49m\u001B[43m)\u001B[49m\n\u001B[0;32m      5\u001B[0m \u001B[38;5;28mprint\u001B[39m(zipped_list)\n\u001B[0;32m      6\u001B[0m nums, names \u001B[38;5;241m=\u001B[39m \u001B[38;5;28mzip\u001B[39m(\u001B[38;5;241m*\u001B[39mzipped_list)\n",
      "\u001B[1;31mTypeError\u001B[0m: 'list' object is not callable"
     ]
    }
   ],
   "source": [
    "seq1 = ['one', 'two', 'three']\n",
    "seq2 = ['foo', 'bar', 'baz']\n",
    "zipped = zip(seq1, seq2)\n",
    "zipped_list = list(zipped)\n",
    "print(zipped_list)\n",
    "nums, names = zip(*zipped_list)\n",
    "nums, names\n"
   ],
   "metadata": {
    "collapsed": false
   }
  },
  {
   "cell_type": "markdown",
   "source": [
    "### 字典"
   ],
   "metadata": {
    "collapsed": false
   }
  },
  {
   "cell_type": "code",
   "execution_count": 29,
   "outputs": [
    {
     "data": {
      "text/plain": "{'one': 'foo', 'two': 'bar', 'three': 'baz'}"
     },
     "execution_count": 29,
     "metadata": {},
     "output_type": "execute_result"
    }
   ],
   "source": [
    "mapping = {}\n",
    "seq1 = ['one', 'two', 'three']\n",
    "seq2 = ['foo', 'bar', 'baz']\n",
    "for key, value in zip(seq1, seq2):\n",
    "    mapping[key] = value\n",
    "mapping"
   ],
   "metadata": {
    "collapsed": false
   }
  },
  {
   "cell_type": "code",
   "execution_count": 38,
   "outputs": [
    {
     "data": {
      "text/plain": "{0: 5, 1: 4, 2: 3, 3: 2, 4: 1}"
     },
     "execution_count": 38,
     "metadata": {},
     "output_type": "execute_result"
    }
   ],
   "source": [
    "mapping = dict(zip(range(5), reversed(range(1, 6))))\n",
    "mapping"
   ],
   "metadata": {
    "collapsed": false
   }
  },
  {
   "cell_type": "code",
   "execution_count": 110,
   "outputs": [
    {
     "data": {
      "text/plain": "{'a': ['appale'], 'b': ['bat', 'bar'], 'c': ['cook']}"
     },
     "execution_count": 110,
     "metadata": {},
     "output_type": "execute_result"
    }
   ],
   "source": [
    "# value = some_dict.get(key, default_value)\n",
    "\n",
    "by_letter = {}\n",
    "words = ['appale', 'bat', 'bar', 'cook']\n",
    "for word in words:\n",
    "    letter = word[0]\n",
    "    by_letter.setdefault(letter,[]).append(word)\n",
    "by_letter"
   ],
   "metadata": {
    "collapsed": false
   }
  },
  {
   "cell_type": "code",
   "execution_count": 54,
   "outputs": [
    {
     "name": "stdout",
     "output_type": "stream",
     "text": [
      "sorted根据字典建排序： [('age', 18), ('city', '深圳'), ('name', 'ZS'), ('tel', '13748727649')]\n"
     ]
    }
   ],
   "source": [
    "# 字典根据键从小到大排序\n",
    "dict = {'name': 'ZS', 'age': 18, 'city': '深圳', 'tel': '13748727649'}\n",
    "# e表示dict.items()中的一个元素，e[1],则表示按值排序,如果把e[1]改成e[0],那么则是按键排序\n",
    "lists = sorted(dict.items(), key=lambda e:e[0], reverse=False)\n",
    "print('sorted根据字典建排序：', lists)"
   ],
   "metadata": {
    "collapsed": false
   }
  },
  {
   "cell_type": "markdown",
   "source": [
    "### 列表推导式"
   ],
   "metadata": {
    "collapsed": false
   }
  },
  {
   "cell_type": "code",
   "execution_count": 53,
   "outputs": [
    {
     "name": "stdout",
     "output_type": "stream",
     "text": [
      "['BOOK']\n",
      "{0: 'a', 1: 'book', 2: 'car', 3: 'bat'}\n"
     ]
    }
   ],
   "source": [
    "strings = ['a', 'book', 'car', 'bat']\n",
    "mapping =  [x.upper() for x in strings if len(x) > 3]\n",
    "print(mapping)\n",
    "loc_mapping = {index: val for index, val in enumerate(strings)}\n",
    "print(loc_mapping)"
   ],
   "metadata": {
    "collapsed": false
   }
  },
  {
   "cell_type": "code",
   "execution_count": 62,
   "outputs": [
    {
     "data": {
      "text/plain": "['a', 'car', 'bat']"
     },
     "execution_count": 62,
     "metadata": {},
     "output_type": "execute_result"
    }
   ],
   "source": [
    "# 嵌套列表推导式\n",
    "strings = [['a', 'book'], ['car', 'bat']]\n",
    "result = [name for names in strings for name in names if name.count('a') >= 1]\n",
    "result"
   ],
   "metadata": {
    "collapsed": false
   }
  },
  {
   "cell_type": "code",
   "execution_count": 56,
   "outputs": [
    {
     "data": {
      "text/plain": "[16, 25]"
     },
     "execution_count": 56,
     "metadata": {},
     "output_type": "execute_result"
    }
   ],
   "source": [
    "lists = [i for i in range(1,6)]\n",
    "result = map(lambda x: x**2, lists)\n",
    "result = [i for i in result if i > 10]\n",
    "result"
   ],
   "metadata": {
    "collapsed": false
   }
  },
  {
   "cell_type": "code",
   "execution_count": 58,
   "outputs": [
    {
     "ename": "TypeError",
     "evalue": "'list' object is not callable",
     "output_type": "error",
     "traceback": [
      "\u001B[1;31m---------------------------------------------------------------------------\u001B[0m",
      "\u001B[1;31mTypeError\u001B[0m                                 Traceback (most recent call last)",
      "Cell \u001B[1;32mIn[58], line 2\u001B[0m\n\u001B[0;32m      1\u001B[0m a \u001B[38;5;241m=\u001B[39m [\u001B[38;5;124m'\u001B[39m\u001B[38;5;124m苏州\u001B[39m\u001B[38;5;124m'\u001B[39m, \u001B[38;5;124m'\u001B[39m\u001B[38;5;124m中国\u001B[39m\u001B[38;5;124m'\u001B[39m, \u001B[38;5;124m'\u001B[39m\u001B[38;5;124m哈哈\u001B[39m\u001B[38;5;124m'\u001B[39m, \u001B[38;5;124m'\u001B[39m\u001B[38;5;124m'\u001B[39m,\u001B[38;5;124m'\u001B[39m\u001B[38;5;124m日本\u001B[39m\u001B[38;5;124m'\u001B[39m, \u001B[38;5;124m'\u001B[39m\u001B[38;5;124m'\u001B[39m,\u001B[38;5;124m'\u001B[39m\u001B[38;5;124m英国\u001B[39m\u001B[38;5;124m'\u001B[39m]\n\u001B[1;32m----> 2\u001B[0m res \u001B[38;5;241m=\u001B[39m \u001B[38;5;28;43mlist\u001B[39;49m\u001B[43m(\u001B[49m\u001B[38;5;28;43mmap\u001B[39;49m\u001B[43m(\u001B[49m\u001B[38;5;28;43;01mlambda\u001B[39;49;00m\u001B[43m \u001B[49m\u001B[43mx\u001B[49m\u001B[43m:\u001B[49m\u001B[38;5;124;43m'\u001B[39;49m\u001B[38;5;124;43m无数据\u001B[39;49m\u001B[38;5;124;43m'\u001B[39;49m\u001B[43m \u001B[49m\u001B[38;5;28;43;01mif\u001B[39;49;00m\u001B[43m \u001B[49m\u001B[43mx\u001B[49m\u001B[38;5;241;43m==\u001B[39;49m\u001B[38;5;124;43m'\u001B[39;49m\u001B[38;5;124;43m'\u001B[39;49m\u001B[43m \u001B[49m\u001B[38;5;28;43;01melse\u001B[39;49;00m\u001B[43m \u001B[49m\u001B[43mx\u001B[49m\u001B[43m,\u001B[49m\u001B[43ma\u001B[49m\u001B[43m)\u001B[49m\u001B[43m)\u001B[49m\n\u001B[0;32m      3\u001B[0m \u001B[38;5;28mprint\u001B[39m(res)\n",
      "\u001B[1;31mTypeError\u001B[0m: 'list' object is not callable"
     ]
    }
   ],
   "source": [
    "a = ['苏州', '中国', '哈哈', '','日本', '','英国']\n",
    "res = list(map(lambda x:'无数据' if x=='' else x,a))\n",
    "print(res)"
   ],
   "metadata": {
    "collapsed": false
   }
  },
  {
   "cell_type": "code",
   "execution_count": 36,
   "outputs": [
    {
     "name": "stdout",
     "output_type": "stream",
     "text": [
      "[1, 3, 5, 7, 9]\n",
      "[1, 3, 5, 7, 9]\n"
     ]
    }
   ],
   "source": [
    "a = [i for i in range(1,11)]\n",
    "res = [i for i in a if i%2==1]\n",
    "print(res)\n",
    "\n",
    "a = [i for i in range(1,11)]\n",
    "newlist = filter(lambda x: x%2==1, a)\n",
    "newlist = [i for i in newlist]\n",
    "print(newlist)"
   ],
   "metadata": {
    "collapsed": false
   }
  },
  {
   "cell_type": "markdown",
   "source": [
    "### 全局变量"
   ],
   "metadata": {
    "collapsed": false
   }
  },
  {
   "cell_type": "code",
   "execution_count": 78,
   "outputs": [
    {
     "name": "stdout",
     "output_type": "stream",
     "text": [
      "[1, 2]\n"
     ]
    }
   ],
   "source": [
    "a = []\n",
    "def test():\n",
    "    global a\n",
    "    a = [1,2]\n",
    "test()\n",
    "print(a)"
   ],
   "metadata": {
    "collapsed": false
   }
  },
  {
   "cell_type": "code",
   "execution_count": 42,
   "outputs": [
    {
     "name": "stdout",
     "output_type": "stream",
     "text": [
      "2023-02-28 14:33:06 星期2\n"
     ]
    }
   ],
   "source": [
    "import datetime\n",
    "print(str(datetime.datetime.now().strftime('%Y-%m-%d %H:%M:%S')) + ' 星期' + str(datetime.datetime.now().isoweekday()))"
   ],
   "metadata": {
    "collapsed": false
   }
  },
  {
   "cell_type": "markdown",
   "source": [
    "### 正则表达式"
   ],
   "metadata": {
    "collapsed": false
   }
  },
  {
   "cell_type": "code",
   "execution_count": 44,
   "outputs": [
    {
     "name": "stdout",
     "output_type": "stream",
     "text": [
      "贪婪匹配 ['哈哈</a><a>嘿嘿']\n",
      "非贪婪匹配 ['哈哈', '嘿嘿']\n"
     ]
    }
   ],
   "source": [
    "# (.*) 贪婪匹配，会把满足正则的尽可能多的往后匹配\n",
    "# （。*？）非贪婪匹配，会把满足正则的尽可能少匹配\n",
    "import re\n",
    "s = '<a>哈哈</a><a>嘿嘿</a>'\n",
    "res1 = re.findall('<a>(.*)</a>', s)\n",
    "print('贪婪匹配', res1)\n",
    "res2 = re.findall('<a>(.*?)</a>', s)\n",
    "print('非贪婪匹配', res2)"
   ],
   "metadata": {
    "collapsed": false
   }
  },
  {
   "cell_type": "code",
   "execution_count": 46,
   "outputs": [
    {
     "name": "stdout",
     "output_type": "stream",
     "text": [
      "李俊100分\n",
      "*95*\n"
     ]
    }
   ],
   "source": [
    "import re\n",
    "a = '李俊95分'\n",
    "ret = re.sub(r'\\d+', '100', a)  # \\d数字   \\D非数字字符\n",
    "print(ret)\n",
    "ret = re.sub(r'\\D+', '*', a)\n",
    "print(ret)"
   ],
   "metadata": {
    "collapsed": false
   }
  },
  {
   "cell_type": "code",
   "execution_count": 52,
   "outputs": [
    {
     "name": "stdout",
     "output_type": "stream",
     "text": [
      "['info', 'xiaoZhang', '23', 'shanghai']\n"
     ]
    }
   ],
   "source": [
    "s = 'info:xiaoZhang 23 shanghai'\n",
    "res = re.split(r':| ', s)\n",
    "print(res)"
   ],
   "metadata": {
    "collapsed": false
   }
  },
  {
   "cell_type": "markdown",
   "source": [
    "### 装饰器"
   ],
   "metadata": {
    "collapsed": false
   }
  },
  {
   "cell_type": "code",
   "execution_count": 62,
   "outputs": [
    {
     "name": "stdout",
     "output_type": "stream",
     "text": [
      "155\n"
     ]
    }
   ],
   "source": [
    "def net_weight(peel):\n",
    "    def outwrapper(f):\n",
    "        def wrapper(*args, **kwargs):\n",
    "            now_weight = f(*args, **kwargs)\n",
    "            return now_weight-peel\n",
    "        return wrapper\n",
    "    return outwrapper\n",
    "\n",
    "@net_weight(5)\n",
    "def weight(n):\n",
    "    return n\n",
    "print(weight(160))\n"
   ],
   "metadata": {
    "collapsed": false
   }
  },
  {
   "cell_type": "code",
   "execution_count": 66,
   "outputs": [
    {
     "name": "stdout",
     "output_type": "stream",
     "text": [
      "Something is happening before the function is called.\n",
      "Whee!\n",
      "Something is happening after the function is called.\n"
     ]
    }
   ],
   "source": [
    "def my_decorator(func):\n",
    "    def wrapper():\n",
    "        print(\"Something is happening before the function is called.\")\n",
    "        func()\n",
    "        print(\"Something is happening after the function is called.\")\n",
    "    return wrapper\n",
    "\n",
    "@my_decorator\n",
    "def say_whee():\n",
    "    print(\"Whee!\")\n",
    "\n",
    "say_whee()"
   ],
   "metadata": {
    "collapsed": false
   }
  },
  {
   "cell_type": "code",
   "execution_count": 82,
   "outputs": [
    {
     "name": "stdout",
     "output_type": "stream",
     "text": [
      "Hello world\n",
      "Hello world\n"
     ]
    }
   ],
   "source": [
    "def do_twice(func):\n",
    "    def wrapper_do_twice(*args, **kwargs):\n",
    "        func(*args, **kwargs)\n",
    "        func(*args, **kwargs)\n",
    "    return wrapper_do_twice\n",
    "\n",
    "@do_twice\n",
    "def greet(word):\n",
    "    print(\"Hello\", word)\n",
    "\n",
    "greet('world')"
   ],
   "metadata": {
    "collapsed": false
   }
  },
  {
   "cell_type": "code",
   "execution_count": 87,
   "outputs": [
    {
     "name": "stdout",
     "output_type": "stream",
     "text": [
      "func three run time 1.0116841793060303\n",
      "func three run time 1.0080668926239014\n",
      "func three run time 1.0161490440368652\n"
     ]
    }
   ],
   "source": [
    "from time import sleep, time\n",
    "def run_time(func):\n",
    "    def wrapper():\n",
    "        start = time()\n",
    "        func()                  # 函数在这里运行\n",
    "        end = time()\n",
    "        cost_time = end - start\n",
    "        print(\"func three run time {}\".format(cost_time))\n",
    "    return wrapper\n",
    "\n",
    "@run_time\n",
    "def fun_one():\n",
    "    sleep(1)\n",
    "\n",
    "@run_time\n",
    "def fun_two():\n",
    "    sleep(1)\n",
    "\n",
    "@run_time\n",
    "def fun_three():\n",
    "    sleep(1)\n",
    "\n",
    "fun_one()\n",
    "fun_two()\n",
    "fun_three()\n"
   ],
   "metadata": {
    "collapsed": false
   }
  },
  {
   "cell_type": "code",
   "execution_count": 90,
   "outputs": [
    {
     "name": "stdout",
     "output_type": "stream",
     "text": [
      "[One] func three run time 1.0048027038574219\n",
      "[Two] func three run time 1.0476858615875244\n",
      "[Three] func three run time 1.123077392578125\n"
     ]
    }
   ],
   "source": [
    "def logger(msg=None):\n",
    "    def run_time(func):\n",
    "        def wrapper(*args, **kwargs):\n",
    "            start = time()\n",
    "            func()                  # 函数在这里运行\n",
    "            end = time()\n",
    "            cost_time = end - start\n",
    "            print(\"[{}] func three run time {}\".format(msg, cost_time))\n",
    "        return wrapper\n",
    "    return run_time\n",
    "\n",
    "@logger(msg=\"One\")\n",
    "def fun_one():\n",
    "    sleep(1)\n",
    "\n",
    "@logger(msg=\"Two\")\n",
    "def fun_two():\n",
    "    sleep(1)\n",
    "\n",
    "@logger(msg=\"Three\")\n",
    "def fun_three():\n",
    "    sleep(1)\n",
    "\n",
    "fun_one()\n",
    "fun_two()\n",
    "fun_three()"
   ],
   "metadata": {
    "collapsed": false
   }
  },
  {
   "cell_type": "code",
   "execution_count": null,
   "outputs": [],
   "source": [],
   "metadata": {
    "collapsed": false
   }
  }
 ],
 "metadata": {
  "kernelspec": {
   "display_name": "Python 3 (ipykernel)",
   "language": "python",
   "name": "python3"
  },
  "language_info": {
   "codemirror_mode": {
    "name": "ipython",
    "version": 3
   },
   "file_extension": ".py",
   "mimetype": "text/x-python",
   "name": "python",
   "nbconvert_exporter": "python",
   "pygments_lexer": "ipython3",
   "version": "3.11.2"
  }
 },
 "nbformat": 4,
 "nbformat_minor": 1
}

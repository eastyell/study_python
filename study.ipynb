{
 "cells": [
  {
   "cell_type": "markdown",
   "metadata": {},
   "source": [
    "### Python类动态调用函数"
   ]
  },
  {
   "cell_type": "code",
   "execution_count": null,
   "metadata": {
    "pycharm": {
     "is_executing": true
    }
   },
   "outputs": [],
   "source": [
    "import struct\n",
    "from types import MethodType\n",
    "\n",
    "class Cat(object):\n",
    "    def __int__(self):\n",
    "        super().__init__()\n",
    "\n",
    "def run(self):\n",
    "    print('cat is running!')\n",
    "\n",
    "def main():\n",
    "    cat01 = Cat()\n",
    "    cat01.run = MethodType(run, cat01)\n",
    "    cat01.run()\n",
    "\n",
    "if __name__ == '__main__':\n",
    "    main()"
   ]
  },
  {
   "cell_type": "markdown",
   "metadata": {},
   "source": [
    "### Python多线程"
   ]
  },
  {
   "cell_type": "code",
   "execution_count": 9,
   "metadata": {},
   "outputs": [
    {
     "name": "stdout",
     "output_type": "stream",
     "text": [
      "2023-02-23 14:15:06.869261\n",
      "张三\n"
     ]
    }
   ],
   "source": [
    "import datetime\n",
    "import time\n",
    "import threading\n",
    "\n",
    "class Mythread01(threading.Thread):\n",
    "    def __init__(self):\n",
    "        super(Mythread01, self).__init__()\n",
    "    def run(self):\n",
    "        while True:\n",
    "            now_time = datetime.datetime.now()\n",
    "            print(now_time)\n",
    "            time.sleep(1)\n",
    "\n",
    "class Mythread02(threading.Thread):\n",
    "    def __init__(self):\n",
    "        super(Mythread02, self).__init__()\n",
    "    def run(self):\n",
    "        while True:\n",
    "            print(\"张三\")\n",
    "            time.sleep(0.5)\n",
    "def main():\n",
    "    mt01 = Mythread01()\n",
    "    mt01.start()\n",
    "    mt02 = Mythread02()\n",
    "    mt02.start()\n",
    "\n",
    "if __name__==\"__main__\":\n",
    "    main()"
   ]
  },
  {
   "cell_type": "markdown",
   "metadata": {},
   "source": [
    "### 线程定时器使用"
   ]
  },
  {
   "cell_type": "code",
   "execution_count": 20,
   "metadata": {},
   "outputs": [
    {
     "name": "stdout",
     "output_type": "stream",
     "text": [
      "2023-02-23 14:54:04.346092\n",
      "2023-02-23 14:54:04.352784\n",
      "2023-02-23 14:54:04.352784\n",
      "2023-02-23 14:54:04.445138\n",
      "2023-02-23 14:54:04.445765\n",
      "2023-02-23 14:54:04.488039\n"
     ]
    }
   ],
   "source": [
    "import datetime\n",
    "import threading\n",
    "\n",
    "def run():\n",
    "    print(datetime.datetime.now())\n",
    "    r_t01 = threading.Timer(1, run)\n",
    "    r_t01.start()\n",
    "\n",
    "if __name__ ==  '__main__':\n",
    "    t01 = threading.Thread(target=run)\n",
    "    t01.start()"
   ]
  },
  {
   "cell_type": "markdown",
   "metadata": {},
   "source": [
    "### 列表排序"
   ]
  },
  {
   "cell_type": "code",
   "execution_count": 18,
   "metadata": {},
   "outputs": [
    {
     "name": "stdout",
     "output_type": "stream",
     "text": [
      "默认升序：  ['audi', 'bmw', 'subaru', 'toyota']\n",
      "降序：  ['toyota', 'subaru', 'bmw', 'audi']\n",
      "排序后返回新列表 ['audi', 'bmw', 'subaru', 'toyota']\n",
      "old cars ['toyota', 'subaru', 'bmw', 'audi']\n"
     ]
    }
   ],
   "source": [
    "cars = ['bmw', 'audi', 'toyota', 'subaru']\n",
    "cars.sort()  # 升序\n",
    "print('默认升序： ', cars)\n",
    "cars.sort(reverse=True) # 降序\n",
    "print('降序： ', cars)\n",
    "\n",
    "temp_cars = sorted(cars)  # 临时升序\n",
    "print('排序后返回新列表', temp_cars)\n",
    "print('old cars', cars)"
   ]
  },
  {
   "cell_type": "code",
   "execution_count": 21,
   "metadata": {},
   "outputs": [
    {
     "name": "stdout",
     "output_type": "stream",
     "text": [
      "构造列表： [1, 2, 3, 4, 5, 6, 7, 8, 9, 10]\n",
      "反转列表： [10, 9, 8, 7, 6, 5, 4, 3, 2, 1]\n",
      "生成新的反转列表： [1, 2, 3, 4, 5, 6, 7, 8, 9, 10]\n"
     ]
    }
   ],
   "source": [
    "num =  [i for i in range(1, 11)]\n",
    "print('构造列表：', num)\n",
    "num.reverse()\n",
    "print('反转列表：', num)\n",
    "new_num = list(reversed(num))\n",
    "print('生成新的反转列表：', new_num)"
   ]
  },
  {
   "cell_type": "markdown",
   "source": [
    "### 切片"
   ],
   "metadata": {
    "collapsed": false
   }
  },
  {
   "cell_type": "code",
   "execution_count": 22,
   "metadata": {},
   "outputs": [
    {
     "name": "stdout",
     "output_type": "stream",
     "text": [
      "[2, 4, 6, 8, 10]\n",
      "[2, 4, 6]\n",
      "[6, 8, 10]\n",
      "[2, 4, 6]\n",
      "步长为-1切片：列表反转 [10, 8, 6, 4, 2]\n",
      "步长为-2切片： [10, 6, 2]\n",
      "步长为2切片： [2, 6, 10]\n"
     ]
    }
   ],
   "source": [
    "even_numbers = list(range(2,11,2))\n",
    "print(even_numbers)\n",
    "print(even_numbers[:3])\n",
    "print(even_numbers[-3:])\n",
    "print(even_numbers[0:-2])\n",
    "print('步长为-1切片：列表反转', even_numbers[::-1])\n",
    "print('步长为-2切片：', even_numbers[::-2])\n",
    "print('步长为2切片：', even_numbers[::2])"
   ]
  },
  {
   "cell_type": "markdown",
   "source": [
    "### 内部函数"
   ],
   "metadata": {
    "collapsed": false
   }
  },
  {
   "cell_type": "code",
   "execution_count": 7,
   "metadata": {},
   "outputs": [
    {
     "data": {
      "text/plain": "{0: 'foo', 1: 'bar', 2: 'baz'}"
     },
     "execution_count": 7,
     "metadata": {},
     "output_type": "execute_result"
    }
   ],
   "source": [
    "some_list = ['foo', 'bar', 'baz']\n",
    "mapping = {}\n",
    "for i,v in enumerate(some_list):\n",
    "    mapping[i] = v\n",
    "mapping"
   ]
  },
  {
   "cell_type": "code",
   "execution_count": 95,
   "outputs": [
    {
     "name": "stdout",
     "output_type": "stream",
     "text": [
      "Alabab\n",
      "baidu\n",
      "tengxun\n"
     ]
    }
   ],
   "source": [
    "import re\n",
    "states = ['  Alabab ', 'baidu@#!', 'teng%$@!xun']\n",
    "def remove_punctutation(value):\n",
    "    return  re.sub('[!#?@%$\" \"]', '', value)\n",
    "for x in map(remove_punctutation, states):\n",
    "    print(x)\n"
   ],
   "metadata": {
    "collapsed": false
   }
  },
  {
   "cell_type": "code",
   "execution_count": 105,
   "outputs": [
    {
     "name": "stdout",
     "output_type": "stream",
     "text": [
      "20\n",
      "['aaa', 'foo', 'bar', 'card']\n"
     ]
    }
   ],
   "source": [
    "# 匿名函数 没有__name__属性\n",
    "equiv_anon = lambda y: y * 2\n",
    "print(equiv_anon(10))\n",
    "\n",
    "strings = ['foo', 'card', 'bar', 'aaa']\n",
    "strings.sort(key=lambda k: len(set(list(k))))\n",
    "print(strings)"
   ],
   "metadata": {
    "collapsed": false
   }
  },
  {
   "cell_type": "code",
   "execution_count": 109,
   "outputs": [
    {
     "name": "stdout",
     "output_type": "stream",
     "text": [
      "285\n",
      "{0: 0, 1: 1, 2: 4, 3: 9, 4: 16}\n"
     ]
    }
   ],
   "source": [
    "# 生成器表达式\n",
    "sum_value = sum(x ** 2 for x in range(10))\n",
    "print(sum_value)\n",
    "\n",
    "dict_value = dict((i, i **2) for i in range(5))\n",
    "print(dict_value)"
   ],
   "metadata": {
    "collapsed": false
   }
  },
  {
   "cell_type": "markdown",
   "source": [
    "### 将列表、元组或其他序列元素配对，新建一个元组构成列表"
   ],
   "metadata": {
    "collapsed": false
   }
  },
  {
   "cell_type": "code",
   "execution_count": 28,
   "outputs": [
    {
     "name": "stdout",
     "output_type": "stream",
     "text": [
      "[('one', 'foo'), ('two', 'bar'), ('three', 'baz')]\n"
     ]
    },
    {
     "data": {
      "text/plain": "(('one', 'two', 'three'), ('foo', 'bar', 'baz'))"
     },
     "execution_count": 28,
     "metadata": {},
     "output_type": "execute_result"
    }
   ],
   "source": [
    "seq1 = ['one', 'two', 'three']\n",
    "seq2 = ['foo', 'bar', 'baz']\n",
    "zipped = zip(seq1, seq2)\n",
    "zipped_list = list(zipped)\n",
    "print(zipped_list)\n",
    "nums, names = zip(*zipped_list)\n",
    "nums, names\n"
   ],
   "metadata": {
    "collapsed": false
   }
  },
  {
   "cell_type": "markdown",
   "source": [
    "### 字典"
   ],
   "metadata": {
    "collapsed": false
   }
  },
  {
   "cell_type": "code",
   "execution_count": 29,
   "outputs": [
    {
     "data": {
      "text/plain": "{'one': 'foo', 'two': 'bar', 'three': 'baz'}"
     },
     "execution_count": 29,
     "metadata": {},
     "output_type": "execute_result"
    }
   ],
   "source": [
    "mapping = {}\n",
    "seq1 = ['one', 'two', 'three']\n",
    "seq2 = ['foo', 'bar', 'baz']\n",
    "for key, value in zip(seq1, seq2):\n",
    "    mapping[key] = value\n",
    "mapping"
   ],
   "metadata": {
    "collapsed": false
   }
  },
  {
   "cell_type": "code",
   "execution_count": 38,
   "outputs": [
    {
     "data": {
      "text/plain": "{0: 5, 1: 4, 2: 3, 3: 2, 4: 1}"
     },
     "execution_count": 38,
     "metadata": {},
     "output_type": "execute_result"
    }
   ],
   "source": [
    "mapping = dict(zip(range(5), reversed(range(1, 6))))\n",
    "mapping"
   ],
   "metadata": {
    "collapsed": false
   }
  },
  {
   "cell_type": "markdown",
   "source": [
    "# value = some_dict.get(key, default_value)\n",
    "\n",
    "by_letter = {}\n",
    "words = ['appale', 'bat', 'bar', 'cook']\n",
    "for word in words:\n",
    "    letter = word[0]\n",
    "    by_letter.setdefault(letter,[]).append(word)\n",
    "by_letter"
   ],
   "metadata": {
    "collapsed": false
   }
  },
  {
   "cell_type": "markdown",
   "source": [
    "### 列表推导式"
   ],
   "metadata": {
    "collapsed": false
   }
  },
  {
   "cell_type": "code",
   "execution_count": 53,
   "outputs": [
    {
     "name": "stdout",
     "output_type": "stream",
     "text": [
      "['BOOK']\n",
      "{0: 'a', 1: 'book', 2: 'car', 3: 'bat'}\n"
     ]
    }
   ],
   "source": [
    "strings = ['a', 'book', 'car', 'bat']\n",
    "mapping =  [x.upper() for x in strings if len(x) > 3]\n",
    "print(mapping)\n",
    "loc_mapping = {index: val for index, val in enumerate(strings)}\n",
    "print(loc_mapping)"
   ],
   "metadata": {
    "collapsed": false
   }
  },
  {
   "cell_type": "code",
   "execution_count": 62,
   "outputs": [
    {
     "data": {
      "text/plain": "['a', 'car', 'bat']"
     },
     "execution_count": 62,
     "metadata": {},
     "output_type": "execute_result"
    }
   ],
   "source": [
    "# 嵌套列表推导式\n",
    "strings = [['a', 'book'], ['car', 'bat']]\n",
    "result = [name for names in strings for name in names if name.count('a') >= 1]\n",
    "result"
   ],
   "metadata": {
    "collapsed": false
   }
  },
  {
   "cell_type": "markdown",
   "source": [
    "### 全局变量"
   ],
   "metadata": {
    "collapsed": false
   }
  },
  {
   "cell_type": "code",
   "execution_count": 78,
   "outputs": [
    {
     "name": "stdout",
     "output_type": "stream",
     "text": [
      "[1, 2]\n"
     ]
    }
   ],
   "source": [
    "a = []\n",
    "def test():\n",
    "    global a\n",
    "    a = [1,2]\n",
    "test()\n",
    "print(a)"
   ],
   "metadata": {
    "collapsed": false
   }
  },
  {
   "cell_type": "markdown",
   "source": [],
   "metadata": {
    "collapsed": false
   }
  }
 ],
 "metadata": {
  "kernelspec": {
   "display_name": "Python 3 (ipykernel)",
   "language": "python",
   "name": "python3"
  },
  "language_info": {
   "codemirror_mode": {
    "name": "ipython",
    "version": 3
   },
   "file_extension": ".py",
   "mimetype": "text/x-python",
   "name": "python",
   "nbconvert_exporter": "python",
   "pygments_lexer": "ipython3",
   "version": "3.11.2"
  }
 },
 "nbformat": 4,
 "nbformat_minor": 1
}

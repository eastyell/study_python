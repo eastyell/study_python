{
 "cells": [
  {
   "cell_type": "markdown",
   "metadata": {},
   "source": [
    "### Python类动态调用函数"
   ]
  },
  {
   "cell_type": "code",
   "execution_count": null,
   "metadata": {
    "pycharm": {
     "is_executing": true
    }
   },
   "outputs": [],
   "source": [
    "import struct\n",
    "from types import MethodType\n",
    "\n",
    "class Cat(object):\n",
    "    def __int__(self):\n",
    "        super().__init__()\n",
    "\n",
    "def run(self):\n",
    "    print('cat is running!')\n",
    "\n",
    "def main():\n",
    "    cat01 = Cat()\n",
    "    cat01.run = MethodType(run, cat01)\n",
    "    cat01.run()\n",
    "\n",
    "if __name__ == '__main__':\n",
    "    main()"
   ]
  },
  {
   "cell_type": "markdown",
   "metadata": {},
   "source": [
    "### Python多线程"
   ]
  },
  {
   "cell_type": "code",
   "execution_count": 9,
   "metadata": {},
   "outputs": [
    {
     "name": "stdout",
     "output_type": "stream",
     "text": [
      "2023-02-23 14:15:06.869261\n",
      "张三\n"
     ]
    }
   ],
   "source": [
    "import datetime\n",
    "import time\n",
    "import threading\n",
    "\n",
    "class Mythread01(threading.Thread):\n",
    "    def __init__(self):\n",
    "        super(Mythread01, self).__init__()\n",
    "    def run(self):\n",
    "        while True:\n",
    "            now_time = datetime.datetime.now()\n",
    "            print(now_time)\n",
    "            time.sleep(1)\n",
    "\n",
    "class Mythread02(threading.Thread):\n",
    "    def __init__(self):\n",
    "        super(Mythread02, self).__init__()\n",
    "    def run(self):\n",
    "        while True:\n",
    "            print(\"张三\")\n",
    "            time.sleep(0.5)\n",
    "def main():\n",
    "    mt01 = Mythread01()\n",
    "    mt01.start()\n",
    "    mt02 = Mythread02()\n",
    "    mt02.start()\n",
    "\n",
    "if __name__==\"__main__\":\n",
    "    main()"
   ]
  },
  {
   "cell_type": "markdown",
   "metadata": {},
   "source": [
    "### 线程定时器使用"
   ]
  },
  {
   "cell_type": "code",
   "execution_count": 20,
   "metadata": {},
   "outputs": [
    {
     "name": "stdout",
     "output_type": "stream",
     "text": [
      "2023-02-23 14:54:04.346092\n",
      "2023-02-23 14:54:04.352784\n",
      "2023-02-23 14:54:04.352784\n",
      "2023-02-23 14:54:04.445138\n",
      "2023-02-23 14:54:04.445765\n",
      "2023-02-23 14:54:04.488039\n"
     ]
    }
   ],
   "source": [
    "import datetime\n",
    "import threading\n",
    "\n",
    "def run():\n",
    "    print(datetime.datetime.now())\n",
    "    r_t01 = threading.Timer(1, run)\n",
    "    r_t01.start()\n",
    "\n",
    "if __name__ ==  '__main__':\n",
    "    t01 = threading.Thread(target=run)\n",
    "    t01.start()"
   ]
  },
  {
   "cell_type": "markdown",
   "metadata": {},
   "source": [
    "### 列表排序"
   ]
  },
  {
   "cell_type": "code",
   "execution_count": 18,
   "metadata": {},
   "outputs": [
    {
     "name": "stdout",
     "output_type": "stream",
     "text": [
      "默认升序：  ['audi', 'bmw', 'subaru', 'toyota']\n",
      "降序：  ['toyota', 'subaru', 'bmw', 'audi']\n",
      "排序后返回新列表 ['audi', 'bmw', 'subaru', 'toyota']\n",
      "old cars ['toyota', 'subaru', 'bmw', 'audi']\n"
     ]
    }
   ],
   "source": [
    "cars = ['bmw', 'audi', 'toyota', 'subaru']\n",
    "cars.sort()  # 升序\n",
    "print('默认升序： ', cars)\n",
    "cars.sort(reverse=True) # 降序\n",
    "print('降序： ', cars)\n",
    "\n",
    "temp_cars = sorted(cars)  # 临时升序\n",
    "print('排序后返回新列表', temp_cars)\n",
    "print('old cars', cars)"
   ]
  },
  {
   "cell_type": "code",
   "execution_count": 60,
   "metadata": {},
   "outputs": [
    {
     "name": "stdout",
     "output_type": "stream",
     "text": [
      "构造列表： [1, 2, 3, 4, 5, 6, 7, 8, 9, 10]\n",
      "反转列表： [10, 9, 8, 7, 6, 5, 4, 3, 2, 1]\n"
     ]
    },
    {
     "ename": "TypeError",
     "evalue": "'list' object is not callable",
     "output_type": "error",
     "traceback": [
      "\u001B[1;31m---------------------------------------------------------------------------\u001B[0m",
      "\u001B[1;31mTypeError\u001B[0m                                 Traceback (most recent call last)",
      "Cell \u001B[1;32mIn[60], line 5\u001B[0m\n\u001B[0;32m      3\u001B[0m num\u001B[38;5;241m.\u001B[39mreverse()\n\u001B[0;32m      4\u001B[0m \u001B[38;5;28mprint\u001B[39m(\u001B[38;5;124m'\u001B[39m\u001B[38;5;124m反转列表：\u001B[39m\u001B[38;5;124m'\u001B[39m, num)\n\u001B[1;32m----> 5\u001B[0m new_num \u001B[38;5;241m=\u001B[39m \u001B[38;5;28;43mlist\u001B[39;49m\u001B[43m(\u001B[49m\u001B[38;5;28;43mreversed\u001B[39;49m\u001B[43m(\u001B[49m\u001B[43mnum\u001B[49m\u001B[43m)\u001B[49m\u001B[43m)\u001B[49m\n\u001B[0;32m      6\u001B[0m \u001B[38;5;28mprint\u001B[39m(\u001B[38;5;124m'\u001B[39m\u001B[38;5;124m生成新的反转列表：\u001B[39m\u001B[38;5;124m'\u001B[39m, new_num)\n",
      "\u001B[1;31mTypeError\u001B[0m: 'list' object is not callable"
     ]
    }
   ],
   "source": [
    "num =  [i for i in range(1, 11)]\n",
    "print('构造列表：', num)\n",
    "num.reverse()\n",
    "print('反转列表：', num)\n",
    "new_num = list(reversed(num))\n",
    "print('生成新的反转列表：', new_num)"
   ]
  },
  {
   "cell_type": "markdown",
   "metadata": {},
   "source": [
    "### 切片"
   ]
  },
  {
   "cell_type": "code",
   "execution_count": 61,
   "metadata": {},
   "outputs": [
    {
     "ename": "TypeError",
     "evalue": "'list' object is not callable",
     "output_type": "error",
     "traceback": [
      "\u001B[1;31m---------------------------------------------------------------------------\u001B[0m",
      "\u001B[1;31mTypeError\u001B[0m                                 Traceback (most recent call last)",
      "Cell \u001B[1;32mIn[61], line 1\u001B[0m\n\u001B[1;32m----> 1\u001B[0m even_numbers \u001B[38;5;241m=\u001B[39m \u001B[38;5;28;43mlist\u001B[39;49m\u001B[43m(\u001B[49m\u001B[38;5;28;43mrange\u001B[39;49m\u001B[43m(\u001B[49m\u001B[38;5;241;43m2\u001B[39;49m\u001B[43m,\u001B[49m\u001B[38;5;241;43m11\u001B[39;49m\u001B[43m,\u001B[49m\u001B[38;5;241;43m2\u001B[39;49m\u001B[43m)\u001B[49m\u001B[43m)\u001B[49m\n\u001B[0;32m      2\u001B[0m \u001B[38;5;28mprint\u001B[39m(even_numbers)\n\u001B[0;32m      3\u001B[0m \u001B[38;5;28mprint\u001B[39m(even_numbers[:\u001B[38;5;241m3\u001B[39m])\n",
      "\u001B[1;31mTypeError\u001B[0m: 'list' object is not callable"
     ]
    }
   ],
   "source": [
    "even_numbers = list(range(2,11,2))\n",
    "print(even_numbers)\n",
    "print(even_numbers[:3])\n",
    "print(even_numbers[-3:])\n",
    "print(even_numbers[0:-2])\n",
    "print('步长为-1切片：列表反转', even_numbers[::-1])\n",
    "print('步长为-2切片：', even_numbers[::-2])\n",
    "print('步长为2切片：', even_numbers[::2])"
   ]
  },
  {
   "cell_type": "markdown",
   "metadata": {},
   "source": [
    "### 内部函数"
   ]
  },
  {
   "cell_type": "code",
   "execution_count": 7,
   "metadata": {},
   "outputs": [
    {
     "data": {
      "text/plain": [
       "{0: 'foo', 1: 'bar', 2: 'baz'}"
      ]
     },
     "execution_count": 7,
     "metadata": {},
     "output_type": "execute_result"
    }
   ],
   "source": [
    "some_list = ['foo', 'bar', 'baz']\n",
    "mapping = {}\n",
    "for i,v in enumerate(some_list):\n",
    "    mapping[i] = v\n",
    "mapping"
   ]
  },
  {
   "cell_type": "code",
   "execution_count": 95,
   "metadata": {},
   "outputs": [
    {
     "name": "stdout",
     "output_type": "stream",
     "text": [
      "Alabab\n",
      "baidu\n",
      "tengxun\n"
     ]
    }
   ],
   "source": [
    "import re\n",
    "states = ['  Alabab ', 'baidu@#!', 'teng%$@!xun']\n",
    "def remove_punctutation(value):\n",
    "    return  re.sub('[!#?@%$\" \"]', '', value)\n",
    "for x in map(remove_punctutation, states):\n",
    "    print(x)\n"
   ]
  },
  {
   "cell_type": "code",
   "execution_count": 105,
   "metadata": {},
   "outputs": [
    {
     "name": "stdout",
     "output_type": "stream",
     "text": [
      "20\n",
      "['aaa', 'foo', 'bar', 'card']\n"
     ]
    }
   ],
   "source": [
    "# 匿名函数 没有__name__属性\n",
    "equiv_anon = lambda y: y * 2\n",
    "print(equiv_anon(10))\n",
    "\n",
    "strings = ['foo', 'card', 'bar', 'aaa']\n",
    "strings.sort(key=lambda k: len(set(list(k))))\n",
    "print(strings)"
   ]
  },
  {
   "cell_type": "code",
   "execution_count": 50,
   "metadata": {},
   "outputs": [
    {
     "name": "stdout",
     "output_type": "stream",
     "text": [
      "[0, 3, 4, 8, 9, 32, -2, -5, -6, -20]\n"
     ]
    }
   ],
   "source": [
    "foo = [-5, 8, 0, 4, 9, -20, -2, 3, -6, 32]\n",
    "a = sorted(foo, key=lambda x:(x<-1, abs(x)))\n",
    "print(a)"
   ]
  },
  {
   "cell_type": "code",
   "execution_count": 51,
   "metadata": {},
   "outputs": [
    {
     "name": "stdout",
     "output_type": "stream",
     "text": [
      "['a', 'asd', 'ssdf', 'dfgfrty']\n"
     ]
    }
   ],
   "source": [
    "s = ['a', 'dfgfrty', 'ssdf', 'asd']\n",
    "sort_s = sorted(s, key=lambda x: len(x))\n",
    "print(sort_s)"
   ]
  },
  {
   "cell_type": "code",
   "execution_count": null,
   "metadata": {},
   "outputs": [],
   "source": [
    "s = 'sgjqsafgxvyiomsadf'\n",
    "s = set(s)\n",
    "l = list(s)\n",
    "l.sort()\n",
    "res = ''.join(l)\n",
    "print(res)"
   ]
  },
  {
   "cell_type": "code",
   "execution_count": 109,
   "metadata": {},
   "outputs": [
    {
     "name": "stdout",
     "output_type": "stream",
     "text": [
      "285\n",
      "{0: 0, 1: 1, 2: 4, 3: 9, 4: 16}\n"
     ]
    }
   ],
   "source": [
    "# 生成器表达式\n",
    "sum_value = sum(x ** 2 for x in range(10))\n",
    "print(sum_value)\n",
    "\n",
    "dict_value = dict((i, i **2) for i in range(5))\n",
    "print(dict_value)"
   ]
  },
  {
   "cell_type": "code",
   "execution_count": 6,
   "metadata": {},
   "outputs": [
    {
     "name": "stdout",
     "output_type": "stream",
     "text": [
      "列表中最大值\n",
      " 4\n"
     ]
    }
   ],
   "source": [
    "test = [1, 2, 3, 4, 2, 2, 3, 1, 4, 4, 4]\n",
    "print('列表中最大值\\n', max(set(test), key = test.count))"
   ]
  },
  {
   "cell_type": "markdown",
   "metadata": {},
   "source": [
    "### 将列表、元组或其他序列元素配对，新建一个元组构成列表"
   ]
  },
  {
   "cell_type": "code",
   "execution_count": 55,
   "metadata": {},
   "outputs": [
    {
     "ename": "TypeError",
     "evalue": "'list' object is not callable",
     "output_type": "error",
     "traceback": [
      "\u001B[1;31m---------------------------------------------------------------------------\u001B[0m",
      "\u001B[1;31mTypeError\u001B[0m                                 Traceback (most recent call last)",
      "Cell \u001B[1;32mIn[55], line 4\u001B[0m\n\u001B[0;32m      2\u001B[0m seq2 \u001B[38;5;241m=\u001B[39m [\u001B[38;5;124m'\u001B[39m\u001B[38;5;124mfoo\u001B[39m\u001B[38;5;124m'\u001B[39m, \u001B[38;5;124m'\u001B[39m\u001B[38;5;124mbar\u001B[39m\u001B[38;5;124m'\u001B[39m, \u001B[38;5;124m'\u001B[39m\u001B[38;5;124mbaz\u001B[39m\u001B[38;5;124m'\u001B[39m]\n\u001B[0;32m      3\u001B[0m zipped \u001B[38;5;241m=\u001B[39m \u001B[38;5;28mzip\u001B[39m(seq1, seq2)\n\u001B[1;32m----> 4\u001B[0m zipped_list \u001B[38;5;241m=\u001B[39m \u001B[38;5;28;43mlist\u001B[39;49m\u001B[43m(\u001B[49m\u001B[43mzipped\u001B[49m\u001B[43m)\u001B[49m\n\u001B[0;32m      5\u001B[0m \u001B[38;5;28mprint\u001B[39m(zipped_list)\n\u001B[0;32m      6\u001B[0m nums, names \u001B[38;5;241m=\u001B[39m \u001B[38;5;28mzip\u001B[39m(\u001B[38;5;241m*\u001B[39mzipped_list)\n",
      "\u001B[1;31mTypeError\u001B[0m: 'list' object is not callable"
     ]
    }
   ],
   "source": [
    "seq1 = ['one', 'two', 'three']\n",
    "seq2 = ['foo', 'bar', 'baz']\n",
    "zipped = zip(seq1, seq2)\n",
    "zipped_list = list(zipped)\n",
    "print(zipped_list)\n",
    "nums, names = zip(*zipped_list)\n",
    "nums, names\n"
   ]
  },
  {
   "cell_type": "markdown",
   "metadata": {},
   "source": [
    "### 字典"
   ]
  },
  {
   "cell_type": "code",
   "execution_count": 29,
   "metadata": {},
   "outputs": [
    {
     "data": {
      "text/plain": [
       "{'one': 'foo', 'two': 'bar', 'three': 'baz'}"
      ]
     },
     "execution_count": 29,
     "metadata": {},
     "output_type": "execute_result"
    }
   ],
   "source": [
    "mapping = {}\n",
    "seq1 = ['one', 'two', 'three']\n",
    "seq2 = ['foo', 'bar', 'baz']\n",
    "for key, value in zip(seq1, seq2):\n",
    "    mapping[key] = value\n",
    "mapping"
   ]
  },
  {
   "cell_type": "code",
   "execution_count": 38,
   "metadata": {},
   "outputs": [
    {
     "data": {
      "text/plain": [
       "{0: 5, 1: 4, 2: 3, 3: 2, 4: 1}"
      ]
     },
     "execution_count": 38,
     "metadata": {},
     "output_type": "execute_result"
    }
   ],
   "source": [
    "mapping = dict(zip(range(5), reversed(range(1, 6))))\n",
    "mapping"
   ]
  },
  {
   "cell_type": "code",
   "execution_count": 110,
   "metadata": {},
   "outputs": [
    {
     "data": {
      "text/plain": [
       "{'a': ['appale'], 'b': ['bat', 'bar'], 'c': ['cook']}"
      ]
     },
     "execution_count": 110,
     "metadata": {},
     "output_type": "execute_result"
    }
   ],
   "source": [
    "# value = some_dict.get(key, default_value)\n",
    "\n",
    "by_letter = {}\n",
    "words = ['appale', 'bat', 'bar', 'cook']\n",
    "for word in words:\n",
    "    letter = word[0]\n",
    "    by_letter.setdefault(letter,[]).append(word)\n",
    "by_letter"
   ]
  },
  {
   "cell_type": "code",
   "execution_count": 54,
   "metadata": {},
   "outputs": [
    {
     "name": "stdout",
     "output_type": "stream",
     "text": [
      "sorted根据字典建排序： [('age', 18), ('city', '深圳'), ('name', 'ZS'), ('tel', '13748727649')]\n"
     ]
    }
   ],
   "source": [
    "# 字典根据键从小到大排序\n",
    "dict = {'name': 'ZS', 'age': 18, 'city': '深圳', 'tel': '13748727649'}\n",
    "# e表示dict.items()中的一个元素，e[1],则表示按值排序,如果把e[1]改成e[0],那么则是按键排序\n",
    "lists = sorted(dict.items(), key=lambda e:e[0], reverse=False)\n",
    "print('sorted根据字典建排序：', lists)"
   ]
  },
  {
   "cell_type": "markdown",
   "metadata": {},
   "source": [
    "### 列表推导式"
   ]
  },
  {
   "cell_type": "code",
   "execution_count": 53,
   "metadata": {},
   "outputs": [
    {
     "name": "stdout",
     "output_type": "stream",
     "text": [
      "['BOOK']\n",
      "{0: 'a', 1: 'book', 2: 'car', 3: 'bat'}\n"
     ]
    }
   ],
   "source": [
    "strings = ['a', 'book', 'car', 'bat']\n",
    "mapping =  [x.upper() for x in strings if len(x) > 3]\n",
    "print(mapping)\n",
    "loc_mapping = {index: val for index, val in enumerate(strings)}\n",
    "print(loc_mapping)"
   ]
  },
  {
   "cell_type": "code",
   "execution_count": 62,
   "metadata": {},
   "outputs": [
    {
     "data": {
      "text/plain": [
       "['a', 'car', 'bat']"
      ]
     },
     "execution_count": 62,
     "metadata": {},
     "output_type": "execute_result"
    }
   ],
   "source": [
    "# 嵌套列表推导式\n",
    "strings = [['a', 'book'], ['car', 'bat']]\n",
    "result = [name for names in strings for name in names if name.count('a') >= 1]\n",
    "result"
   ]
  },
  {
   "cell_type": "code",
   "execution_count": 56,
   "metadata": {},
   "outputs": [
    {
     "data": {
      "text/plain": [
       "[16, 25]"
      ]
     },
     "execution_count": 56,
     "metadata": {},
     "output_type": "execute_result"
    }
   ],
   "source": [
    "lists = [i for i in range(1,6)]\n",
    "result = map(lambda x: x**2, lists)\n",
    "result = [i for i in result if i > 10]\n",
    "result"
   ]
  },
  {
   "cell_type": "code",
   "execution_count": 58,
   "metadata": {},
   "outputs": [
    {
     "ename": "TypeError",
     "evalue": "'list' object is not callable",
     "output_type": "error",
     "traceback": [
      "\u001B[1;31m---------------------------------------------------------------------------\u001B[0m",
      "\u001B[1;31mTypeError\u001B[0m                                 Traceback (most recent call last)",
      "Cell \u001B[1;32mIn[58], line 2\u001B[0m\n\u001B[0;32m      1\u001B[0m a \u001B[38;5;241m=\u001B[39m [\u001B[38;5;124m'\u001B[39m\u001B[38;5;124m苏州\u001B[39m\u001B[38;5;124m'\u001B[39m, \u001B[38;5;124m'\u001B[39m\u001B[38;5;124m中国\u001B[39m\u001B[38;5;124m'\u001B[39m, \u001B[38;5;124m'\u001B[39m\u001B[38;5;124m哈哈\u001B[39m\u001B[38;5;124m'\u001B[39m, \u001B[38;5;124m'\u001B[39m\u001B[38;5;124m'\u001B[39m,\u001B[38;5;124m'\u001B[39m\u001B[38;5;124m日本\u001B[39m\u001B[38;5;124m'\u001B[39m, \u001B[38;5;124m'\u001B[39m\u001B[38;5;124m'\u001B[39m,\u001B[38;5;124m'\u001B[39m\u001B[38;5;124m英国\u001B[39m\u001B[38;5;124m'\u001B[39m]\n\u001B[1;32m----> 2\u001B[0m res \u001B[38;5;241m=\u001B[39m \u001B[38;5;28;43mlist\u001B[39;49m\u001B[43m(\u001B[49m\u001B[38;5;28;43mmap\u001B[39;49m\u001B[43m(\u001B[49m\u001B[38;5;28;43;01mlambda\u001B[39;49;00m\u001B[43m \u001B[49m\u001B[43mx\u001B[49m\u001B[43m:\u001B[49m\u001B[38;5;124;43m'\u001B[39;49m\u001B[38;5;124;43m无数据\u001B[39;49m\u001B[38;5;124;43m'\u001B[39;49m\u001B[43m \u001B[49m\u001B[38;5;28;43;01mif\u001B[39;49;00m\u001B[43m \u001B[49m\u001B[43mx\u001B[49m\u001B[38;5;241;43m==\u001B[39;49m\u001B[38;5;124;43m'\u001B[39;49m\u001B[38;5;124;43m'\u001B[39;49m\u001B[43m \u001B[49m\u001B[38;5;28;43;01melse\u001B[39;49;00m\u001B[43m \u001B[49m\u001B[43mx\u001B[49m\u001B[43m,\u001B[49m\u001B[43ma\u001B[49m\u001B[43m)\u001B[49m\u001B[43m)\u001B[49m\n\u001B[0;32m      3\u001B[0m \u001B[38;5;28mprint\u001B[39m(res)\n",
      "\u001B[1;31mTypeError\u001B[0m: 'list' object is not callable"
     ]
    }
   ],
   "source": [
    "a = ['苏州', '中国', '哈哈', '','日本', '','英国']\n",
    "res = list(map(lambda x:'无数据' if x=='' else x,a))\n",
    "print(res)"
   ]
  },
  {
   "cell_type": "code",
   "execution_count": 36,
   "metadata": {},
   "outputs": [
    {
     "name": "stdout",
     "output_type": "stream",
     "text": [
      "[1, 3, 5, 7, 9]\n",
      "[1, 3, 5, 7, 9]\n"
     ]
    }
   ],
   "source": [
    "a = [i for i in range(1,11)]\n",
    "res = [i for i in a if i%2==1]\n",
    "print(res)\n",
    "\n",
    "a = [i for i in range(1,11)]\n",
    "newlist = filter(lambda x: x%2==1, a)\n",
    "newlist = [i for i in newlist]\n",
    "print(newlist)"
   ]
  },
  {
   "cell_type": "markdown",
   "metadata": {},
   "source": [
    "### 全局变量"
   ]
  },
  {
   "cell_type": "code",
   "execution_count": 78,
   "metadata": {},
   "outputs": [
    {
     "name": "stdout",
     "output_type": "stream",
     "text": [
      "[1, 2]\n"
     ]
    }
   ],
   "source": [
    "a = []\n",
    "def test():\n",
    "    global a\n",
    "    a = [1,2]\n",
    "test()\n",
    "print(a)"
   ]
  },
  {
   "cell_type": "code",
   "execution_count": 42,
   "metadata": {},
   "outputs": [
    {
     "name": "stdout",
     "output_type": "stream",
     "text": [
      "2023-02-28 14:33:06 星期2\n"
     ]
    }
   ],
   "source": [
    "import datetime\n",
    "print(str(datetime.datetime.now().strftime('%Y-%m-%d %H:%M:%S')) + ' 星期' + str(datetime.datetime.now().isoweekday()))"
   ]
  },
  {
   "cell_type": "markdown",
   "metadata": {},
   "source": [
    "### 正则表达式"
   ]
  },
  {
   "cell_type": "code",
   "execution_count": 44,
   "metadata": {},
   "outputs": [
    {
     "name": "stdout",
     "output_type": "stream",
     "text": [
      "贪婪匹配 ['哈哈</a><a>嘿嘿']\n",
      "非贪婪匹配 ['哈哈', '嘿嘿']\n"
     ]
    }
   ],
   "source": [
    "# (.*) 贪婪匹配，会把满足正则的尽可能多的往后匹配\n",
    "# （。*？）非贪婪匹配，会把满足正则的尽可能少匹配\n",
    "import re\n",
    "s = '<a>哈哈</a><a>嘿嘿</a>'\n",
    "res1 = re.findall('<a>(.*)</a>', s)\n",
    "print('贪婪匹配', res1)\n",
    "res2 = re.findall('<a>(.*?)</a>', s)\n",
    "print('非贪婪匹配', res2)"
   ]
  },
  {
   "cell_type": "code",
   "execution_count": 46,
   "metadata": {},
   "outputs": [
    {
     "name": "stdout",
     "output_type": "stream",
     "text": [
      "李俊100分\n",
      "*95*\n"
     ]
    }
   ],
   "source": [
    "import re\n",
    "a = '李俊95分'\n",
    "ret = re.sub(r'\\d+', '100', a)  # \\d数字   \\D非数字字符\n",
    "print(ret)\n",
    "ret = re.sub(r'\\D+', '*', a)\n",
    "print(ret)"
   ]
  },
  {
   "cell_type": "code",
   "execution_count": 52,
   "metadata": {},
   "outputs": [
    {
     "name": "stdout",
     "output_type": "stream",
     "text": [
      "['info', 'xiaoZhang', '23', 'shanghai']\n"
     ]
    }
   ],
   "source": [
    "s = 'info:xiaoZhang 23 shanghai'\n",
    "res = re.split(r':| ', s)\n",
    "print(res)"
   ]
  },
  {
   "cell_type": "markdown",
   "metadata": {},
   "source": [
    "### 装饰器"
   ]
  },
  {
   "cell_type": "code",
   "execution_count": 62,
   "metadata": {},
   "outputs": [
    {
     "name": "stdout",
     "output_type": "stream",
     "text": [
      "155\n"
     ]
    }
   ],
   "source": [
    "def net_weight(peel):\n",
    "    def outwrapper(f):\n",
    "        def wrapper(*args, **kwargs):\n",
    "            now_weight = f(*args, **kwargs)\n",
    "            return now_weight-peel\n",
    "        return wrapper\n",
    "    return outwrapper\n",
    "\n",
    "@net_weight(5)\n",
    "def weight(n):\n",
    "    return n\n",
    "print(weight(160))\n"
   ]
  },
  {
   "cell_type": "code",
   "execution_count": 66,
   "metadata": {},
   "outputs": [
    {
     "name": "stdout",
     "output_type": "stream",
     "text": [
      "Something is happening before the function is called.\n",
      "Whee!\n",
      "Something is happening after the function is called.\n"
     ]
    }
   ],
   "source": [
    "def my_decorator(func):\n",
    "    def wrapper():\n",
    "        print(\"Something is happening before the function is called.\")\n",
    "        func()\n",
    "        print(\"Something is happening after the function is called.\")\n",
    "    return wrapper\n",
    "\n",
    "@my_decorator\n",
    "def say_whee():\n",
    "    print(\"Whee!\")\n",
    "\n",
    "say_whee()"
   ]
  },
  {
   "cell_type": "code",
   "execution_count": 82,
   "metadata": {},
   "outputs": [
    {
     "name": "stdout",
     "output_type": "stream",
     "text": [
      "Hello world\n",
      "Hello world\n"
     ]
    }
   ],
   "source": [
    "def do_twice(func):\n",
    "    def wrapper_do_twice(*args, **kwargs):\n",
    "        func(*args, **kwargs)\n",
    "        func(*args, **kwargs)\n",
    "    return wrapper_do_twice\n",
    "\n",
    "@do_twice\n",
    "def greet(word):\n",
    "    print(\"Hello\", word)\n",
    "\n",
    "greet('world')"
   ]
  },
  {
   "cell_type": "code",
   "execution_count": 87,
   "metadata": {},
   "outputs": [
    {
     "name": "stdout",
     "output_type": "stream",
     "text": [
      "func three run time 1.0116841793060303\n",
      "func three run time 1.0080668926239014\n",
      "func three run time 1.0161490440368652\n"
     ]
    }
   ],
   "source": [
    "from time import sleep, time\n",
    "def run_time(func):\n",
    "    def wrapper():\n",
    "        start = time()\n",
    "        func()                  # 函数在这里运行\n",
    "        end = time()\n",
    "        cost_time = end - start\n",
    "        print(\"func three run time {}\".format(cost_time))\n",
    "    return wrapper\n",
    "\n",
    "@run_time\n",
    "def fun_one():\n",
    "    sleep(1)\n",
    "\n",
    "@run_time\n",
    "def fun_two():\n",
    "    sleep(1)\n",
    "\n",
    "@run_time\n",
    "def fun_three():\n",
    "    sleep(1)\n",
    "\n",
    "fun_one()\n",
    "fun_two()\n",
    "fun_three()\n"
   ]
  },
  {
   "cell_type": "code",
   "execution_count": 90,
   "metadata": {},
   "outputs": [
    {
     "name": "stdout",
     "output_type": "stream",
     "text": [
      "[One] func three run time 1.0048027038574219\n",
      "[Two] func three run time 1.0476858615875244\n",
      "[Three] func three run time 1.123077392578125\n"
     ]
    }
   ],
   "source": [
    "def logger(msg=None):\n",
    "    def run_time(func):\n",
    "        def wrapper(*args, **kwargs):\n",
    "            start = time()\n",
    "            func()                  # 函数在这里运行\n",
    "            end = time()\n",
    "            cost_time = end - start\n",
    "            print(\"[{}] func three run time {}\".format(msg, cost_time))\n",
    "        return wrapper\n",
    "    return run_time\n",
    "\n",
    "@logger(msg=\"One\")\n",
    "def fun_one():\n",
    "    sleep(1)\n",
    "\n",
    "@logger(msg=\"Two\")\n",
    "def fun_two():\n",
    "    sleep(1)\n",
    "\n",
    "@logger(msg=\"Three\")\n",
    "def fun_three():\n",
    "    sleep(1)\n",
    "\n",
    "fun_one()\n",
    "fun_two()\n",
    "fun_three()"
   ]
  },
  {
   "cell_type": "markdown",
   "metadata": {},
   "source": [
    "### Numpy"
   ]
  },
  {
   "cell_type": "code",
   "execution_count": 12,
   "metadata": {},
   "outputs": [
    {
     "name": "stdout",
     "output_type": "stream",
     "text": [
      "10以内数字 [0 1 2 3 4 5 6 7 8 9]\n",
      "转换为数组ndarray [ 6  8 11 56]\n",
      "生成2行3列（0，1）之间的随机浮点数 [[0.02587001 0.54467509 0.073984  ]\n",
      " [0.08708781 0.57657104 0.60002732]]\n",
      "生成2行3列（0，1）之间的随机浮点数 [[0.28652185 0.24804672 0.77937842]\n",
      " [0.62350855 0.19191479 0.50085895]]\n",
      "从标准正态分布中返回2行3列样本 [[-0.33980926 -0.61895177 -0.51235467]\n",
      " [-0.89042735  0.72145948 -0.43739264]]\n",
      "生成1和10之间5个随机整数 [4 3 5 2 7]\n"
     ]
    }
   ],
   "source": [
    "import numpy as np\n",
    "my_arr1 = np.arange(10)\n",
    "print('10以内数字', my_arr1)\n",
    "\n",
    "my_arr2 = np.array([6, 8, 11, 56])\n",
    "print('转换为数组ndarray', my_arr2)\n",
    "\n",
    "c = np.random.random([2,3])\n",
    "print('生成2行3列（0，1）之间的随机浮点数', c)\n",
    "\n",
    "c = np.random.rand(2,3)\n",
    "print('生成2行3列（0，1）之间的随机浮点数', c)\n",
    "\n",
    "c = np.random.randn(2,3)\n",
    "print('从标准正态分布中返回2行3列样本', c)\n",
    "\n",
    "c = np.random.randint(1,10, 5)\n",
    "print('生成1和10之间5个随机整数', c)"
   ]
  },
  {
   "cell_type": "code",
   "execution_count": 29,
   "metadata": {},
   "outputs": [
    {
     "name": "stdout",
     "output_type": "stream",
     "text": [
      "[ True False  True False]\n",
      "[[-1.33960847 -0.22666182  1.23156514 -1.24563695 -0.07125614 -0.30965735]\n",
      " [ 0.46874413  1.86304442  0.06595991 -1.52379726 -0.64644101 -2.01346949]\n",
      " [ 0.33250802 -1.56745504 -0.28305478  0.63313373  0.07933091 -0.37173916]\n",
      " [-1.14582136 -0.27625952  0.38248787  0.45093367  0.72408545 -1.00202403]]\n",
      "names == “Bob” [[-1.33960847 -0.22666182  1.23156514 -1.24563695 -0.07125614 -0.30965735]\n",
      " [ 0.33250802 -1.56745504 -0.28305478  0.63313373  0.07933091 -0.37173916]]\n",
      "负数修改为0 [[0.         0.         1.23156514 0.         0.         0.        ]\n",
      " [0.46874413 1.86304442 0.06595991 0.         0.         0.        ]\n",
      " [0.33250802 0.         0.         0.63313373 0.07933091 0.        ]\n",
      " [0.         0.         0.38248787 0.45093367 0.72408545 0.        ]]\n"
     ]
    }
   ],
   "source": [
    "names = np.array(['Bob', 'Will', 'Bob', 'Jason'])\n",
    "print(names == 'Bob')\n",
    "data = np.random.randn(4,6)\n",
    "print(data)\n",
    "print('names == “Bob”', data[names == 'Bob'])\n",
    "data[data<0] = 0\n",
    "print('负数修改为0', data)"
   ]
  },
  {
   "cell_type": "code",
   "execution_count": 39,
   "metadata": {},
   "outputs": [
    {
     "data": {
      "text/plain": [
       "array([[0., 0., 0., 0.],\n",
       "       [1., 1., 1., 1.],\n",
       "       [2., 2., 2., 2.],\n",
       "       [3., 3., 3., 3.],\n",
       "       [4., 4., 4., 4.],\n",
       "       [5., 5., 5., 5.],\n",
       "       [6., 6., 6., 6.],\n",
       "       [7., 7., 7., 7.]])"
      ]
     },
     "execution_count": 39,
     "metadata": {},
     "output_type": "execute_result"
    }
   ],
   "source": [
    "arr = np.empty((8,4))\n",
    "for i in range(8):\n",
    "    arr[i] = i\n",
    "arr"
   ]
  },
  {
   "cell_type": "code",
   "execution_count": 50,
   "metadata": {},
   "outputs": [
    {
     "name": "stdout",
     "output_type": "stream",
     "text": [
      "[[ 0  1  2  3]\n",
      " [ 4  5  6  7]\n",
      " [ 8  9 10 11]\n",
      " [12 13 14 15]\n",
      " [16 17 18 19]\n",
      " [20 21 22 23]\n",
      " [24 25 26 27]\n",
      " [28 29 30 31]]\n",
      "转置 [[ 0  4  8 12 16 20 24 28]\n",
      " [ 1  5  9 13 17 21 25 29]\n",
      " [ 2  6 10 14 18 22 26 30]\n",
      " [ 3  7 11 15 19 23 27 31]]\n"
     ]
    }
   ],
   "source": [
    "# 数组转置和换轴\n",
    "arr = np.arange(32).reshape((8,4))\n",
    "print(arr)\n",
    "print('转置', arr.T)"
   ]
  },
  {
   "cell_type": "code",
   "execution_count": 60,
   "metadata": {},
   "outputs": [
    {
     "name": "stdout",
     "output_type": "stream",
     "text": [
      "[1.1 2.2 2.3]\n",
      "[[-0.29115256  0.39941844  0.21191714  0.33768984]\n",
      " [ 0.43897453  0.83862097 -0.1854524   1.24083245]\n",
      " [ 0.22088595  0.86535784  0.49284012 -1.58555209]\n",
      " [-0.22969013 -0.5346827  -0.97926481 -1.36777828]]\n",
      "[[False  True  True  True]\n",
      " [ True  True False  True]\n",
      " [ True  True  True False]\n",
      " [False False False False]]\n",
      "小于0的置为0 [[0.         0.39941844 0.21191714 0.33768984]\n",
      " [0.43897453 0.83862097 0.         1.24083245]\n",
      " [0.22088595 0.86535784 0.49284012 0.        ]\n",
      " [0.         0.         0.         0.        ]]\n"
     ]
    }
   ],
   "source": [
    "# 数组操作\n",
    "xarr = np.array([1.1, 1.2, 1.3])\n",
    "yarr = np.array([2.1, 2.2, 2.3])\n",
    "cond = np.array([True, False, False])\n",
    "result = np.where(cond, xarr, yarr)\n",
    "print(result)\n",
    "\n",
    "arr = np.random.randn(4, 4)\n",
    "print(arr)\n",
    "print(arr>0)\n",
    "print('小于0的置为0', np.where(arr<0, 0, arr))"
   ]
  },
  {
   "cell_type": "markdown",
   "metadata": {},
   "source": [
    "### 随机漫步"
   ]
  },
  {
   "cell_type": "code",
   "execution_count": 4,
   "metadata": {},
   "outputs": [
    {
     "data": {
      "text/plain": [
       "[<matplotlib.lines.Line2D at 0x297d0e074d0>]"
      ]
     },
     "execution_count": 4,
     "metadata": {},
     "output_type": "execute_result"
    },
    {
     "data": {
      "image/png": "[encoded data removed]",
      "text/plain": [
       "<Figure size 640x480 with 1 Axes>"
      ]
     },
     "metadata": {},
     "output_type": "display_data"
    }
   ],
   "source": [
    "import random\n",
    "import matplotlib.pyplot as plt\n",
    "position = 0\n",
    "walk = [position]\n",
    "steps = 1000\n",
    "for i in range(steps):\n",
    "    step = 1 if random.randint(0,1) else -1\n",
    "    position += step\n",
    "    walk.append(position)\n",
    "\n",
    "plt.plot(walk[:100])\n"
   ]
  },
  {
   "cell_type": "markdown",
   "metadata": {},
   "source": [
    "### pandas"
   ]
  },
  {
   "cell_type": "code",
   "execution_count": 11,
   "metadata": {},
   "outputs": [
    {
     "data": {
      "text/plain": [
       "语文    75\n",
       "数学    85\n",
       "dtype: int64"
      ]
     },
     "execution_count": 11,
     "metadata": {},
     "output_type": "execute_result"
    }
   ],
   "source": [
    "import pandas as pd\n",
    "# Series 具有索引的一维数组型对象\n",
    "obj = pd.Series([75,85,96], index=['语文', '数学', '外语'])\n",
    "obj[['语文','数学']]"
   ]
  },
  {
   "cell_type": "code",
   "execution_count": 17,
   "metadata": {},
   "outputs": [
    {
     "name": "stdout",
     "output_type": "stream",
     "text": [
      "   year   state  pop remark\n",
      "0  2000     del  1.5    NaN\n",
      "1  2001     add  1.7    NaN\n",
      "2  2002  insert  2.3    NaN\n",
      "   year   state  pop remark\n",
      "0  2000     del  1.5     备注\n",
      "1  2001     add  1.7     备注\n",
      "2  2002  insert  2.3     备注\n"
     ]
    }
   ],
   "source": [
    "data = {'state': ['del', 'add', 'insert'],\n",
    "        'year': [2000, 2001, 2002],\n",
    "        'pop': [1.5, 1.7, 2.3]\n",
    "    }\n",
    "frame = pd.DataFrame(data, columns=['year', 'state', 'pop', 'remark'])\n",
    "print(frame)\n",
    "frame['remark'] = '备注'\n",
    "print(frame)"
   ]
  },
  {
   "cell_type": "code",
   "execution_count": 57,
   "metadata": {},
   "outputs": [
    {
     "name": "stdout",
     "output_type": "stream",
     "text": [
      "     班级  姓名  语文  数学  外语  物理\n",
      "0  九（6）  张三  78  88  90  88\n",
      "1   NaN  李四  88  78  89  67\n",
      "2  九（2）  王明  87  95  78  83\n",
      "3   NaN  赵凯  67  67  85  85\n",
      "     班级  姓名  语文  数学  外语  物理\n",
      "0  九（6）  张三  78  88  90  88\n",
      "1   NaN  李四  88  78  89  67\n",
      "2  九（2）  王明  87  95  78  83\n",
      "3   NaN  赵凯  67  67  85  85\n",
      "                    班级\n",
      "0    班级,姓名,语文,数学,外语,物理\n",
      "1  九（6）,张三,78,88,90,88\n",
      "2      ,李四,88,78,89,67\n",
      "3  九（2）,王明,87,95,78,83\n",
      "4      ,赵凯,67,67,85,85\n",
      "                     姓名\n",
      "班级                     \n",
      "班级,姓名,语文,数学,外语,物理   NaN\n",
      "九（6）,张三,78,88,90,88 NaN\n",
      ",李四,88,78,89,67     NaN\n",
      "九（2）,王明,87,95,78,83 NaN\n",
      ",赵凯,67,67,85,85     NaN\n"
     ]
    }
   ],
   "source": [
    "import pandas as pd\n",
    "df1 = pd.read_csv('ex1.csv', encoding='gbk')\n",
    "print(df1)\n",
    "df2 = pd.read_table('ex1.csv', sep=',', encoding='gbk')\n",
    "print(df2)\n",
    "df3 = pd.read_table('ex1.csv', names=['班级'], encoding='gbk')\n",
    "print(df3)\n",
    "names = ['班级','姓名']\n",
    "df4 = pd.read_table('ex1.csv', names = names ,index_col='班级', encoding='gbk')\n",
    "print(df4)"
   ]
  },
  {
   "cell_type": "markdown",
   "metadata": {},
   "source": [
    "import pandas as pd\n",
    "import json\n",
    "obj = \"\"\"\n",
    "       {\"name\": [\"jason\", \"Jack\"],\n",
    "       \"places_lived\": [\"shanghai\", \"beijing\"],\n",
    "       \"sibings\": [{\"name\": \"Scott\", \"age\": 30},\n",
    "                   {\"name\": \"Marry\", \"age\": 40}]\n",
    "}\"\"\"\n",
    "result = json.loads(obj)\n",
    "print('json.loads', result)\n",
    "asjson = json.dumps(result)\n",
    "print('json.dumps',asjson)\n",
    "myobj = pd.DataFrame(result)\n",
    "print(\"DataFrame from json\", \"\\n\", myobj)\n",
    "print('json export to pandas', \"\\n\", myobj.to_json)"
   ]
  },
  {
   "cell_type": "markdown",
   "metadata": {},
   "source": [
    "#### map映射数据转换"
   ]
  },
  {
   "cell_type": "code",
   "execution_count": 1,
   "metadata": {},
   "outputs": [
    {
     "name": "stdout",
     "output_type": "stream",
     "text": [
      "0          bacon\n",
      "1    pulled pork\n",
      "2          bacon\n",
      "Name: food, dtype: object\n",
      "          food  ounces animal\n",
      "0        bacon       4    pig\n",
      "1  pulled pork       3    dog\n",
      "2        bacon      12    pig\n"
     ]
    }
   ],
   "source": [
    "import pandas as pd\n",
    "data = pd.DataFrame({\n",
    "    'food': ['bacon', 'pulled pork', 'bacon'],\n",
    "    'ounces': [4, 3, 12]\n",
    "})\n",
    "\n",
    "meat_to_animal = {\n",
    "    'bacon': 'pig',\n",
    "    'pulled pork': 'dog',\n",
    "    'bacon': 'pig'\n",
    "}\n",
    "\n",
    "lowercased = data['food'].str.lower()\n",
    "print(lowercased)\n",
    "\n",
    "data['animal'] =  lowercased.map(meat_to_animal)\n",
    "\n",
    "print(data)"
   ]
  },
  {
   "cell_type": "markdown",
   "metadata": {},
   "source": [
    "#### 缺失值处理"
   ]
  },
  {
   "cell_type": "code",
   "execution_count": 47,
   "metadata": {},
   "outputs": [
    {
     "name": "stdout",
     "output_type": "stream",
     "text": [
      "      0     1    2    3\n",
      "0  23.0  67.0  NaN  NaN\n",
      "1   1.0   3.0  9.0  5.0\n",
      "2   NaN   NaN  NaN  NaN\n",
      "删除有空的行\n",
      "      0    1    2    3\n",
      "1  1.0  3.0  9.0  5.0\n",
      "删除全部空值的行\n",
      "       0     1    2    3\n",
      "0  23.0  67.0  NaN  NaN\n",
      "1   1.0   3.0  9.0  5.0\n",
      "缺失值填充0\n",
      "       0     1    2    3\n",
      "0  23.0  67.0  0.0  0.0\n",
      "1   1.0   3.0  9.0  5.0\n",
      "2   0.0   0.0  0.0  0.0\n",
      "对列填充缺失值\n",
      "       0     1    2    3\n",
      "0  23.0  67.0  0.0  NaN\n",
      "1   1.0   3.0  9.0  5.0\n",
      "2   NaN  -1.0  0.0  NaN\n",
      "缺失值默认-999        0      1      2      3\n",
      "0   23.0   67.0 -999.0 -999.0\n",
      "1    1.0    3.0    9.0    5.0\n",
      "2 -999.0 -999.0 -999.0 -999.0\n",
      "不同值替换不同值        0      1      2      3\n",
      "0   23.0   67.0 -999.0 -999.0\n",
      "1  999.0    3.0    9.0    5.0\n",
      "2 -999.0 -999.0 -999.0 -999.0\n"
     ]
    }
   ],
   "source": [
    "from numpy import nan as NA\n",
    "string_data = pd.DataFrame([[23, 67, NA ,None],[1, 3, 9, 5], [NA, NA, None, None]])\n",
    "print(string_data)\n",
    "fill_data = string_data.dropna()\n",
    "print('删除有空的行\\n', fill_data)\n",
    "fill_data = string_data.dropna(how='all')\n",
    "print('删除全部空值的行\\n', fill_data)\n",
    "\n",
    "fillna = string_data.fillna(0)  # string_data.fillna(0, inplace==True) 修改自己\n",
    "print('缺失值填充0\\n', fillna)\n",
    "\n",
    "fillna = string_data.fillna({1: -1, 2: 0})\n",
    "print('对列填充缺失值\\n', fillna)\n",
    "\n",
    "replace_data = string_data.replace([NA,-1], -999)  # NA或者-1\n",
    "print('缺失值默认-999', replace_data)\n",
    "\n",
    "replace_data = string_data.replace({NA: -999, 1: 999})  # NA或者-1\n",
    "print('不同值替换不同值', replace_data)\n"
   ]
  },
  {
   "cell_type": "markdown",
   "metadata": {},
   "source": [
    "#### 离散化和分箱"
   ]
  },
  {
   "cell_type": "code",
   "execution_count": 2,
   "metadata": {},
   "outputs": [
    {
     "name": "stdout",
     "output_type": "stream",
     "text": [
      "离散化后分割数据\n",
      " [(18, 25], (18, 25], (18, 25], (25, 35], (18, 25], ..., (25, 35], (60, 100], (35, 60], (35, 60], (25, 35]]\n",
      "Length: 12\n",
      "Categories (4, interval[int64, right]): [(18, 25] < (25, 35] < (35, 60] < (60, 100]]\n",
      "统计分割后箱体计数\n",
      " (18, 25]     5\n",
      "(25, 35]     3\n",
      "(35, 60]     3\n",
      "(60, 100]    1\n",
      "dtype: int64\n"
     ]
    }
   ],
   "source": [
    "import pandas as pd\n",
    "ages = [20, 22, 25, 27, 21, 23, 37, 31, 61, 45, 41, 32]\n",
    "bins = [18, 25, 35, 60, 100]\n",
    "cats = pd.cut(ages, bins)\n",
    "print(f'离散化后分割数据\\n {cats}')\n",
    "print('统计分割后箱体计数\\n', pd.value_counts(cats))"
   ]
  },
  {
   "cell_type": "markdown",
   "metadata": {},
   "source": [
    "#### 检测和过滤"
   ]
  },
  {
   "cell_type": "code",
   "execution_count": 9,
   "metadata": {},
   "outputs": [
    {
     "name": "stdout",
     "output_type": "stream",
     "text": [
      "统计描述                  0            1            2            3\n",
      "count  1000.000000  1000.000000  1000.000000  1000.000000\n",
      "mean      0.013978    -0.047530    -0.025232     0.002173\n",
      "std       1.028008     1.011870     0.990063     1.022198\n",
      "min      -3.730493    -3.218897    -3.134625    -2.931185\n",
      "25%      -0.673352    -0.749491    -0.715171    -0.746065\n",
      "50%       0.026139    -0.076317    -0.027958    -0.007597\n",
      "75%       0.727460     0.616081     0.632038     0.737373\n",
      "max       3.159449     3.778117     3.030977     2.957314\n",
      "第三列绝对值大于3\n",
      " 336   -3.134625\n",
      "406    3.030977\n",
      "Name: 2, dtype: float64\n"
     ]
    }
   ],
   "source": [
    "import pandas as pd\n",
    "import numpy as np\n",
    "data = pd.DataFrame(np.random.randn(1000, 4))\n",
    "print('统计描述', data.describe())\n",
    "col = data[2]\n",
    "cols = col[np.abs(col) > 3]\n",
    "print('第三列绝对值大于3\\n', cols)\n"
   ]
  },
  {
   "cell_type": "markdown",
   "metadata": {},
   "source": [
    "#### 计算直播/虚拟变量"
   ]
  },
  {
   "cell_type": "code",
   "execution_count": 15,
   "metadata": {},
   "outputs": [
    {
     "name": "stdout",
     "output_type": "stream",
     "text": [
      "  key  data1\n",
      "0   b      0\n",
      "1   b      1\n",
      "2   a      2\n",
      "3   c      3\n",
      "4   a      4\n",
      "5   b      5\n",
      "判断a或b或c在key列的是否存在\n",
      "    a  b  c\n",
      "0  0  1  0\n",
      "1  0  1  0\n",
      "2  1  0  0\n",
      "3  0  0  1\n",
      "4  1  0  0\n",
      "5  0  1  0\n"
     ]
    }
   ],
   "source": [
    "df =pd.DataFrame({'key': ['b', 'b', 'a', 'c', 'a', 'b'],\n",
    "                  'data1': range(6)})\n",
    "print(df)\n",
    "print('判断a或b或c在key列是否存在\\n', pd.get_dummies(df['key']))\n",
    "\n"
   ]
  },
  {
   "cell_type": "markdown",
   "metadata": {},
   "source": [
    "#### 字符串操作"
   ]
  },
  {
   "cell_type": "code",
   "execution_count": 17,
   "metadata": {},
   "outputs": [
    {
     "name": "stdout",
     "output_type": "stream",
     "text": [
      "['a', 'b', 'guido']\n",
      "a-b-guido\n"
     ]
    }
   ],
   "source": [
    "val = 'a,b,  guido'\n",
    "pieces = [x.strip() for x in val.split(',')]\n",
    "print(pieces)\n",
    "new_pieces = '-'.join(pieces)\n",
    "print(new_pieces)"
   ]
  },
  {
   "cell_type": "code",
   "execution_count": 26,
   "metadata": {},
   "outputs": [
    {
     "data": {
      "text/plain": [
       "['dave@gogole.com', 'steve@gmail.com', 'rob@gmail.com', 'ryan@yahoo.com']"
      ]
     },
     "execution_count": 26,
     "metadata": {},
     "output_type": "execute_result"
    }
   ],
   "source": [
    "import re\n",
    "text = \"\"\"Dave dave@gogole.com\n",
    "Steve steve@gmail.com\n",
    "Rob rob@gmail.com\n",
    "Ryan ryan@yahoo.com\n",
    "\"\"\"\n",
    "pattern = r'[A-Z0-9._%=-]+@[A-Z0-9.-]+\\.[A-Z]{2,4}'\n",
    "regex = re.compile(pattern, flags=re.IGNORECASE)\n",
    "regex.findall(text)"
   ]
  },
  {
   "cell_type": "code",
   "execution_count": 29,
   "metadata": {},
   "outputs": [
    {
     "name": "stdout",
     "output_type": "stream",
     "text": [
      "Dave     dave@gogole.com\n",
      "Steve    steve@gmail.com\n",
      "Rob        rob@gmail.com\n",
      "Ryan      ryan@yahoo.com\n",
      "dtype: object\n"
     ]
    },
    {
     "data": {
      "text/plain": [
       "Dave     False\n",
       "Steve     True\n",
       "Rob       True\n",
       "Ryan     False\n",
       "dtype: bool"
      ]
     },
     "execution_count": 29,
     "metadata": {},
     "output_type": "execute_result"
    }
   ],
   "source": [
    "data = {'Dave': 'dave@gogole.com', 'Steve': 'steve@gmail.com',\n",
    "        'Rob': 'rob@gmail.com', 'Ryan':'ryan@yahoo.com'}\n",
    "data = pd.Series(data)\n",
    "print(data)\n",
    "data.str.contains('gmail')"
   ]
  },
  {
   "cell_type": "markdown",
   "metadata": {},
   "source": [
    "### 数据规整"
   ]
  },
  {
   "cell_type": "code",
   "execution_count": 3,
   "metadata": {},
   "outputs": [
    {
     "name": "stdout",
     "output_type": "stream",
     "text": [
      "分层索引\n",
      " a  1   -0.842285\n",
      "   2    1.092646\n",
      "   3   -0.357192\n",
      "b  1   -0.774737\n",
      "   3    0.468445\n",
      "c  1   -0.367512\n",
      "   2    0.435731\n",
      "d  2   -1.795529\n",
      "   3    0.091191\n",
      "dtype: float64\n",
      "分层索引重新排列\n",
      "           1         2         3\n",
      "a -0.842285  1.092646 -0.357192\n",
      "b -0.774737       NaN  0.468445\n",
      "c -0.367512  0.435731       NaN\n",
      "d       NaN -1.795529  0.091191\n"
     ]
    }
   ],
   "source": [
    "# 分层索引\n",
    "import pandas as pd\n",
    "import numpy as np\n",
    "data = pd.Series(np.random.randn(9), index=[['a','a','a','b','b','c','c','d','d'],\n",
    "                                            [1, 2, 3, 1, 3, 1, 2, 2, 3]])\n",
    "print('分层索引\\n' ,data)\n",
    "\n",
    "data_new = data.unstack()\n",
    "print('分层索引重新排列\\n' ,data_new)"
   ]
  },
  {
   "cell_type": "code",
   "execution_count": 4,
   "metadata": {},
   "outputs": [
    {
     "name": "stdout",
     "output_type": "stream",
     "text": [
      "分层排序\n",
      " state      Ohio     Colorado\n",
      "color     Green Red    Green\n",
      "key1 key2                   \n",
      "a    1        0   1        2\n",
      "     2        3   4        5\n",
      "b    1        6   7        8\n",
      "     2        9  10       11\n",
      "列索引选取\n",
      " color      Green  Red\n",
      "key1 key2            \n",
      "a    1         0    1\n",
      "     2         3    4\n",
      "b    1         6    7\n",
      "     2         9   10\n",
      "按照key2排序\n",
      " state      Ohio     Colorado\n",
      "color     Green Red    Green\n",
      "key1 key2                   \n",
      "a    1        0   1        2\n",
      "b    1        6   7        8\n",
      "a    2        3   4        5\n",
      "b    2        9  10       11\n",
      "按照key2汇总\n",
      " state  Ohio     Colorado\n",
      "color Green Red    Green\n",
      "key2                    \n",
      "1         6   8       10\n",
      "2        12  14       16\n"
     ]
    },
    {
     "name": "stderr",
     "output_type": "stream",
     "text": [
      "C:\\Users\\win\\AppData\\Local\\Temp\\ipykernel_10136\\1828168285.py:14: FutureWarning: Using the level keyword in DataFrame and Series aggregations is deprecated and will be removed in a future version. Use groupby instead. df.sum(level=1) should use df.groupby(level=1).sum().\n",
      "  print('按照key2汇总\\n', frame.sum(level='key2'))\n"
     ]
    }
   ],
   "source": [
    "# 重排序\n",
    "frame = pd.DataFrame(np.arange(12).reshape((4, 3)),\n",
    "                     index=[['a', 'a', 'b', 'b'], [1, 2, 1, 2]],\n",
    "                     columns=[['Ohio', 'Ohio', 'Colorado'], ['Green', 'Red', 'Green']])\n",
    "\n",
    "frame.index.names = ['key1', 'key2']\n",
    "frame.columns.names = ['state', 'color']\n",
    "print('分层排序\\n', frame)\n",
    "\n",
    "print('列索引选取\\n' , frame['Ohio'])\n",
    "\n",
    "print('按照key2排序\\n', frame.sort_index(level=1))\n",
    "\n",
    "print('按照key2汇总\\n', frame.sum(level='key2'))"
   ]
  },
  {
   "cell_type": "code",
   "execution_count": 1,
   "metadata": {},
   "outputs": [
    {
     "name": "stdout",
     "output_type": "stream",
     "text": [
      "原始数据\n",
      "    a  b    c  d\n",
      "0  0  7  one  0\n",
      "1  1  6  one  1\n",
      "2  2  5  one  2\n",
      "3  3  4  two  0\n",
      "4  4  3  two  1\n",
      "5  5  2  two  2\n",
      "6  6  1  two  3\n",
      "新索引\n",
      "        a  b\n",
      "c   d      \n",
      "one 0  0  7\n",
      "    1  1  6\n",
      "    2  2  5\n",
      "two 0  3  4\n",
      "    1  4  3\n",
      "    2  5  2\n",
      "    3  6  1\n",
      "显示索引\n",
      "        a  b    c  d\n",
      "c   d              \n",
      "one 0  0  7  one  0\n",
      "    1  1  6  one  1\n",
      "    2  2  5  one  2\n",
      "two 0  3  4  two  0\n",
      "    1  4  3  two  1\n",
      "    2  5  2  two  2\n",
      "    3  6  1  two  3\n",
      "反操作，显示分层索引\n",
      "      c  d  a  b\n",
      "0  one  0  0  7\n",
      "1  one  1  1  6\n",
      "2  one  2  2  5\n",
      "3  two  0  3  4\n",
      "4  two  1  4  3\n",
      "5  two  2  5  2\n",
      "6  two  3  6  1\n"
     ]
    }
   ],
   "source": [
    "# 索引\n",
    "import pandas as pd\n",
    "frame = pd.DataFrame({'a': range(7), 'b': range(7, 0, -1),\n",
    "                      'c': ['one', 'one', 'one', 'two', 'two','two','two',],\n",
    "                      'd': [0, 1, 2, 0, 1, 2, 3]})\n",
    "print('原始数据\\n', frame)\n",
    "frame2 = frame.set_index(['c', 'd'])\n",
    "print('新索引\\n', frame2)\n",
    "print('显示索引\\n', frame.set_index(['c', 'd'], drop=False))\n",
    "print('反操作，显示分层索引\\n', frame2.reset_index())"
   ]
  },
  {
   "cell_type": "code",
   "execution_count": 7,
   "metadata": {},
   "outputs": [
    {
     "name": "stdout",
     "output_type": "stream",
     "text": [
      "原始数据\n",
      " number    one  two  three\n",
      "state                    \n",
      "Ohio        0    1      2\n",
      "Colorado    3    4      5\n",
      "透视到行\n",
      " state     number\n",
      "Ohio      one       0\n",
      "          two       1\n",
      "          three     2\n",
      "Colorado  one       3\n",
      "          two       4\n",
      "          three     5\n",
      "dtype: int32\n",
      "按照status拆分等级\n",
      " number  state   \n",
      "one     Ohio        0\n",
      "        Colorado    3\n",
      "two     Ohio        1\n",
      "        Colorado    4\n",
      "three   Ohio        2\n",
      "        Colorado    5\n",
      "dtype: int32\n"
     ]
    }
   ],
   "source": [
    "# 重塑和透视\n",
    "import pandas as pd, numpy as np\n",
    "\n",
    "data = pd.DataFrame(np.arange(6).reshape((2, 3)),\n",
    "                    index=pd.Index(['Ohio', 'Colorado'], name='state'),\n",
    "                    columns=pd.Index(['one', 'two', 'three'],\n",
    "                                     name='number'))\n",
    "print('原始数据\\n', data)\n",
    "result = data.stack()\n",
    "print('透视到行\\n', result)\n",
    "print('按照status拆分等级\\n', data.unstack('state'))"
   ]
  },
  {
   "cell_type": "markdown",
   "source": [
    "#### 绘图与可视化"
   ],
   "metadata": {
    "collapsed": false
   }
  },
  {
   "cell_type": "code",
   "execution_count": 50,
   "outputs": [
    {
     "name": "stdout",
     "output_type": "stream",
     "text": [
      "[0 1 2 3 4 5 6 7 8 9]\n"
     ]
    },
    {
     "data": {
      "text/plain": "[<matplotlib.lines.Line2D at 0x1e4ab8c5350>]"
     },
     "execution_count": 50,
     "metadata": {},
     "output_type": "execute_result"
    },
    {
     "data": {
      "text/plain": "<Figure size 640x480 with 1 Axes>",
      "image/png": "[encoded data removed]"
     },
     "metadata": {},
     "output_type": "display_data"
    },
    {
     "data": {
      "text/plain": "<Figure size 640x480 with 3 Axes>",
      "image/png": "[encoded data removed]"
     },
     "metadata": {},
     "output_type": "display_data"
    }
   ],
   "source": [
    "import matplotlib.pyplot as plt\n",
    "import numpy as np\n",
    "\n",
    "data = np.arange(10)\n",
    "print(data)\n",
    "plt.plot(data)\n",
    "\n",
    "fig = plt.figure()\n",
    "ax1 = fig.add_subplot(2, 2, 1)\n",
    "ax2 = fig.add_subplot(2, 2, 2)\n",
    "ax3 = fig.add_subplot(2, 2, 3)\n",
    "ax1.hist(np.random.randn(100), bins=20, color='r')\n",
    "ax2.scatter(np.arange(30), 3 * np.random.randn(30))\n",
    "ax3.plot(np.random.randn(50))\n",
    "ax3.plot(np.random.randn(50).cumsum(), 'k--')"
   ],
   "metadata": {
    "collapsed": false
   }
  },
  {
   "cell_type": "code",
   "execution_count": null,
   "outputs": [],
   "source": [],
   "metadata": {
    "collapsed": false
   }
  }
 ],
 "metadata": {
  "kernelspec": {
   "display_name": "Python 3 (ipykernel)",
   "language": "python",
   "name": "python3"
  },
  "language_info": {
   "codemirror_mode": {
    "name": "ipython",
    "version": 3
   },
   "file_extension": ".py",
   "mimetype": "text/x-python",
   "name": "python",
   "nbconvert_exporter": "python",
   "pygments_lexer": "ipython3",
   "version": "3.11.2"
  }
 },
 "nbformat": 4,
 "nbformat_minor": 1
}
